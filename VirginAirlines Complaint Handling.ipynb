{
 "cells": [
  {
   "cell_type": "code",
   "execution_count": 60,
   "metadata": {},
   "outputs": [
    {
     "name": "stdout",
     "output_type": "stream",
     "text": [
      "[nltk_data] Downloading package vader_lexicon to\n",
      "[nltk_data]     C:\\Users\\daniel.DESKTOP-\n",
      "[nltk_data]     JL0PCLC\\AppData\\Roaming\\nltk_data...\n",
      "[nltk_data]   Package vader_lexicon is already up-to-date!\n"
     ]
    }
   ],
   "source": [
    "directory = './Tweets.csv/'\n",
    "import pandas as pd\n",
    "import numpy as np\n",
    "from help import *\n",
    "import matplotlib.pyplot as plt\n",
    "%matplotlib inline\n",
    "import seaborn as sb\n",
    "import nltk\n",
    "\n",
    "nltk.download('vader_lexicon')\n",
    "\n",
    "from nltk.sentiment.vader import SentimentIntensityAnalyzer\n",
    "sentiment = SentimentIntensityAnalyzer()"
   ]
  },
  {
   "cell_type": "code",
   "execution_count": 3,
   "metadata": {},
   "outputs": [],
   "source": [
    "twitter = pd.read_csv(directory + 'Tweets.csv')"
   ]
  },
  {
   "cell_type": "code",
   "execution_count": 4,
   "metadata": {},
   "outputs": [
    {
     "data": {
      "text/html": [
       "<div>\n",
       "<style scoped>\n",
       "    .dataframe tbody tr th:only-of-type {\n",
       "        vertical-align: middle;\n",
       "    }\n",
       "\n",
       "    .dataframe tbody tr th {\n",
       "        vertical-align: top;\n",
       "    }\n",
       "\n",
       "    .dataframe thead th {\n",
       "        text-align: right;\n",
       "    }\n",
       "</style>\n",
       "<table border=\"1\" class=\"dataframe\">\n",
       "  <thead>\n",
       "    <tr style=\"text-align: right;\">\n",
       "      <th></th>\n",
       "      <th>tweet_id</th>\n",
       "      <th>airline_sentiment_confidence</th>\n",
       "      <th>negativereason_confidence</th>\n",
       "      <th>retweet_count</th>\n",
       "    </tr>\n",
       "  </thead>\n",
       "  <tbody>\n",
       "    <tr>\n",
       "      <th>count</th>\n",
       "      <td>1.464000e+04</td>\n",
       "      <td>14640.000000</td>\n",
       "      <td>10522.000000</td>\n",
       "      <td>14640.000000</td>\n",
       "    </tr>\n",
       "    <tr>\n",
       "      <th>mean</th>\n",
       "      <td>5.692184e+17</td>\n",
       "      <td>0.900169</td>\n",
       "      <td>0.638298</td>\n",
       "      <td>0.082650</td>\n",
       "    </tr>\n",
       "    <tr>\n",
       "      <th>std</th>\n",
       "      <td>7.791112e+14</td>\n",
       "      <td>0.162830</td>\n",
       "      <td>0.330440</td>\n",
       "      <td>0.745778</td>\n",
       "    </tr>\n",
       "    <tr>\n",
       "      <th>min</th>\n",
       "      <td>5.675883e+17</td>\n",
       "      <td>0.335000</td>\n",
       "      <td>0.000000</td>\n",
       "      <td>0.000000</td>\n",
       "    </tr>\n",
       "    <tr>\n",
       "      <th>25%</th>\n",
       "      <td>5.685592e+17</td>\n",
       "      <td>0.692300</td>\n",
       "      <td>0.360600</td>\n",
       "      <td>0.000000</td>\n",
       "    </tr>\n",
       "    <tr>\n",
       "      <th>50%</th>\n",
       "      <td>5.694779e+17</td>\n",
       "      <td>1.000000</td>\n",
       "      <td>0.670600</td>\n",
       "      <td>0.000000</td>\n",
       "    </tr>\n",
       "    <tr>\n",
       "      <th>75%</th>\n",
       "      <td>5.698905e+17</td>\n",
       "      <td>1.000000</td>\n",
       "      <td>1.000000</td>\n",
       "      <td>0.000000</td>\n",
       "    </tr>\n",
       "    <tr>\n",
       "      <th>max</th>\n",
       "      <td>5.703106e+17</td>\n",
       "      <td>1.000000</td>\n",
       "      <td>1.000000</td>\n",
       "      <td>44.000000</td>\n",
       "    </tr>\n",
       "  </tbody>\n",
       "</table>\n",
       "</div>"
      ],
      "text/plain": [
       "           tweet_id  airline_sentiment_confidence  negativereason_confidence  \\\n",
       "count  1.464000e+04                  14640.000000               10522.000000   \n",
       "mean   5.692184e+17                      0.900169                   0.638298   \n",
       "std    7.791112e+14                      0.162830                   0.330440   \n",
       "min    5.675883e+17                      0.335000                   0.000000   \n",
       "25%    5.685592e+17                      0.692300                   0.360600   \n",
       "50%    5.694779e+17                      1.000000                   0.670600   \n",
       "75%    5.698905e+17                      1.000000                   1.000000   \n",
       "max    5.703106e+17                      1.000000                   1.000000   \n",
       "\n",
       "       retweet_count  \n",
       "count   14640.000000  \n",
       "mean        0.082650  \n",
       "std         0.745778  \n",
       "min         0.000000  \n",
       "25%         0.000000  \n",
       "50%         0.000000  \n",
       "75%         0.000000  \n",
       "max        44.000000  "
      ]
     },
     "execution_count": 4,
     "metadata": {},
     "output_type": "execute_result"
    }
   ],
   "source": [
    "twitter.describe()"
   ]
  },
  {
   "cell_type": "code",
   "execution_count": 6,
   "metadata": {},
   "outputs": [
    {
     "data": {
      "text/html": [
       "<div>\n",
       "<style scoped>\n",
       "    .dataframe tbody tr th:only-of-type {\n",
       "        vertical-align: middle;\n",
       "    }\n",
       "\n",
       "    .dataframe tbody tr th {\n",
       "        vertical-align: top;\n",
       "    }\n",
       "\n",
       "    .dataframe thead th {\n",
       "        text-align: right;\n",
       "    }\n",
       "</style>\n",
       "<table border=\"1\" class=\"dataframe\">\n",
       "  <thead>\n",
       "    <tr style=\"text-align: right;\">\n",
       "      <th></th>\n",
       "      <th>tweet_id</th>\n",
       "      <th>airline_sentiment</th>\n",
       "      <th>airline_sentiment_confidence</th>\n",
       "      <th>negativereason</th>\n",
       "      <th>negativereason_confidence</th>\n",
       "      <th>airline</th>\n",
       "      <th>airline_sentiment_gold</th>\n",
       "      <th>name</th>\n",
       "      <th>negativereason_gold</th>\n",
       "      <th>retweet_count</th>\n",
       "      <th>text</th>\n",
       "      <th>tweet_coord</th>\n",
       "      <th>tweet_created</th>\n",
       "      <th>tweet_location</th>\n",
       "      <th>user_timezone</th>\n",
       "    </tr>\n",
       "  </thead>\n",
       "  <tbody>\n",
       "    <tr>\n",
       "      <th>0</th>\n",
       "      <td>570306133677760513</td>\n",
       "      <td>neutral</td>\n",
       "      <td>1.0000</td>\n",
       "      <td>NaN</td>\n",
       "      <td>NaN</td>\n",
       "      <td>Virgin America</td>\n",
       "      <td>NaN</td>\n",
       "      <td>cairdin</td>\n",
       "      <td>NaN</td>\n",
       "      <td>0</td>\n",
       "      <td>@VirginAmerica What @dhepburn said.</td>\n",
       "      <td>NaN</td>\n",
       "      <td>2015-02-24 11:35:52 -0800</td>\n",
       "      <td>NaN</td>\n",
       "      <td>Eastern Time (US &amp; Canada)</td>\n",
       "    </tr>\n",
       "    <tr>\n",
       "      <th>1</th>\n",
       "      <td>570301130888122368</td>\n",
       "      <td>positive</td>\n",
       "      <td>0.3486</td>\n",
       "      <td>NaN</td>\n",
       "      <td>0.0000</td>\n",
       "      <td>Virgin America</td>\n",
       "      <td>NaN</td>\n",
       "      <td>jnardino</td>\n",
       "      <td>NaN</td>\n",
       "      <td>0</td>\n",
       "      <td>@VirginAmerica plus you've added commercials t...</td>\n",
       "      <td>NaN</td>\n",
       "      <td>2015-02-24 11:15:59 -0800</td>\n",
       "      <td>NaN</td>\n",
       "      <td>Pacific Time (US &amp; Canada)</td>\n",
       "    </tr>\n",
       "    <tr>\n",
       "      <th>2</th>\n",
       "      <td>570301083672813571</td>\n",
       "      <td>neutral</td>\n",
       "      <td>0.6837</td>\n",
       "      <td>NaN</td>\n",
       "      <td>NaN</td>\n",
       "      <td>Virgin America</td>\n",
       "      <td>NaN</td>\n",
       "      <td>yvonnalynn</td>\n",
       "      <td>NaN</td>\n",
       "      <td>0</td>\n",
       "      <td>@VirginAmerica I didn't today... Must mean I n...</td>\n",
       "      <td>NaN</td>\n",
       "      <td>2015-02-24 11:15:48 -0800</td>\n",
       "      <td>Lets Play</td>\n",
       "      <td>Central Time (US &amp; Canada)</td>\n",
       "    </tr>\n",
       "    <tr>\n",
       "      <th>3</th>\n",
       "      <td>570301031407624196</td>\n",
       "      <td>negative</td>\n",
       "      <td>1.0000</td>\n",
       "      <td>Bad Flight</td>\n",
       "      <td>0.7033</td>\n",
       "      <td>Virgin America</td>\n",
       "      <td>NaN</td>\n",
       "      <td>jnardino</td>\n",
       "      <td>NaN</td>\n",
       "      <td>0</td>\n",
       "      <td>@VirginAmerica it's really aggressive to blast...</td>\n",
       "      <td>NaN</td>\n",
       "      <td>2015-02-24 11:15:36 -0800</td>\n",
       "      <td>NaN</td>\n",
       "      <td>Pacific Time (US &amp; Canada)</td>\n",
       "    </tr>\n",
       "    <tr>\n",
       "      <th>4</th>\n",
       "      <td>570300817074462722</td>\n",
       "      <td>negative</td>\n",
       "      <td>1.0000</td>\n",
       "      <td>Can't Tell</td>\n",
       "      <td>1.0000</td>\n",
       "      <td>Virgin America</td>\n",
       "      <td>NaN</td>\n",
       "      <td>jnardino</td>\n",
       "      <td>NaN</td>\n",
       "      <td>0</td>\n",
       "      <td>@VirginAmerica and it's a really big bad thing...</td>\n",
       "      <td>NaN</td>\n",
       "      <td>2015-02-24 11:14:45 -0800</td>\n",
       "      <td>NaN</td>\n",
       "      <td>Pacific Time (US &amp; Canada)</td>\n",
       "    </tr>\n",
       "  </tbody>\n",
       "</table>\n",
       "</div>"
      ],
      "text/plain": [
       "             tweet_id airline_sentiment  airline_sentiment_confidence  \\\n",
       "0  570306133677760513           neutral                        1.0000   \n",
       "1  570301130888122368          positive                        0.3486   \n",
       "2  570301083672813571           neutral                        0.6837   \n",
       "3  570301031407624196          negative                        1.0000   \n",
       "4  570300817074462722          negative                        1.0000   \n",
       "\n",
       "  negativereason  negativereason_confidence         airline  \\\n",
       "0            NaN                        NaN  Virgin America   \n",
       "1            NaN                     0.0000  Virgin America   \n",
       "2            NaN                        NaN  Virgin America   \n",
       "3     Bad Flight                     0.7033  Virgin America   \n",
       "4     Can't Tell                     1.0000  Virgin America   \n",
       "\n",
       "  airline_sentiment_gold        name negativereason_gold  retweet_count  \\\n",
       "0                    NaN     cairdin                 NaN              0   \n",
       "1                    NaN    jnardino                 NaN              0   \n",
       "2                    NaN  yvonnalynn                 NaN              0   \n",
       "3                    NaN    jnardino                 NaN              0   \n",
       "4                    NaN    jnardino                 NaN              0   \n",
       "\n",
       "                                                text tweet_coord  \\\n",
       "0                @VirginAmerica What @dhepburn said.         NaN   \n",
       "1  @VirginAmerica plus you've added commercials t...         NaN   \n",
       "2  @VirginAmerica I didn't today... Must mean I n...         NaN   \n",
       "3  @VirginAmerica it's really aggressive to blast...         NaN   \n",
       "4  @VirginAmerica and it's a really big bad thing...         NaN   \n",
       "\n",
       "               tweet_created tweet_location               user_timezone  \n",
       "0  2015-02-24 11:35:52 -0800            NaN  Eastern Time (US & Canada)  \n",
       "1  2015-02-24 11:15:59 -0800            NaN  Pacific Time (US & Canada)  \n",
       "2  2015-02-24 11:15:48 -0800      Lets Play  Central Time (US & Canada)  \n",
       "3  2015-02-24 11:15:36 -0800            NaN  Pacific Time (US & Canada)  \n",
       "4  2015-02-24 11:14:45 -0800            NaN  Pacific Time (US & Canada)  "
      ]
     },
     "execution_count": 6,
     "metadata": {},
     "output_type": "execute_result"
    }
   ],
   "source": [
    "twitter.head(5)"
   ]
  },
  {
   "cell_type": "code",
   "execution_count": 7,
   "metadata": {},
   "outputs": [
    {
     "data": {
      "text/plain": [
       "negative    9178\n",
       "neutral     3099\n",
       "positive    2363\n",
       "Name: airline_sentiment, dtype: int64"
      ]
     },
     "execution_count": 7,
     "metadata": {},
     "output_type": "execute_result"
    }
   ],
   "source": [
    "twitter['airline_sentiment'].value_counts()"
   ]
  },
  {
   "cell_type": "code",
   "execution_count": 13,
   "metadata": {},
   "outputs": [
    {
     "data": {
      "text/plain": [
       "<matplotlib.axes._subplots.AxesSubplot at 0x224dbe4c278>"
      ]
     },
     "execution_count": 13,
     "metadata": {},
     "output_type": "execute_result"
    },
    {
     "data": {
      "image/png": "[encoded data removed]",
      "text/plain": [
       "<matplotlib.figure.Figure at 0x224c7ceceb8>"
      ]
     },
     "metadata": {},
     "output_type": "display_data"
    }
   ],
   "source": [
    "twitter['airline_sentiment'].value_counts().plot.bar()"
   ]
  },
  {
   "cell_type": "code",
   "execution_count": 42,
   "metadata": {},
   "outputs": [],
   "source": [
    "twitter['Proposed_Sentiment'] = twitter['text'].apply(lambda x: sentiment.polarity_scores(x)['compound'])"
   ]
  },
  {
   "cell_type": "code",
   "execution_count": 45,
   "metadata": {},
   "outputs": [
    {
     "data": {
      "text/plain": [
       "<matplotlib.axes._subplots.AxesSubplot at 0x224dd7a4320>"
      ]
     },
     "execution_count": 45,
     "metadata": {},
     "output_type": "execute_result"
    },
    {
     "data": {
      "image/png": "[encoded data removed]",
      "text/plain": [
       "<matplotlib.figure.Figure at 0x224dd7c74e0>"
      ]
     },
     "metadata": {},
     "output_type": "display_data"
    }
   ],
   "source": [
    "twitter['Proposed_Sentiment'].plot.hist()"
   ]
  },
  {
   "cell_type": "code",
   "execution_count": 52,
   "metadata": {},
   "outputs": [
    {
     "name": "stderr",
     "output_type": "stream",
     "text": [
      "C:\\Anaconda\\lib\\site-packages\\pandas\\core\\indexing.py:194: SettingWithCopyWarning: \n",
      "A value is trying to be set on a copy of a slice from a DataFrame\n",
      "\n",
      "See the caveats in the documentation: http://pandas.pydata.org/pandas-docs/stable/indexing.html#indexing-view-versus-copy\n",
      "  self._setitem_with_indexer(indexer, value)\n"
     ]
    }
   ],
   "source": [
    "twitter['Proposed_Sentiment_Classes'] = (twitter['Proposed_Sentiment'] == 0).replace({True:'Neutral'})\n",
    "twitter['Proposed_Sentiment_Classes'].loc[twitter['Proposed_Sentiment'] < 0] = 'Negative'\n",
    "twitter['Proposed_Sentiment_Classes'].loc[twitter['Proposed_Sentiment'] > 0] = 'Positive'"
   ]
  },
  {
   "cell_type": "code",
   "execution_count": 56,
   "metadata": {},
   "outputs": [
    {
     "data": {
      "text/plain": [
       "<matplotlib.axes._subplots.AxesSubplot at 0x224dd7a4240>"
      ]
     },
     "execution_count": 56,
     "metadata": {},
     "output_type": "execute_result"
    },
    {
     "data": {
      "image/png": "[encoded data removed]",
      "text/plain": [
       "<matplotlib.figure.Figure at 0x224dd5b0b00>"
      ]
     },
     "metadata": {},
     "output_type": "display_data"
    }
   ],
   "source": [
    "twitter['Proposed_Sentiment_Classes'].value_counts().plot.bar()"
   ]
  },
  {
   "cell_type": "code",
   "execution_count": 65,
   "metadata": {},
   "outputs": [],
   "source": [
    "from sklearn.feature_extraction.text import CountVectorizer\n",
    "\n",
    "counter = CountVectorizer()\n",
    "counter.fit(twitter['text'].values)\n",
    "\n",
    "counted_bag_of_words = counter.transform(twitter['text'].values)"
   ]
  },
  {
   "cell_type": "code",
   "execution_count": 69,
   "metadata": {},
   "outputs": [],
   "source": [
    "twitter['Y'] = twitter['airline_sentiment'].replace({'neutral':0, 'negative':-1, 'positive':1})"
   ]
  },
  {
   "cell_type": "code",
   "execution_count": 98,
   "metadata": {},
   "outputs": [
    {
     "data": {
      "text/plain": [
       "0.5465163934426229"
      ]
     },
     "execution_count": 98,
     "metadata": {},
     "output_type": "execute_result"
    }
   ],
   "source": [
    "sum(twitter['Proposed_Sentiment_Classes'].str.lower() == twitter['airline_sentiment']) / len(twitter['airline_sentiment'])"
   ]
  },
  {
   "cell_type": "code",
   "execution_count": 71,
   "metadata": {},
   "outputs": [
    {
     "data": {
      "text/plain": [
       "LinearRegression(copy_X=True, fit_intercept=True, n_jobs=1, normalize=False)"
      ]
     },
     "execution_count": 71,
     "metadata": {},
     "output_type": "execute_result"
    }
   ],
   "source": [
    "from sklearn.linear_model import LinearRegression\n",
    "\n",
    "model = LinearRegression()\n",
    "\n",
    "model.fit(counted_bag_of_words, twitter['Y'])"
   ]
  },
  {
   "cell_type": "code",
   "execution_count": 73,
   "metadata": {},
   "outputs": [
    {
     "data": {
      "text/plain": [
       "array([ 0.,  1.,  0., ...,  0., -1., -0.])"
      ]
     },
     "execution_count": 73,
     "metadata": {},
     "output_type": "execute_result"
    }
   ],
   "source": [
    "np.round(model.predict(counted_bag_of_words))"
   ]
  },
  {
   "cell_type": "code",
   "execution_count": 75,
   "metadata": {},
   "outputs": [
    {
     "data": {
      "text/plain": [
       "3812      True\n",
       "10472     True\n",
       "2609      True\n",
       "12957     True\n",
       "296       True\n",
       "3662     False\n",
       "8812      True\n",
       "9815      True\n",
       "3847      True\n",
       "3247      True\n",
       "Name: Y, dtype: bool"
      ]
     },
     "execution_count": 75,
     "metadata": {},
     "output_type": "execute_result"
    }
   ],
   "source": [
    "(np.round(model.predict(counted_bag_of_words)) == twitter['Y']).sample(10)"
   ]
  },
  {
   "cell_type": "code",
   "execution_count": 77,
   "metadata": {},
   "outputs": [
    {
     "data": {
      "text/plain": [
       "0.9340846994535519"
      ]
     },
     "execution_count": 77,
     "metadata": {},
     "output_type": "execute_result"
    }
   ],
   "source": [
    "sum(np.round(model.predict(counted_bag_of_words)) == twitter['Y'])   / len(twitter['Y'])"
   ]
  },
  {
   "cell_type": "code",
   "execution_count": 78,
   "metadata": {},
   "outputs": [],
   "source": [
    "from sklearn.model_selection import train_test_split as holdout\n",
    "\n",
    "x_train, x_test, y_train, y_test = holdout(counted_bag_of_words, twitter['Y'], test_size = 0.3, random_state = 0)"
   ]
  },
  {
   "cell_type": "code",
   "execution_count": 79,
   "metadata": {},
   "outputs": [
    {
     "data": {
      "text/plain": [
       "LinearRegression(copy_X=True, fit_intercept=True, n_jobs=1, normalize=False)"
      ]
     },
     "execution_count": 79,
     "metadata": {},
     "output_type": "execute_result"
    }
   ],
   "source": [
    "model.fit(x_train, y_train)"
   ]
  },
  {
   "cell_type": "code",
   "execution_count": 84,
   "metadata": {},
   "outputs": [
    {
     "data": {
      "text/plain": [
       "0.9603825136612022"
      ]
     },
     "execution_count": 84,
     "metadata": {},
     "output_type": "execute_result"
    }
   ],
   "source": [
    "sum(np.round(model.predict(x_train)) == y_train)   / len(y_train)"
   ]
  },
  {
   "cell_type": "code",
   "execution_count": 85,
   "metadata": {},
   "outputs": [
    {
     "data": {
      "text/plain": [
       "0.3638433515482696"
      ]
     },
     "execution_count": 85,
     "metadata": {},
     "output_type": "execute_result"
    }
   ],
   "source": [
    "sum(np.round(model.predict(x_test)) == y_test)   / len(y_test)"
   ]
  },
  {
   "cell_type": "code",
   "execution_count": 90,
   "metadata": {},
   "outputs": [],
   "source": [
    "from sklearn.linear_model import LogisticRegression\n",
    "\n",
    "model_log = LogisticRegression(multi_class = 'multinomial', solver = 'lbfgs')"
   ]
  },
  {
   "cell_type": "code",
   "execution_count": 91,
   "metadata": {},
   "outputs": [
    {
     "data": {
      "text/plain": [
       "0.9584309133489461"
      ]
     },
     "execution_count": 91,
     "metadata": {},
     "output_type": "execute_result"
    }
   ],
   "source": [
    "model_log.fit(x_train, y_train)\n",
    "sum(np.round(model_log.predict(x_train)) == y_train)   / len(y_train)"
   ]
  },
  {
   "cell_type": "code",
   "execution_count": 92,
   "metadata": {},
   "outputs": [
    {
     "data": {
      "text/plain": [
       "0.7953096539162113"
      ]
     },
     "execution_count": 92,
     "metadata": {},
     "output_type": "execute_result"
    }
   ],
   "source": [
    "sum(np.round(model_log.predict(x_test)) == y_test)   / len(y_test)"
   ]
  },
  {
   "cell_type": "code",
   "execution_count": 104,
   "metadata": {},
   "outputs": [
    {
     "data": {
      "text/plain": [
       "array([0, 1, 0, ..., 0, 0, 1], dtype=int64)"
      ]
     },
     "execution_count": 104,
     "metadata": {},
     "output_type": "execute_result"
    }
   ],
   "source": [
    "np.argmax(model_log.predict_proba(x_test), 1)"
   ]
  },
  {
   "cell_type": "code",
   "execution_count": 116,
   "metadata": {},
   "outputs": [
    {
     "data": {
      "text/plain": [
       "array([-1,  0, -1, ..., -1, -1,  0], dtype=int64)"
      ]
     },
     "execution_count": 116,
     "metadata": {},
     "output_type": "execute_result"
    }
   ],
   "source": [
    "model_log.predict(x_test)"
   ]
  },
  {
   "cell_type": "code",
   "execution_count": 158,
   "metadata": {},
   "outputs": [
    {
     "data": {
      "text/plain": [
       "array([[9.82754691e-01, 1.15711941e-02, 5.67411489e-03],\n",
       "       [2.87465029e-01, 7.04531819e-01, 8.00315234e-03],\n",
       "       [9.77038924e-01, 1.93304588e-02, 3.63061685e-03],\n",
       "       [1.93593137e-01, 7.88695903e-01, 1.77109595e-02],\n",
       "       [4.20832291e-01, 3.62714023e-02, 5.42896306e-01],\n",
       "       [2.39014536e-01, 7.42777952e-01, 1.82075123e-02],\n",
       "       [2.49896619e-01, 6.79255609e-01, 7.08477719e-02],\n",
       "       [9.95192929e-01, 3.50790978e-03, 1.29916106e-03],\n",
       "       [9.88870632e-01, 1.02354155e-02, 8.93952313e-04],\n",
       "       [9.99825829e-01, 1.66429036e-04, 7.74208890e-06]])"
      ]
     },
     "execution_count": 158,
     "metadata": {},
     "output_type": "execute_result"
    }
   ],
   "source": [
    "model_log.predict_proba(x_test)[0:10]"
   ]
  },
  {
   "cell_type": "code",
   "execution_count": 157,
   "metadata": {},
   "outputs": [
    {
     "data": {
      "text/plain": [
       "matrix([[-0.97708058],\n",
       "        [-0.27946188],\n",
       "        [-0.97340831],\n",
       "        ...,\n",
       "        [-0.99935311],\n",
       "        [-0.70335745],\n",
       "        [ 0.03854431]])"
      ]
     },
     "execution_count": 157,
     "metadata": {},
     "output_type": "execute_result"
    }
   ],
   "source": [
    "model_log.predict_proba(x_test) * np.matrix([-1,0,1]).T[0:10]"
   ]
  },
  {
   "cell_type": "code",
   "execution_count": 118,
   "metadata": {},
   "outputs": [],
   "source": [
    "result = model_log.predict_proba(x_test) * np.matrix([-1,0,1]).T"
   ]
  },
  {
   "cell_type": "code",
   "execution_count": 150,
   "metadata": {},
   "outputs": [
    {
     "data": {
      "text/plain": [
       "13983     True\n",
       "14484    False\n",
       "6403      True\n",
       "9653     False\n",
       "13268    False\n",
       "2384      True\n",
       "9613     False\n",
       "11612     True\n",
       "9252      True\n",
       "13923     True\n",
       "Name: Y, dtype: bool"
      ]
     },
     "execution_count": 150,
     "metadata": {},
     "output_type": "execute_result"
    }
   ],
   "source": [
    "(np.array((np.round(result).T))[0] == y_test).head(10)"
   ]
  },
  {
   "cell_type": "code",
   "execution_count": 152,
   "metadata": {},
   "outputs": [
    {
     "data": {
      "text/plain": [
       "0.7657103825136612"
      ]
     },
     "execution_count": 152,
     "metadata": {},
     "output_type": "execute_result"
    }
   ],
   "source": [
    "(np.array((np.round(result).T))[0] == y_test).sum() / len(y_test)"
   ]
  },
  {
   "cell_type": "code",
   "execution_count": 154,
   "metadata": {},
   "outputs": [],
   "source": [
    "train_result = model_log.predict_proba(x_train) * np.matrix([-1,0,1]).T"
   ]
  },
  {
   "cell_type": "code",
   "execution_count": 156,
   "metadata": {},
   "outputs": [
    {
     "data": {
      "text/plain": [
       "matrix([[ 0.37044867],\n",
       "        [-0.98596526],\n",
       "        [-0.99996566],\n",
       "        [-0.93390129],\n",
       "        [-0.01131766],\n",
       "        [-0.86012213],\n",
       "        [-0.99524993],\n",
       "        [ 0.58936745],\n",
       "        [ 0.43645904],\n",
       "        [-0.98581392]])"
      ]
     },
     "execution_count": 156,
     "metadata": {},
     "output_type": "execute_result"
    }
   ],
   "source": [
    "train_result[0:10]"
   ]
  },
  {
   "cell_type": "code",
   "execution_count": 163,
   "metadata": {},
   "outputs": [
    {
     "data": {
      "text/plain": [
       "12647    @AmericanAir no space in my seat but thanks to...\n",
       "3652     @united A change fee of $200. Same exact fligh...\n",
       "11570    @USAirways Worst experience ever. Unable 2 hel...\n",
       "1278     @United how is it that I book a flight with a ...\n",
       "6052                    @SouthwestAir okay just signed up!\n",
       "12465    @AmericanAir yes it is in Dulles and I need it...\n",
       "10408    @USAirways From here on out when I can at all ...\n",
       "3658     @united \\nI will admit, you've been rather goo...\n",
       "1855     @united just touched down in Miami - not too f...\n",
       "9369     @USAirways Thanks but when I asked for a chang...\n",
       "Name: text, dtype: object"
      ]
     },
     "execution_count": 163,
     "metadata": {},
     "output_type": "execute_result"
    }
   ],
   "source": [
    "twitter['text'].loc[y_train.index].head(10)"
   ]
  },
  {
   "cell_type": "code",
   "execution_count": 178,
   "metadata": {},
   "outputs": [
    {
     "data": {
      "text/html": [
       "<div>\n",
       "<style scoped>\n",
       "    .dataframe tbody tr th:only-of-type {\n",
       "        vertical-align: middle;\n",
       "    }\n",
       "\n",
       "    .dataframe tbody tr th {\n",
       "        vertical-align: top;\n",
       "    }\n",
       "\n",
       "    .dataframe thead th {\n",
       "        text-align: right;\n",
       "    }\n",
       "</style>\n",
       "<table border=\"1\" class=\"dataframe\">\n",
       "  <thead>\n",
       "    <tr style=\"text-align: right;\">\n",
       "      <th></th>\n",
       "      <th>text</th>\n",
       "      <th>tweet_created</th>\n",
       "    </tr>\n",
       "  </thead>\n",
       "  <tbody>\n",
       "    <tr>\n",
       "      <th>13123</th>\n",
       "      <td>@AmericanAir followback</td>\n",
       "      <td>2015-02-23 10:58:58 -0800</td>\n",
       "    </tr>\n",
       "    <tr>\n",
       "      <th>3264</th>\n",
       "      <td>@united thanks for the help. Wish the phone re...</td>\n",
       "      <td>2015-02-19 16:13:17 -0800</td>\n",
       "    </tr>\n",
       "    <tr>\n",
       "      <th>9845</th>\n",
       "      <td>@usairways the. Worst. Ever. #dca #customerser...</td>\n",
       "      <td>2015-02-22 15:43:24 -0800</td>\n",
       "    </tr>\n",
       "    <tr>\n",
       "      <th>10799</th>\n",
       "      <td>@nrhodes85: look! Another apology. DO NOT FLY ...</td>\n",
       "      <td>2015-02-20 12:09:15 -0800</td>\n",
       "    </tr>\n",
       "    <tr>\n",
       "      <th>2732</th>\n",
       "      <td>@united you are by far the worst airline. 4 pl...</td>\n",
       "      <td>2015-02-20 16:24:49 -0800</td>\n",
       "    </tr>\n",
       "  </tbody>\n",
       "</table>\n",
       "</div>"
      ],
      "text/plain": [
       "                                                    text  \\\n",
       "13123                            @AmericanAir followback   \n",
       "3264   @united thanks for the help. Wish the phone re...   \n",
       "9845   @usairways the. Worst. Ever. #dca #customerser...   \n",
       "10799  @nrhodes85: look! Another apology. DO NOT FLY ...   \n",
       "2732   @united you are by far the worst airline. 4 pl...   \n",
       "\n",
       "                   tweet_created  \n",
       "13123  2015-02-23 10:58:58 -0800  \n",
       "3264   2015-02-19 16:13:17 -0800  \n",
       "9845   2015-02-22 15:43:24 -0800  \n",
       "10799  2015-02-20 12:09:15 -0800  \n",
       "2732   2015-02-20 16:24:49 -0800  "
      ]
     },
     "execution_count": 178,
     "metadata": {},
     "output_type": "execute_result"
    }
   ],
   "source": [
    "complaint_rank = pd.DataFrame(twitter['text'].loc[y_train.index])\n",
    "complaint_rank['tweet_created'] = twitter['tweet_created'].loc[y_train.index]\n",
    "complaint_rank.tail(5)"
   ]
  },
  {
   "cell_type": "code",
   "execution_count": 179,
   "metadata": {},
   "outputs": [],
   "source": [
    "complaint_rank['sentiment'] = train_result"
   ]
  },
  {
   "cell_type": "code",
   "execution_count": 180,
   "metadata": {},
   "outputs": [
    {
     "data": {
      "text/plain": [
       "<matplotlib.axes._subplots.AxesSubplot at 0x224df22a550>"
      ]
     },
     "execution_count": 180,
     "metadata": {},
     "output_type": "execute_result"
    },
    {
     "data": {
      "image/png": "[encoded data removed]",
      "text/plain": [
       "<matplotlib.figure.Figure at 0x224dfb21f28>"
      ]
     },
     "metadata": {},
     "output_type": "display_data"
    }
   ],
   "source": [
    "complaint_rank['sentiment'].plot.hist()"
   ]
  },
  {
   "cell_type": "code",
   "execution_count": 181,
   "metadata": {},
   "outputs": [
    {
     "data": {
      "text/plain": [
       "1214    -1.000000\n",
       "13587   -1.000000\n",
       "9740    -1.000000\n",
       "10249   -1.000000\n",
       "11265   -1.000000\n",
       "1374    -0.999999\n",
       "13708   -0.999999\n",
       "912     -0.999999\n",
       "13986   -0.999999\n",
       "13071   -0.999999\n",
       "Name: sentiment, dtype: float64"
      ]
     },
     "execution_count": 181,
     "metadata": {},
     "output_type": "execute_result"
    }
   ],
   "source": [
    "complaint_rank['sentiment'].sort_values()[0:10]"
   ]
  },
  {
   "cell_type": "code",
   "execution_count": 183,
   "metadata": {},
   "outputs": [],
   "source": [
    "complaint_rank.sort_values(by = 'sentiment', inplace = True)"
   ]
  },
  {
   "cell_type": "code",
   "execution_count": 209,
   "metadata": {},
   "outputs": [
    {
     "data": {
      "text/html": [
       "<style  type=\"text/css\" >\n",
       "    #T_d05bec48_14bc_11e8_a135_b8ac6f9f4593row0_col2 {\n",
       "            width:  10em;\n",
       "             height:  80%;\n",
       "            background:  linear-gradient(90deg, transparent 0%, transparent -0.0%, red -0.0%, red 50.0%, transparent 50.0%);\n",
       "        }    #T_d05bec48_14bc_11e8_a135_b8ac6f9f4593row1_col2 {\n",
       "            width:  10em;\n",
       "             height:  80%;\n",
       "            background:  linear-gradient(90deg, transparent 0%, transparent 0.0%, red 0.0%, red 50.0%, transparent 50.0%);\n",
       "        }    #T_d05bec48_14bc_11e8_a135_b8ac6f9f4593row2_col2 {\n",
       "            width:  10em;\n",
       "             height:  80%;\n",
       "            background:  linear-gradient(90deg, transparent 0%, transparent 0.0%, red 0.0%, red 50.0%, transparent 50.0%);\n",
       "        }    #T_d05bec48_14bc_11e8_a135_b8ac6f9f4593row3_col2 {\n",
       "            width:  10em;\n",
       "             height:  80%;\n",
       "            background:  linear-gradient(90deg, transparent 0%, transparent 0.0%, red 0.0%, red 50.0%, transparent 50.0%);\n",
       "        }    #T_d05bec48_14bc_11e8_a135_b8ac6f9f4593row4_col2 {\n",
       "            width:  10em;\n",
       "             height:  80%;\n",
       "            background:  linear-gradient(90deg, transparent 0%, transparent 8.7%, red 8.7%, red 50.0%, transparent 50.0%);\n",
       "        }    #T_d05bec48_14bc_11e8_a135_b8ac6f9f4593row5_col2 {\n",
       "            width:  10em;\n",
       "             height:  80%;\n",
       "            background:  linear-gradient(90deg, transparent 0%, transparent 20.1%, red 20.1%, red 50.0%, transparent 50.0%);\n",
       "        }    #T_d05bec48_14bc_11e8_a135_b8ac6f9f4593row6_col2 {\n",
       "            width:  10em;\n",
       "             height:  80%;\n",
       "            background:  linear-gradient(90deg, transparent 0%, transparent 42.0%, red 42.0%, red 50.0%, transparent 50.0%);\n",
       "        }    #T_d05bec48_14bc_11e8_a135_b8ac6f9f4593row7_col2 {\n",
       "            width:  10em;\n",
       "             height:  80%;\n",
       "            background:  linear-gradient(90deg, transparent 0%, transparent 49.9%, red 49.9%, red 50.0%, transparent 50.0%);\n",
       "        }    #T_d05bec48_14bc_11e8_a135_b8ac6f9f4593row8_col2 {\n",
       "            width:  10em;\n",
       "             height:  80%;\n",
       "            background:  linear-gradient(90deg, transparent 0%, transparent 50.0%, green 50.0%, green 78.9%, transparent 78.9%);\n",
       "        }    #T_d05bec48_14bc_11e8_a135_b8ac6f9f4593row9_col2 {\n",
       "            width:  10em;\n",
       "             height:  80%;\n",
       "            background:  linear-gradient(90deg, transparent 0%, transparent 50.0%, green 50.0%, green 98.4%, transparent 98.4%);\n",
       "        }    #T_d05bec48_14bc_11e8_a135_b8ac6f9f4593row10_col2 {\n",
       "            width:  10em;\n",
       "             height:  80%;\n",
       "            background:  linear-gradient(90deg, transparent 0%, transparent 50.0%, green 50.0%, green 100.0%, transparent 100.0%);\n",
       "        }</style>  \n",
       "<table id=\"T_d05bec48_14bc_11e8_a135_b8ac6f9f4593\" > \n",
       "<thead>    <tr> \n",
       "        <th class=\"blank level0\" ></th> \n",
       "        <th class=\"col_heading level0 col0\" >text</th> \n",
       "        <th class=\"col_heading level0 col1\" >tweet_created</th> \n",
       "        <th class=\"col_heading level0 col2\" >sentiment</th> \n",
       "    </tr></thead> \n",
       "<tbody>    <tr> \n",
       "        <th id=\"T_d05bec48_14bc_11e8_a135_b8ac6f9f4593level0_row0\" class=\"row_heading level0 row0\" >1214</th> \n",
       "        <td id=\"T_d05bec48_14bc_11e8_a135_b8ac6f9f4593row0_col0\" class=\"data row0 col0\" >@united is the worst. Worst reservation policies. Worst costumer service. Worst worst worst. Congrats, @Delta you're not that bad!</td> \n",
       "        <td id=\"T_d05bec48_14bc_11e8_a135_b8ac6f9f4593row0_col1\" class=\"data row0 col1\" >2015-02-23 07:31:10 -0800</td> \n",
       "        <td id=\"T_d05bec48_14bc_11e8_a135_b8ac6f9f4593row0_col2\" class=\"data row0 col2\" >-1</td> \n",
       "    </tr>    <tr> \n",
       "        <th id=\"T_d05bec48_14bc_11e8_a135_b8ac6f9f4593level0_row1\" class=\"row_heading level0 row1\" >13587</th> \n",
       "        <td id=\"T_d05bec48_14bc_11e8_a135_b8ac6f9f4593row1_col0\" class=\"data row1 col0\" >@AmericanAir not only did you Cancelled Flight our flight from JFK and delay us by 29 hours, you've now lost 2 of our bags. Worst airline ever.</td> \n",
       "        <td id=\"T_d05bec48_14bc_11e8_a135_b8ac6f9f4593row1_col1\" class=\"data row1 col1\" >2015-02-23 03:15:29 -0800</td> \n",
       "        <td id=\"T_d05bec48_14bc_11e8_a135_b8ac6f9f4593row1_col2\" class=\"data row1 col2\" >-1</td> \n",
       "    </tr>    <tr> \n",
       "        <th id=\"T_d05bec48_14bc_11e8_a135_b8ac6f9f4593level0_row2\" class=\"row_heading level0 row2\" >10249</th> \n",
       "        <td id=\"T_d05bec48_14bc_11e8_a135_b8ac6f9f4593row2_col0\" class=\"data row2 col0\" >@USAirways worst experience with you. Cancelled Flightled flight, no voucher and no luggage because \"ramp was broken.\" No other ramps in Charlotte??</td> \n",
       "        <td id=\"T_d05bec48_14bc_11e8_a135_b8ac6f9f4593row2_col1\" class=\"data row2 col1\" >2015-02-22 03:30:44 -0800</td> \n",
       "        <td id=\"T_d05bec48_14bc_11e8_a135_b8ac6f9f4593row2_col2\" class=\"data row2 col2\" >-1</td> \n",
       "    </tr>    <tr> \n",
       "        <th id=\"T_d05bec48_14bc_11e8_a135_b8ac6f9f4593level0_row3\" class=\"row_heading level0 row3\" >1374</th> \n",
       "        <td id=\"T_d05bec48_14bc_11e8_a135_b8ac6f9f4593row3_col0\" class=\"data row3 col0\" >@united after a Cancelled Flighted flight, and 2 delays, you lost my luggage AGAIN! You're the WORST! Disgraceful! Awful company, horrible service!</td> \n",
       "        <td id=\"T_d05bec48_14bc_11e8_a135_b8ac6f9f4593row3_col1\" class=\"data row3 col1\" >2015-02-22 22:52:01 -0800</td> \n",
       "        <td id=\"T_d05bec48_14bc_11e8_a135_b8ac6f9f4593row3_col2\" class=\"data row3 col2\" >-0.999999</td> \n",
       "    </tr>    <tr> \n",
       "        <th id=\"T_d05bec48_14bc_11e8_a135_b8ac6f9f4593level0_row4\" class=\"row_heading level0 row4\" >12818</th> \n",
       "        <td id=\"T_d05bec48_14bc_11e8_a135_b8ac6f9f4593row4_col0\" class=\"data row4 col0\" >@AmericanAir I bought a plane ticket 2 months ago and still haven't received my flight info and ticket in my email when it will come?</td> \n",
       "        <td id=\"T_d05bec48_14bc_11e8_a135_b8ac6f9f4593row4_col1\" class=\"data row4 col1\" >2015-02-23 15:55:12 -0800</td> \n",
       "        <td id=\"T_d05bec48_14bc_11e8_a135_b8ac6f9f4593row4_col2\" class=\"data row4 col2\" >-0.825278</td> \n",
       "    </tr>    <tr> \n",
       "        <th id=\"T_d05bec48_14bc_11e8_a135_b8ac6f9f4593level0_row5\" class=\"row_heading level0 row5\" >6813</th> \n",
       "        <td id=\"T_d05bec48_14bc_11e8_a135_b8ac6f9f4593row5_col0\" class=\"data row5 col0\" >@JetBlue Thank you for credits. However; I submitted complaints about the property on vacation package. Hope you listen!</td> \n",
       "        <td id=\"T_d05bec48_14bc_11e8_a135_b8ac6f9f4593row5_col1\" class=\"data row5 col1\" >2015-02-24 07:05:38 -0800</td> \n",
       "        <td id=\"T_d05bec48_14bc_11e8_a135_b8ac6f9f4593row5_col2\" class=\"data row5 col2\" >-0.597935</td> \n",
       "    </tr>    <tr> \n",
       "        <th id=\"T_d05bec48_14bc_11e8_a135_b8ac6f9f4593level0_row6\" class=\"row_heading level0 row6\" >7020</th> \n",
       "        <td id=\"T_d05bec48_14bc_11e8_a135_b8ac6f9f4593row6_col0\" class=\"data row6 col0\" >NO“@JetBlue: Our fleet's on fleek. http://t.co/UgFCKErmrW”</td> \n",
       "        <td id=\"T_d05bec48_14bc_11e8_a135_b8ac6f9f4593row6_col1\" class=\"data row6 col1\" >2015-02-23 12:12:39 -0800</td> \n",
       "        <td id=\"T_d05bec48_14bc_11e8_a135_b8ac6f9f4593row6_col2\" class=\"data row6 col2\" >-0.159743</td> \n",
       "    </tr>    <tr> \n",
       "        <th id=\"T_d05bec48_14bc_11e8_a135_b8ac6f9f4593level0_row7\" class=\"row_heading level0 row7\" >4735</th> \n",
       "        <td id=\"T_d05bec48_14bc_11e8_a135_b8ac6f9f4593row7_col0\" class=\"data row7 col0\" >@SouthwestAir to start 2xdaily #B737-700 flights from #OrangeCounty to #Portland OR on 8AUG #avgeek</td> \n",
       "        <td id=\"T_d05bec48_14bc_11e8_a135_b8ac6f9f4593row7_col1\" class=\"data row7 col1\" >2015-02-23 08:03:38 -0800</td> \n",
       "        <td id=\"T_d05bec48_14bc_11e8_a135_b8ac6f9f4593row7_col2\" class=\"data row7 col2\" >-0.0016144</td> \n",
       "    </tr>    <tr> \n",
       "        <th id=\"T_d05bec48_14bc_11e8_a135_b8ac6f9f4593level0_row8\" class=\"row_heading level0 row8\" >6430</th> \n",
       "        <td id=\"T_d05bec48_14bc_11e8_a135_b8ac6f9f4593row8_col0\" class=\"data row8 col0\" >@SouthwestAir On my flight today from RSW to GRR I was able to snag a free SW Agent to check for me. It looks like we are (finally) all set.</td> \n",
       "        <td id=\"T_d05bec48_14bc_11e8_a135_b8ac6f9f4593row8_col1\" class=\"data row8 col1\" >2015-02-17 17:49:30 -0800</td> \n",
       "        <td id=\"T_d05bec48_14bc_11e8_a135_b8ac6f9f4593row8_col2\" class=\"data row8 col2\" >0.577455</td> \n",
       "    </tr>    <tr> \n",
       "        <th id=\"T_d05bec48_14bc_11e8_a135_b8ac6f9f4593level0_row9\" class=\"row_heading level0 row9\" >12960</th> \n",
       "        <td id=\"T_d05bec48_14bc_11e8_a135_b8ac6f9f4593row9_col0\" class=\"data row9 col0\" >@AmericanAir thank you, truly appreciate the help, just sent a DM</td> \n",
       "        <td id=\"T_d05bec48_14bc_11e8_a135_b8ac6f9f4593row9_col1\" class=\"data row9 col1\" >2015-02-23 13:32:32 -0800</td> \n",
       "        <td id=\"T_d05bec48_14bc_11e8_a135_b8ac6f9f4593row9_col2\" class=\"data row9 col2\" >0.968223</td> \n",
       "    </tr>    <tr> \n",
       "        <th id=\"T_d05bec48_14bc_11e8_a135_b8ac6f9f4593level0_row10\" class=\"row_heading level0 row10\" >4511</th> \n",
       "        <td id=\"T_d05bec48_14bc_11e8_a135_b8ac6f9f4593row10_col0\" class=\"data row10 col0\" >@SouthwestAir I love this airline so much! Thanks so much! The service is great! The snacks are amazing! Everything is outstanding thanks!!</td> \n",
       "        <td id=\"T_d05bec48_14bc_11e8_a135_b8ac6f9f4593row10_col1\" class=\"data row10 col1\" >2015-02-23 21:50:07 -0800</td> \n",
       "        <td id=\"T_d05bec48_14bc_11e8_a135_b8ac6f9f4593row10_col2\" class=\"data row10 col2\" >1</td> \n",
       "    </tr></tbody> \n",
       "</table> "
      ],
      "text/plain": [
       "<pandas.io.formats.style.Styler at 0x224df9ee400>"
      ]
     },
     "execution_count": 209,
     "metadata": {},
     "output_type": "execute_result"
    }
   ],
   "source": [
    "complaint_rank.iloc[[0,1,3,5,5000,6000,7000,8000,9000,10000,-1]].style.bar(subset = ['sentiment'], color=['red', 'green'], align='mid')"
   ]
  },
  {
   "cell_type": "code",
   "execution_count": 210,
   "metadata": {},
   "outputs": [],
   "source": [
    "complaint_rank['Absolute_Value'] = np.abs(complaint_rank['sentiment'])"
   ]
  },
  {
   "cell_type": "code",
   "execution_count": 212,
   "metadata": {},
   "outputs": [
    {
     "data": {
      "text/plain": [
       "4357     0.798928\n",
       "4474     0.847074\n",
       "10218    0.932986\n",
       "12529    0.999824\n",
       "11927    0.517339\n",
       "Name: Absolute_Value, dtype: float64"
      ]
     },
     "execution_count": 212,
     "metadata": {},
     "output_type": "execute_result"
    }
   ],
   "source": [
    "complaint_rank['Absolute_Value'].sample(5)"
   ]
  },
  {
   "cell_type": "code",
   "execution_count": 214,
   "metadata": {},
   "outputs": [
    {
     "data": {
      "text/html": [
       "<style  type=\"text/css\" >\n",
       "    #T_04457952_14bd_11e8_85f4_b8ac6f9f4593row0_col3 {\n",
       "            width:  10em;\n",
       "             height:  80%;\n",
       "            background:  linear-gradient(90deg, transparent 0%, transparent 0.0%, #d65f5f 0.0%, #d65f5f 100.0%, transparent 100.0%);\n",
       "        }    #T_04457952_14bd_11e8_85f4_b8ac6f9f4593row1_col3 {\n",
       "            width:  10em;\n",
       "             height:  80%;\n",
       "            background:  linear-gradient(90deg, transparent 0%, transparent 0.0%, #d65f5f 0.0%, #d65f5f 100.0%, transparent 100.0%);\n",
       "        }    #T_04457952_14bd_11e8_85f4_b8ac6f9f4593row2_col3 {\n",
       "            width:  10em;\n",
       "             height:  80%;\n",
       "            background:  linear-gradient(90deg, transparent 0%, transparent 0.0%, #d65f5f 0.0%, #d65f5f 100.0%, transparent 100.0%);\n",
       "        }    #T_04457952_14bd_11e8_85f4_b8ac6f9f4593row3_col3 {\n",
       "            width:  10em;\n",
       "             height:  80%;\n",
       "            background:  linear-gradient(90deg, transparent 0%, transparent 0.0%, #d65f5f 0.0%, #d65f5f 100.0%, transparent 100.0%);\n",
       "        }    #T_04457952_14bd_11e8_85f4_b8ac6f9f4593row4_col3 {\n",
       "            width:  10em;\n",
       "             height:  80%;\n",
       "            background:  linear-gradient(90deg, transparent 0%, transparent 0.0%, #d65f5f 0.0%, #d65f5f 82.5%, transparent 82.5%);\n",
       "        }    #T_04457952_14bd_11e8_85f4_b8ac6f9f4593row5_col3 {\n",
       "            width:  10em;\n",
       "             height:  80%;\n",
       "            background:  linear-gradient(90deg, transparent 0%, transparent 0.0%, #d65f5f 0.0%, #d65f5f 59.8%, transparent 59.8%);\n",
       "        }    #T_04457952_14bd_11e8_85f4_b8ac6f9f4593row6_col3 {\n",
       "            width:  10em;\n",
       "             height:  80%;\n",
       "            background:  linear-gradient(90deg, transparent 0%, transparent 0.0%, #d65f5f 0.0%, #d65f5f 16.0%, transparent 16.0%);\n",
       "        }    #T_04457952_14bd_11e8_85f4_b8ac6f9f4593row7_col3 {\n",
       "            width:  10em;\n",
       "             height:  80%;\n",
       "            background:  linear-gradient(90deg, transparent 0%, transparent 0.0%, #d65f5f 0.0%, #d65f5f 0.2%, transparent 0.2%);\n",
       "        }    #T_04457952_14bd_11e8_85f4_b8ac6f9f4593row8_col3 {\n",
       "            width:  10em;\n",
       "             height:  80%;\n",
       "            background:  linear-gradient(90deg, transparent 0%, transparent 0.0%, #d65f5f 0.0%, #d65f5f 57.7%, transparent 57.7%);\n",
       "        }    #T_04457952_14bd_11e8_85f4_b8ac6f9f4593row9_col3 {\n",
       "            width:  10em;\n",
       "             height:  80%;\n",
       "            background:  linear-gradient(90deg, transparent 0%, transparent 0.0%, #d65f5f 0.0%, #d65f5f 96.8%, transparent 96.8%);\n",
       "        }    #T_04457952_14bd_11e8_85f4_b8ac6f9f4593row10_col3 {\n",
       "            width:  10em;\n",
       "             height:  80%;\n",
       "            background:  linear-gradient(90deg, transparent 0%, transparent 0.0%, #d65f5f 0.0%, #d65f5f 100.0%, transparent 100.0%);\n",
       "        }</style>  \n",
       "<table id=\"T_04457952_14bd_11e8_85f4_b8ac6f9f4593\" > \n",
       "<thead>    <tr> \n",
       "        <th class=\"blank level0\" ></th> \n",
       "        <th class=\"col_heading level0 col0\" >text</th> \n",
       "        <th class=\"col_heading level0 col1\" >tweet_created</th> \n",
       "        <th class=\"col_heading level0 col2\" >sentiment</th> \n",
       "        <th class=\"col_heading level0 col3\" >Absolute_Value</th> \n",
       "    </tr></thead> \n",
       "<tbody>    <tr> \n",
       "        <th id=\"T_04457952_14bd_11e8_85f4_b8ac6f9f4593level0_row0\" class=\"row_heading level0 row0\" >1214</th> \n",
       "        <td id=\"T_04457952_14bd_11e8_85f4_b8ac6f9f4593row0_col0\" class=\"data row0 col0\" >@united is the worst. Worst reservation policies. Worst costumer service. Worst worst worst. Congrats, @Delta you're not that bad!</td> \n",
       "        <td id=\"T_04457952_14bd_11e8_85f4_b8ac6f9f4593row0_col1\" class=\"data row0 col1\" >2015-02-23 07:31:10 -0800</td> \n",
       "        <td id=\"T_04457952_14bd_11e8_85f4_b8ac6f9f4593row0_col2\" class=\"data row0 col2\" >-1</td> \n",
       "        <td id=\"T_04457952_14bd_11e8_85f4_b8ac6f9f4593row0_col3\" class=\"data row0 col3\" >1</td> \n",
       "    </tr>    <tr> \n",
       "        <th id=\"T_04457952_14bd_11e8_85f4_b8ac6f9f4593level0_row1\" class=\"row_heading level0 row1\" >13587</th> \n",
       "        <td id=\"T_04457952_14bd_11e8_85f4_b8ac6f9f4593row1_col0\" class=\"data row1 col0\" >@AmericanAir not only did you Cancelled Flight our flight from JFK and delay us by 29 hours, you've now lost 2 of our bags. Worst airline ever.</td> \n",
       "        <td id=\"T_04457952_14bd_11e8_85f4_b8ac6f9f4593row1_col1\" class=\"data row1 col1\" >2015-02-23 03:15:29 -0800</td> \n",
       "        <td id=\"T_04457952_14bd_11e8_85f4_b8ac6f9f4593row1_col2\" class=\"data row1 col2\" >-1</td> \n",
       "        <td id=\"T_04457952_14bd_11e8_85f4_b8ac6f9f4593row1_col3\" class=\"data row1 col3\" >1</td> \n",
       "    </tr>    <tr> \n",
       "        <th id=\"T_04457952_14bd_11e8_85f4_b8ac6f9f4593level0_row2\" class=\"row_heading level0 row2\" >10249</th> \n",
       "        <td id=\"T_04457952_14bd_11e8_85f4_b8ac6f9f4593row2_col0\" class=\"data row2 col0\" >@USAirways worst experience with you. Cancelled Flightled flight, no voucher and no luggage because \"ramp was broken.\" No other ramps in Charlotte??</td> \n",
       "        <td id=\"T_04457952_14bd_11e8_85f4_b8ac6f9f4593row2_col1\" class=\"data row2 col1\" >2015-02-22 03:30:44 -0800</td> \n",
       "        <td id=\"T_04457952_14bd_11e8_85f4_b8ac6f9f4593row2_col2\" class=\"data row2 col2\" >-1</td> \n",
       "        <td id=\"T_04457952_14bd_11e8_85f4_b8ac6f9f4593row2_col3\" class=\"data row2 col3\" >1</td> \n",
       "    </tr>    <tr> \n",
       "        <th id=\"T_04457952_14bd_11e8_85f4_b8ac6f9f4593level0_row3\" class=\"row_heading level0 row3\" >1374</th> \n",
       "        <td id=\"T_04457952_14bd_11e8_85f4_b8ac6f9f4593row3_col0\" class=\"data row3 col0\" >@united after a Cancelled Flighted flight, and 2 delays, you lost my luggage AGAIN! You're the WORST! Disgraceful! Awful company, horrible service!</td> \n",
       "        <td id=\"T_04457952_14bd_11e8_85f4_b8ac6f9f4593row3_col1\" class=\"data row3 col1\" >2015-02-22 22:52:01 -0800</td> \n",
       "        <td id=\"T_04457952_14bd_11e8_85f4_b8ac6f9f4593row3_col2\" class=\"data row3 col2\" >-0.999999</td> \n",
       "        <td id=\"T_04457952_14bd_11e8_85f4_b8ac6f9f4593row3_col3\" class=\"data row3 col3\" >0.999999</td> \n",
       "    </tr>    <tr> \n",
       "        <th id=\"T_04457952_14bd_11e8_85f4_b8ac6f9f4593level0_row4\" class=\"row_heading level0 row4\" >12818</th> \n",
       "        <td id=\"T_04457952_14bd_11e8_85f4_b8ac6f9f4593row4_col0\" class=\"data row4 col0\" >@AmericanAir I bought a plane ticket 2 months ago and still haven't received my flight info and ticket in my email when it will come?</td> \n",
       "        <td id=\"T_04457952_14bd_11e8_85f4_b8ac6f9f4593row4_col1\" class=\"data row4 col1\" >2015-02-23 15:55:12 -0800</td> \n",
       "        <td id=\"T_04457952_14bd_11e8_85f4_b8ac6f9f4593row4_col2\" class=\"data row4 col2\" >-0.825278</td> \n",
       "        <td id=\"T_04457952_14bd_11e8_85f4_b8ac6f9f4593row4_col3\" class=\"data row4 col3\" >0.825278</td> \n",
       "    </tr>    <tr> \n",
       "        <th id=\"T_04457952_14bd_11e8_85f4_b8ac6f9f4593level0_row5\" class=\"row_heading level0 row5\" >6813</th> \n",
       "        <td id=\"T_04457952_14bd_11e8_85f4_b8ac6f9f4593row5_col0\" class=\"data row5 col0\" >@JetBlue Thank you for credits. However; I submitted complaints about the property on vacation package. Hope you listen!</td> \n",
       "        <td id=\"T_04457952_14bd_11e8_85f4_b8ac6f9f4593row5_col1\" class=\"data row5 col1\" >2015-02-24 07:05:38 -0800</td> \n",
       "        <td id=\"T_04457952_14bd_11e8_85f4_b8ac6f9f4593row5_col2\" class=\"data row5 col2\" >-0.597935</td> \n",
       "        <td id=\"T_04457952_14bd_11e8_85f4_b8ac6f9f4593row5_col3\" class=\"data row5 col3\" >0.597935</td> \n",
       "    </tr>    <tr> \n",
       "        <th id=\"T_04457952_14bd_11e8_85f4_b8ac6f9f4593level0_row6\" class=\"row_heading level0 row6\" >7020</th> \n",
       "        <td id=\"T_04457952_14bd_11e8_85f4_b8ac6f9f4593row6_col0\" class=\"data row6 col0\" >NO“@JetBlue: Our fleet's on fleek. http://t.co/UgFCKErmrW”</td> \n",
       "        <td id=\"T_04457952_14bd_11e8_85f4_b8ac6f9f4593row6_col1\" class=\"data row6 col1\" >2015-02-23 12:12:39 -0800</td> \n",
       "        <td id=\"T_04457952_14bd_11e8_85f4_b8ac6f9f4593row6_col2\" class=\"data row6 col2\" >-0.159743</td> \n",
       "        <td id=\"T_04457952_14bd_11e8_85f4_b8ac6f9f4593row6_col3\" class=\"data row6 col3\" >0.159743</td> \n",
       "    </tr>    <tr> \n",
       "        <th id=\"T_04457952_14bd_11e8_85f4_b8ac6f9f4593level0_row7\" class=\"row_heading level0 row7\" >4735</th> \n",
       "        <td id=\"T_04457952_14bd_11e8_85f4_b8ac6f9f4593row7_col0\" class=\"data row7 col0\" >@SouthwestAir to start 2xdaily #B737-700 flights from #OrangeCounty to #Portland OR on 8AUG #avgeek</td> \n",
       "        <td id=\"T_04457952_14bd_11e8_85f4_b8ac6f9f4593row7_col1\" class=\"data row7 col1\" >2015-02-23 08:03:38 -0800</td> \n",
       "        <td id=\"T_04457952_14bd_11e8_85f4_b8ac6f9f4593row7_col2\" class=\"data row7 col2\" >-0.0016144</td> \n",
       "        <td id=\"T_04457952_14bd_11e8_85f4_b8ac6f9f4593row7_col3\" class=\"data row7 col3\" >0.0016144</td> \n",
       "    </tr>    <tr> \n",
       "        <th id=\"T_04457952_14bd_11e8_85f4_b8ac6f9f4593level0_row8\" class=\"row_heading level0 row8\" >6430</th> \n",
       "        <td id=\"T_04457952_14bd_11e8_85f4_b8ac6f9f4593row8_col0\" class=\"data row8 col0\" >@SouthwestAir On my flight today from RSW to GRR I was able to snag a free SW Agent to check for me. It looks like we are (finally) all set.</td> \n",
       "        <td id=\"T_04457952_14bd_11e8_85f4_b8ac6f9f4593row8_col1\" class=\"data row8 col1\" >2015-02-17 17:49:30 -0800</td> \n",
       "        <td id=\"T_04457952_14bd_11e8_85f4_b8ac6f9f4593row8_col2\" class=\"data row8 col2\" >0.577455</td> \n",
       "        <td id=\"T_04457952_14bd_11e8_85f4_b8ac6f9f4593row8_col3\" class=\"data row8 col3\" >0.577455</td> \n",
       "    </tr>    <tr> \n",
       "        <th id=\"T_04457952_14bd_11e8_85f4_b8ac6f9f4593level0_row9\" class=\"row_heading level0 row9\" >12960</th> \n",
       "        <td id=\"T_04457952_14bd_11e8_85f4_b8ac6f9f4593row9_col0\" class=\"data row9 col0\" >@AmericanAir thank you, truly appreciate the help, just sent a DM</td> \n",
       "        <td id=\"T_04457952_14bd_11e8_85f4_b8ac6f9f4593row9_col1\" class=\"data row9 col1\" >2015-02-23 13:32:32 -0800</td> \n",
       "        <td id=\"T_04457952_14bd_11e8_85f4_b8ac6f9f4593row9_col2\" class=\"data row9 col2\" >0.968223</td> \n",
       "        <td id=\"T_04457952_14bd_11e8_85f4_b8ac6f9f4593row9_col3\" class=\"data row9 col3\" >0.968223</td> \n",
       "    </tr>    <tr> \n",
       "        <th id=\"T_04457952_14bd_11e8_85f4_b8ac6f9f4593level0_row10\" class=\"row_heading level0 row10\" >4511</th> \n",
       "        <td id=\"T_04457952_14bd_11e8_85f4_b8ac6f9f4593row10_col0\" class=\"data row10 col0\" >@SouthwestAir I love this airline so much! Thanks so much! The service is great! The snacks are amazing! Everything is outstanding thanks!!</td> \n",
       "        <td id=\"T_04457952_14bd_11e8_85f4_b8ac6f9f4593row10_col1\" class=\"data row10 col1\" >2015-02-23 21:50:07 -0800</td> \n",
       "        <td id=\"T_04457952_14bd_11e8_85f4_b8ac6f9f4593row10_col2\" class=\"data row10 col2\" >1</td> \n",
       "        <td id=\"T_04457952_14bd_11e8_85f4_b8ac6f9f4593row10_col3\" class=\"data row10 col3\" >1</td> \n",
       "    </tr></tbody> \n",
       "</table> "
      ],
      "text/plain": [
       "<pandas.io.formats.style.Styler at 0x224dfa0d390>"
      ]
     },
     "execution_count": 214,
     "metadata": {},
     "output_type": "execute_result"
    }
   ],
   "source": [
    "complaint_rank.iloc[[0,1,3,5,5000,6000,7000,8000,9000,10000,-1]].style.bar(subset = ['Absolute_Value'], align='mid')"
   ]
  },
  {
   "cell_type": "code",
   "execution_count": 216,
   "metadata": {},
   "outputs": [],
   "source": [
    "complaint_rank['tweet_created'] = pd.to_datetime(complaint_rank['tweet_created'])"
   ]
  },
  {
   "cell_type": "code",
   "execution_count": 217,
   "metadata": {},
   "outputs": [],
   "source": [
    "complaint_rank.sort_values(by = 'tweet_created', inplace = True)"
   ]
  },
  {
   "cell_type": "code",
   "execution_count": 220,
   "metadata": {},
   "outputs": [],
   "source": [
    "complaint_rank['date'] = complaint_rank['tweet_created'].dt.date"
   ]
  },
  {
   "cell_type": "code",
   "execution_count": 221,
   "metadata": {},
   "outputs": [
    {
     "data": {
      "text/plain": [
       "2015-02-23    2434\n",
       "2015-02-22    1677\n",
       "2015-02-24    1503\n",
       "2015-02-20    1053\n",
       "2015-02-21    1015\n",
       "2015-02-18    1002\n",
       "2015-02-19     906\n",
       "2015-02-17     658\n",
       "Name: date, dtype: int64"
      ]
     },
     "execution_count": 221,
     "metadata": {},
     "output_type": "execute_result"
    }
   ],
   "source": [
    "complaint_rank['date'].value_counts()"
   ]
  },
  {
   "cell_type": "code",
   "execution_count": 223,
   "metadata": {},
   "outputs": [
    {
     "data": {
      "text/plain": [
       "<matplotlib.axes._subplots.AxesSubplot at 0x224dfa0d588>"
      ]
     },
     "execution_count": 223,
     "metadata": {},
     "output_type": "execute_result"
    },
    {
     "data": {
      "image/png": "[encoded data removed]",
      "text/plain": [
       "<matplotlib.figure.Figure at 0x224e22dbc88>"
      ]
     },
     "metadata": {},
     "output_type": "display_data"
    }
   ],
   "source": [
    "complaint_rank['date'].value_counts()[::-1].plot.bar()"
   ]
  },
  {
   "cell_type": "code",
   "execution_count": 231,
   "metadata": {},
   "outputs": [],
   "source": [
    "complaint_rank.sort_values(by = ['date','Absolute_Value'], inplace = True, ascending = [1,0])"
   ]
  },
  {
   "cell_type": "code",
   "execution_count": 232,
   "metadata": {},
   "outputs": [
    {
     "data": {
      "text/html": [
       "<div>\n",
       "<style scoped>\n",
       "    .dataframe tbody tr th:only-of-type {\n",
       "        vertical-align: middle;\n",
       "    }\n",
       "\n",
       "    .dataframe tbody tr th {\n",
       "        vertical-align: top;\n",
       "    }\n",
       "\n",
       "    .dataframe thead th {\n",
       "        text-align: right;\n",
       "    }\n",
       "</style>\n",
       "<table border=\"1\" class=\"dataframe\">\n",
       "  <thead>\n",
       "    <tr style=\"text-align: right;\">\n",
       "      <th></th>\n",
       "      <th>text</th>\n",
       "      <th>tweet_created</th>\n",
       "      <th>sentiment</th>\n",
       "      <th>Absolute_Value</th>\n",
       "      <th>date</th>\n",
       "    </tr>\n",
       "  </thead>\n",
       "  <tbody>\n",
       "    <tr>\n",
       "      <th>8900</th>\n",
       "      <td>@JetBlue, I normally ❤️ you, but this Late Fli...</td>\n",
       "      <td>2015-02-17 19:20:57</td>\n",
       "      <td>-0.999998</td>\n",
       "      <td>0.999998</td>\n",
       "      <td>2015-02-17</td>\n",
       "    </tr>\n",
       "    <tr>\n",
       "      <th>8922</th>\n",
       "      <td>@JetBlue huge fan of great brands and people d...</td>\n",
       "      <td>2015-02-17 17:51:00</td>\n",
       "      <td>0.999997</td>\n",
       "      <td>0.999997</td>\n",
       "      <td>2015-02-17</td>\n",
       "    </tr>\n",
       "    <tr>\n",
       "      <th>4180</th>\n",
       "      <td>@united 3pm and my bags still not here. not ev...</td>\n",
       "      <td>2015-02-17 21:04:45</td>\n",
       "      <td>-0.999991</td>\n",
       "      <td>0.999991</td>\n",
       "      <td>2015-02-17</td>\n",
       "    </tr>\n",
       "    <tr>\n",
       "      <th>4222</th>\n",
       "      <td>@united waiting for flight 4567 to memphis. In...</td>\n",
       "      <td>2015-02-17 19:28:00</td>\n",
       "      <td>-0.999965</td>\n",
       "      <td>0.999965</td>\n",
       "      <td>2015-02-17</td>\n",
       "    </tr>\n",
       "    <tr>\n",
       "      <th>11872</th>\n",
       "      <td>@USAirways your service has been awful in Bost...</td>\n",
       "      <td>2015-02-17 16:11:57</td>\n",
       "      <td>-0.999965</td>\n",
       "      <td>0.999965</td>\n",
       "      <td>2015-02-17</td>\n",
       "    </tr>\n",
       "    <tr>\n",
       "      <th>11719</th>\n",
       "      <td>@USAirways I have now called 12 times in the l...</td>\n",
       "      <td>2015-02-17 21:38:38</td>\n",
       "      <td>-0.999955</td>\n",
       "      <td>0.999955</td>\n",
       "      <td>2015-02-17</td>\n",
       "    </tr>\n",
       "    <tr>\n",
       "      <th>4242</th>\n",
       "      <td>@united u lost my bag and would not refund my ...</td>\n",
       "      <td>2015-02-17 18:54:00</td>\n",
       "      <td>-0.999928</td>\n",
       "      <td>0.999928</td>\n",
       "      <td>2015-02-17</td>\n",
       "    </tr>\n",
       "    <tr>\n",
       "      <th>6640</th>\n",
       "      <td>@SouthwestAir worst customer service, Terrible...</td>\n",
       "      <td>2015-02-17 18:13:33</td>\n",
       "      <td>-0.999901</td>\n",
       "      <td>0.999901</td>\n",
       "      <td>2015-02-17</td>\n",
       "    </tr>\n",
       "    <tr>\n",
       "      <th>11710</th>\n",
       "      <td>@USAirways how are you even still in business?...</td>\n",
       "      <td>2015-02-17 21:48:33</td>\n",
       "      <td>-0.999888</td>\n",
       "      <td>0.999888</td>\n",
       "      <td>2015-02-17</td>\n",
       "    </tr>\n",
       "    <tr>\n",
       "      <th>11853</th>\n",
       "      <td>@USAirways no we haven't because we've been in...</td>\n",
       "      <td>2015-02-17 16:51:31</td>\n",
       "      <td>-0.999876</td>\n",
       "      <td>0.999876</td>\n",
       "      <td>2015-02-17</td>\n",
       "    </tr>\n",
       "    <tr>\n",
       "      <th>6507</th>\n",
       "      <td>@SouthwestAir not as sorry as I was when I sat...</td>\n",
       "      <td>2015-02-17 22:23:56</td>\n",
       "      <td>-0.999870</td>\n",
       "      <td>0.999870</td>\n",
       "      <td>2015-02-17</td>\n",
       "    </tr>\n",
       "    <tr>\n",
       "      <th>4098</th>\n",
       "      <td>@united we showed up to our flight several hou...</td>\n",
       "      <td>2015-02-17 23:10:49</td>\n",
       "      <td>-0.999861</td>\n",
       "      <td>0.999861</td>\n",
       "      <td>2015-02-17</td>\n",
       "    </tr>\n",
       "    <tr>\n",
       "      <th>6691</th>\n",
       "      <td>@SouthwestAir I've been on hold for an hour &amp;a...</td>\n",
       "      <td>2015-02-17 17:09:13</td>\n",
       "      <td>-0.999849</td>\n",
       "      <td>0.999849</td>\n",
       "      <td>2015-02-17</td>\n",
       "    </tr>\n",
       "    <tr>\n",
       "      <th>6730</th>\n",
       "      <td>@SouthwestAir been on hold for &amp;gt;30 minutes ...</td>\n",
       "      <td>2015-02-17 16:03:17</td>\n",
       "      <td>-0.999830</td>\n",
       "      <td>0.999830</td>\n",
       "      <td>2015-02-17</td>\n",
       "    </tr>\n",
       "    <tr>\n",
       "      <th>4234</th>\n",
       "      <td>@united 45 minutes after arrival and no bags f...</td>\n",
       "      <td>2015-02-17 19:12:28</td>\n",
       "      <td>-0.999815</td>\n",
       "      <td>0.999815</td>\n",
       "      <td>2015-02-17</td>\n",
       "    </tr>\n",
       "  </tbody>\n",
       "</table>\n",
       "</div>"
      ],
      "text/plain": [
       "                                                    text       tweet_created  \\\n",
       "8900   @JetBlue, I normally ❤️ you, but this Late Fli... 2015-02-17 19:20:57   \n",
       "8922   @JetBlue huge fan of great brands and people d... 2015-02-17 17:51:00   \n",
       "4180   @united 3pm and my bags still not here. not ev... 2015-02-17 21:04:45   \n",
       "4222   @united waiting for flight 4567 to memphis. In... 2015-02-17 19:28:00   \n",
       "11872  @USAirways your service has been awful in Bost... 2015-02-17 16:11:57   \n",
       "11719  @USAirways I have now called 12 times in the l... 2015-02-17 21:38:38   \n",
       "4242   @united u lost my bag and would not refund my ... 2015-02-17 18:54:00   \n",
       "6640   @SouthwestAir worst customer service, Terrible... 2015-02-17 18:13:33   \n",
       "11710  @USAirways how are you even still in business?... 2015-02-17 21:48:33   \n",
       "11853  @USAirways no we haven't because we've been in... 2015-02-17 16:51:31   \n",
       "6507   @SouthwestAir not as sorry as I was when I sat... 2015-02-17 22:23:56   \n",
       "4098   @united we showed up to our flight several hou... 2015-02-17 23:10:49   \n",
       "6691   @SouthwestAir I've been on hold for an hour &a... 2015-02-17 17:09:13   \n",
       "6730   @SouthwestAir been on hold for &gt;30 minutes ... 2015-02-17 16:03:17   \n",
       "4234   @united 45 minutes after arrival and no bags f... 2015-02-17 19:12:28   \n",
       "\n",
       "       sentiment  Absolute_Value        date  \n",
       "8900   -0.999998        0.999998  2015-02-17  \n",
       "8922    0.999997        0.999997  2015-02-17  \n",
       "4180   -0.999991        0.999991  2015-02-17  \n",
       "4222   -0.999965        0.999965  2015-02-17  \n",
       "11872  -0.999965        0.999965  2015-02-17  \n",
       "11719  -0.999955        0.999955  2015-02-17  \n",
       "4242   -0.999928        0.999928  2015-02-17  \n",
       "6640   -0.999901        0.999901  2015-02-17  \n",
       "11710  -0.999888        0.999888  2015-02-17  \n",
       "11853  -0.999876        0.999876  2015-02-17  \n",
       "6507   -0.999870        0.999870  2015-02-17  \n",
       "4098   -0.999861        0.999861  2015-02-17  \n",
       "6691   -0.999849        0.999849  2015-02-17  \n",
       "6730   -0.999830        0.999830  2015-02-17  \n",
       "4234   -0.999815        0.999815  2015-02-17  "
      ]
     },
     "execution_count": 232,
     "metadata": {},
     "output_type": "execute_result"
    }
   ],
   "source": [
    "complaint_rank.iloc[0:15]"
   ]
  },
  {
   "cell_type": "code",
   "execution_count": 255,
   "metadata": {},
   "outputs": [],
   "source": [
    "each_day = []\n",
    "for day in complaint_rank['date'].value_counts().index[::-1]:\n",
    "    each_day.append(complaint_rank.loc[complaint_rank['date'] == day])"
   ]
  },
  {
   "cell_type": "code",
   "execution_count": 256,
   "metadata": {},
   "outputs": [
    {
     "name": "stdout",
     "output_type": "stream",
     "text": [
      "                                                    text       tweet_created  \\\n",
      "8900   @JetBlue, I normally ❤️ you, but this Late Fli... 2015-02-17 19:20:57   \n",
      "8922   @JetBlue huge fan of great brands and people d... 2015-02-17 17:51:00   \n",
      "4180   @united 3pm and my bags still not here. not ev... 2015-02-17 21:04:45   \n",
      "4222   @united waiting for flight 4567 to memphis. In... 2015-02-17 19:28:00   \n",
      "11872  @USAirways your service has been awful in Bost... 2015-02-17 16:11:57   \n",
      "\n",
      "       sentiment  Absolute_Value        date  \n",
      "8900   -0.999998        0.999998  2015-02-17  \n",
      "8922    0.999997        0.999997  2015-02-17  \n",
      "4180   -0.999991        0.999991  2015-02-17  \n",
      "4222   -0.999965        0.999965  2015-02-17  \n",
      "11872  -0.999965        0.999965  2015-02-17  \n",
      "                                                    text       tweet_created  \\\n",
      "1214   @united is the worst. Worst reservation polici... 2015-02-23 15:31:10   \n",
      "13587  @AmericanAir not only did you Cancelled Flight... 2015-02-23 11:15:29   \n",
      "9740   @USAirways - been on hold for more than 2.5 ho... 2015-02-23 02:30:07   \n",
      "1374   @united after a Cancelled Flighted flight, and... 2015-02-23 06:52:01   \n",
      "13708  @AmericanAir I've been on hold ANOTHER hour an... 2015-02-23 06:06:52   \n",
      "\n",
      "       sentiment  Absolute_Value        date  \n",
      "1214   -1.000000        1.000000  2015-02-23  \n",
      "13587  -1.000000        1.000000  2015-02-23  \n",
      "9740   -1.000000        1.000000  2015-02-23  \n",
      "1374   -0.999999        0.999999  2015-02-23  \n",
      "13708  -0.999999        0.999999  2015-02-23  \n"
     ]
    }
   ],
   "source": [
    "print(each_day[0][0:5])\n",
    "print(each_day[-1][0:5])"
   ]
  },
  {
   "cell_type": "code",
   "execution_count": 257,
   "metadata": {},
   "outputs": [],
   "source": [
    "max_replies = 50"
   ]
  },
  {
   "cell_type": "code",
   "execution_count": 258,
   "metadata": {},
   "outputs": [],
   "source": [
    "each_day_limit = [x.iloc[0:max_replies] for x in each_day]"
   ]
  },
  {
   "cell_type": "code",
   "execution_count": 259,
   "metadata": {},
   "outputs": [
    {
     "data": {
      "text/html": [
       "<div>\n",
       "<style scoped>\n",
       "    .dataframe tbody tr th:only-of-type {\n",
       "        vertical-align: middle;\n",
       "    }\n",
       "\n",
       "    .dataframe tbody tr th {\n",
       "        vertical-align: top;\n",
       "    }\n",
       "\n",
       "    .dataframe thead th {\n",
       "        text-align: right;\n",
       "    }\n",
       "</style>\n",
       "<table border=\"1\" class=\"dataframe\">\n",
       "  <thead>\n",
       "    <tr style=\"text-align: right;\">\n",
       "      <th></th>\n",
       "      <th>text</th>\n",
       "      <th>tweet_created</th>\n",
       "      <th>sentiment</th>\n",
       "      <th>Absolute_Value</th>\n",
       "      <th>date</th>\n",
       "    </tr>\n",
       "  </thead>\n",
       "  <tbody>\n",
       "    <tr>\n",
       "      <th>4234</th>\n",
       "      <td>@united 45 minutes after arrival and no bags f...</td>\n",
       "      <td>2015-02-17 19:12:28</td>\n",
       "      <td>-0.999815</td>\n",
       "      <td>0.999815</td>\n",
       "      <td>2015-02-17</td>\n",
       "    </tr>\n",
       "    <tr>\n",
       "      <th>11741</th>\n",
       "      <td>@USAirways The airline is embarrassing itself....</td>\n",
       "      <td>2015-02-17 20:32:40</td>\n",
       "      <td>-0.998982</td>\n",
       "      <td>0.998982</td>\n",
       "      <td>2015-02-17</td>\n",
       "    </tr>\n",
       "    <tr>\n",
       "      <th>11716</th>\n",
       "      <td>@USAirways flight #654 sitting at JFK with del...</td>\n",
       "      <td>2015-02-17 21:45:22</td>\n",
       "      <td>-0.999789</td>\n",
       "      <td>0.999789</td>\n",
       "      <td>2015-02-17</td>\n",
       "    </tr>\n",
       "    <tr>\n",
       "      <th>4180</th>\n",
       "      <td>@united 3pm and my bags still not here. not ev...</td>\n",
       "      <td>2015-02-17 21:04:45</td>\n",
       "      <td>-0.999991</td>\n",
       "      <td>0.999991</td>\n",
       "      <td>2015-02-17</td>\n",
       "    </tr>\n",
       "    <tr>\n",
       "      <th>4261</th>\n",
       "      <td>@united Miserable trip ... lost bag Sat... fou...</td>\n",
       "      <td>2015-02-17 17:58:54</td>\n",
       "      <td>-0.999572</td>\n",
       "      <td>0.999572</td>\n",
       "      <td>2015-02-17</td>\n",
       "    </tr>\n",
       "    <tr>\n",
       "      <th>11719</th>\n",
       "      <td>@USAirways I have now called 12 times in the l...</td>\n",
       "      <td>2015-02-17 21:38:38</td>\n",
       "      <td>-0.999955</td>\n",
       "      <td>0.999955</td>\n",
       "      <td>2015-02-17</td>\n",
       "    </tr>\n",
       "    <tr>\n",
       "      <th>6683</th>\n",
       "      <td>@SouthwestAir I need to reschedule a flight an...</td>\n",
       "      <td>2015-02-17 17:20:44</td>\n",
       "      <td>-0.999109</td>\n",
       "      <td>0.999109</td>\n",
       "      <td>2015-02-17</td>\n",
       "    </tr>\n",
       "    <tr>\n",
       "      <th>6691</th>\n",
       "      <td>@SouthwestAir I've been on hold for an hour &amp;a...</td>\n",
       "      <td>2015-02-17 17:09:13</td>\n",
       "      <td>-0.999849</td>\n",
       "      <td>0.999849</td>\n",
       "      <td>2015-02-17</td>\n",
       "    </tr>\n",
       "    <tr>\n",
       "      <th>8928</th>\n",
       "      <td>@JetBlue already spent $300 to stay at hotel l...</td>\n",
       "      <td>2015-02-17 17:31:42</td>\n",
       "      <td>-0.998730</td>\n",
       "      <td>0.998730</td>\n",
       "      <td>2015-02-17</td>\n",
       "    </tr>\n",
       "    <tr>\n",
       "      <th>4299</th>\n",
       "      <td>@united did not let me get on the IAH-HNL dire...</td>\n",
       "      <td>2015-02-17 16:49:42</td>\n",
       "      <td>-0.999283</td>\n",
       "      <td>0.999283</td>\n",
       "      <td>2015-02-17</td>\n",
       "    </tr>\n",
       "  </tbody>\n",
       "</table>\n",
       "</div>"
      ],
      "text/plain": [
       "                                                    text       tweet_created  \\\n",
       "4234   @united 45 minutes after arrival and no bags f... 2015-02-17 19:12:28   \n",
       "11741  @USAirways The airline is embarrassing itself.... 2015-02-17 20:32:40   \n",
       "11716  @USAirways flight #654 sitting at JFK with del... 2015-02-17 21:45:22   \n",
       "4180   @united 3pm and my bags still not here. not ev... 2015-02-17 21:04:45   \n",
       "4261   @united Miserable trip ... lost bag Sat... fou... 2015-02-17 17:58:54   \n",
       "11719  @USAirways I have now called 12 times in the l... 2015-02-17 21:38:38   \n",
       "6683   @SouthwestAir I need to reschedule a flight an... 2015-02-17 17:20:44   \n",
       "6691   @SouthwestAir I've been on hold for an hour &a... 2015-02-17 17:09:13   \n",
       "8928   @JetBlue already spent $300 to stay at hotel l... 2015-02-17 17:31:42   \n",
       "4299   @united did not let me get on the IAH-HNL dire... 2015-02-17 16:49:42   \n",
       "\n",
       "       sentiment  Absolute_Value        date  \n",
       "4234   -0.999815        0.999815  2015-02-17  \n",
       "11741  -0.998982        0.998982  2015-02-17  \n",
       "11716  -0.999789        0.999789  2015-02-17  \n",
       "4180   -0.999991        0.999991  2015-02-17  \n",
       "4261   -0.999572        0.999572  2015-02-17  \n",
       "11719  -0.999955        0.999955  2015-02-17  \n",
       "6683   -0.999109        0.999109  2015-02-17  \n",
       "6691   -0.999849        0.999849  2015-02-17  \n",
       "8928   -0.998730        0.998730  2015-02-17  \n",
       "4299   -0.999283        0.999283  2015-02-17  "
      ]
     },
     "execution_count": 259,
     "metadata": {},
     "output_type": "execute_result"
    }
   ],
   "source": [
    "each_day_limit[0].sample(10)"
   ]
  },
  {
   "cell_type": "code",
   "execution_count": 261,
   "metadata": {},
   "outputs": [],
   "source": [
    "random_limit = [x.sample(max_replies) for x in each_day]"
   ]
  },
  {
   "cell_type": "code",
   "execution_count": 262,
   "metadata": {},
   "outputs": [
    {
     "data": {
      "text/html": [
       "<div>\n",
       "<style scoped>\n",
       "    .dataframe tbody tr th:only-of-type {\n",
       "        vertical-align: middle;\n",
       "    }\n",
       "\n",
       "    .dataframe tbody tr th {\n",
       "        vertical-align: top;\n",
       "    }\n",
       "\n",
       "    .dataframe thead th {\n",
       "        text-align: right;\n",
       "    }\n",
       "</style>\n",
       "<table border=\"1\" class=\"dataframe\">\n",
       "  <thead>\n",
       "    <tr style=\"text-align: right;\">\n",
       "      <th></th>\n",
       "      <th>text</th>\n",
       "      <th>tweet_created</th>\n",
       "      <th>sentiment</th>\n",
       "      <th>Absolute_Value</th>\n",
       "      <th>date</th>\n",
       "    </tr>\n",
       "  </thead>\n",
       "  <tbody>\n",
       "    <tr>\n",
       "      <th>8884</th>\n",
       "      <td>@JetBlue Great thanks</td>\n",
       "      <td>2015-02-17 19:49:11</td>\n",
       "      <td>0.986352</td>\n",
       "      <td>0.986352</td>\n",
       "      <td>2015-02-17</td>\n",
       "    </tr>\n",
       "    <tr>\n",
       "      <th>8823</th>\n",
       "      <td>@JetBlue flight 894, first officer not even at...</td>\n",
       "      <td>2015-02-17 22:43:55</td>\n",
       "      <td>-0.985448</td>\n",
       "      <td>0.985448</td>\n",
       "      <td>2015-02-17</td>\n",
       "    </tr>\n",
       "    <tr>\n",
       "      <th>4228</th>\n",
       "      <td>@united - could you please send me a phone # t...</td>\n",
       "      <td>2015-02-17 19:23:49</td>\n",
       "      <td>-0.923735</td>\n",
       "      <td>0.923735</td>\n",
       "      <td>2015-02-17</td>\n",
       "    </tr>\n",
       "    <tr>\n",
       "      <th>8816</th>\n",
       "      <td>@JetBlue so happy you can accommodate peanut/t...</td>\n",
       "      <td>2015-02-17 23:13:47</td>\n",
       "      <td>0.554784</td>\n",
       "      <td>0.554784</td>\n",
       "      <td>2015-02-17</td>\n",
       "    </tr>\n",
       "    <tr>\n",
       "      <th>6603</th>\n",
       "      <td>@SouthwestAir - I have spent 87 minutes (and c...</td>\n",
       "      <td>2015-02-17 19:05:33</td>\n",
       "      <td>-0.997983</td>\n",
       "      <td>0.997983</td>\n",
       "      <td>2015-02-17</td>\n",
       "    </tr>\n",
       "    <tr>\n",
       "      <th>11737</th>\n",
       "      <td>@usairways I’m cool with weather delays etc. B...</td>\n",
       "      <td>2015-02-17 20:47:31</td>\n",
       "      <td>-0.950913</td>\n",
       "      <td>0.950913</td>\n",
       "      <td>2015-02-17</td>\n",
       "    </tr>\n",
       "    <tr>\n",
       "      <th>4225</th>\n",
       "      <td>@united its 2015 and no power outlets at the s...</td>\n",
       "      <td>2015-02-17 19:27:03</td>\n",
       "      <td>-0.998556</td>\n",
       "      <td>0.998556</td>\n",
       "      <td>2015-02-17</td>\n",
       "    </tr>\n",
       "    <tr>\n",
       "      <th>4192</th>\n",
       "      <td>@united 3359 which you finally Cancelled Fligh...</td>\n",
       "      <td>2015-02-17 20:51:04</td>\n",
       "      <td>-0.896637</td>\n",
       "      <td>0.896637</td>\n",
       "      <td>2015-02-17</td>\n",
       "    </tr>\n",
       "    <tr>\n",
       "      <th>6599</th>\n",
       "      <td>@SouthwestAir an entire flight of luggage miss...</td>\n",
       "      <td>2015-02-17 19:13:27</td>\n",
       "      <td>-0.999205</td>\n",
       "      <td>0.999205</td>\n",
       "      <td>2015-02-17</td>\n",
       "    </tr>\n",
       "    <tr>\n",
       "      <th>4229</th>\n",
       "      <td>@united I'm not this person, but I've been sit...</td>\n",
       "      <td>2015-02-17 19:23:36</td>\n",
       "      <td>-0.999666</td>\n",
       "      <td>0.999666</td>\n",
       "      <td>2015-02-17</td>\n",
       "    </tr>\n",
       "  </tbody>\n",
       "</table>\n",
       "</div>"
      ],
      "text/plain": [
       "                                                    text       tweet_created  \\\n",
       "8884                               @JetBlue Great thanks 2015-02-17 19:49:11   \n",
       "8823   @JetBlue flight 894, first officer not even at... 2015-02-17 22:43:55   \n",
       "4228   @united - could you please send me a phone # t... 2015-02-17 19:23:49   \n",
       "8816   @JetBlue so happy you can accommodate peanut/t... 2015-02-17 23:13:47   \n",
       "6603   @SouthwestAir - I have spent 87 minutes (and c... 2015-02-17 19:05:33   \n",
       "11737  @usairways I’m cool with weather delays etc. B... 2015-02-17 20:47:31   \n",
       "4225   @united its 2015 and no power outlets at the s... 2015-02-17 19:27:03   \n",
       "4192   @united 3359 which you finally Cancelled Fligh... 2015-02-17 20:51:04   \n",
       "6599   @SouthwestAir an entire flight of luggage miss... 2015-02-17 19:13:27   \n",
       "4229   @united I'm not this person, but I've been sit... 2015-02-17 19:23:36   \n",
       "\n",
       "       sentiment  Absolute_Value        date  \n",
       "8884    0.986352        0.986352  2015-02-17  \n",
       "8823   -0.985448        0.985448  2015-02-17  \n",
       "4228   -0.923735        0.923735  2015-02-17  \n",
       "8816    0.554784        0.554784  2015-02-17  \n",
       "6603   -0.997983        0.997983  2015-02-17  \n",
       "11737  -0.950913        0.950913  2015-02-17  \n",
       "4225   -0.998556        0.998556  2015-02-17  \n",
       "4192   -0.896637        0.896637  2015-02-17  \n",
       "6599   -0.999205        0.999205  2015-02-17  \n",
       "4229   -0.999666        0.999666  2015-02-17  "
      ]
     },
     "execution_count": 262,
     "metadata": {},
     "output_type": "execute_result"
    }
   ],
   "source": [
    "random_limit[0].sample(10)"
   ]
  },
  {
   "cell_type": "code",
   "execution_count": 263,
   "metadata": {},
   "outputs": [
    {
     "name": "stdout",
     "output_type": "stream",
     "text": [
      "0.7555228329604298\n",
      "0.6721540147629632\n",
      "0.680640662793371\n",
      "0.689360517972219\n",
      "0.7231476771861238\n",
      "0.7129304279791527\n",
      "0.6622906609802134\n",
      "0.6780685987470382\n"
     ]
    }
   ],
   "source": [
    "for x in random_limit:\n",
    "    print(x['Absolute_Value'].mean())"
   ]
  },
  {
   "cell_type": "code",
   "execution_count": 264,
   "metadata": {},
   "outputs": [
    {
     "name": "stdout",
     "output_type": "stream",
     "text": [
      "0.9994022245423244\n",
      "0.9993948472961798\n",
      "0.9998098360417751\n",
      "0.9997938029500617\n",
      "0.9997415206406255\n",
      "0.9998845979745475\n",
      "0.9999594069683085\n",
      "0.9999837453307886\n"
     ]
    }
   ],
   "source": [
    "for x in each_day_limit:\n",
    "    print(x['Absolute_Value'].mean())"
   ]
  },
  {
   "cell_type": "code",
   "execution_count": 266,
   "metadata": {},
   "outputs": [],
   "source": [
    "scores = []\n",
    "for x,y in zip(random_limit ,each_day_limit):\n",
    "    scores.append(y['Absolute_Value'].mean() - x['Absolute_Value'].mean())"
   ]
  },
  {
   "cell_type": "code",
   "execution_count": 267,
   "metadata": {},
   "outputs": [
    {
     "data": {
      "text/plain": [
       "[<matplotlib.lines.Line2D at 0x224e2267908>]"
      ]
     },
     "execution_count": 267,
     "metadata": {},
     "output_type": "execute_result"
    },
    {
     "data": {
      "image/png": "[encoded data removed]",
      "text/plain": [
       "<matplotlib.figure.Figure at 0x224e222a198>"
      ]
     },
     "metadata": {},
     "output_type": "display_data"
    }
   ],
   "source": [
    "plt.plot(scores)"
   ]
  }
 ],
 "metadata": {
  "kernelspec": {
   "display_name": "Python 3",
   "language": "python",
   "name": "python3"
  },
  "language_info": {
   "codemirror_mode": {
    "name": "ipython",
    "version": 3
   },
   "file_extension": ".py",
   "mimetype": "text/x-python",
   "name": "python",
   "nbconvert_exporter": "python",
   "pygments_lexer": "ipython3",
   "version": "3.6.3"
  }
 },
 "nbformat": 4,
 "nbformat_minor": 2
}
