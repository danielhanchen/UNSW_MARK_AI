{
 "cells": [
  {
   "cell_type": "code",
   "execution_count": 1,
   "metadata": {},
   "outputs": [],
   "source": [
    "import pandas as pd\n",
    "import numpy as np\n",
    "from help import *\n",
    "import matplotlib.pyplot as plt\n",
    "%matplotlib inline\n",
    "import seaborn as sb"
   ]
  },
  {
   "cell_type": "code",
   "execution_count": 2,
   "metadata": {},
   "outputs": [],
   "source": [
    "toys = pd.read_csv('amazon_co-ecommerce_sample.csv')"
   ]
  },
  {
   "cell_type": "code",
   "execution_count": 3,
   "metadata": {},
   "outputs": [
    {
     "data": {
      "text/html": [
       "<div>\n",
       "<style scoped>\n",
       "    .dataframe tbody tr th:only-of-type {\n",
       "        vertical-align: middle;\n",
       "    }\n",
       "\n",
       "    .dataframe tbody tr th {\n",
       "        vertical-align: top;\n",
       "    }\n",
       "\n",
       "    .dataframe thead th {\n",
       "        text-align: right;\n",
       "    }\n",
       "</style>\n",
       "<table border=\"1\" class=\"dataframe\">\n",
       "  <thead>\n",
       "    <tr style=\"text-align: right;\">\n",
       "      <th></th>\n",
       "      <th>number_of_answered_questions</th>\n",
       "    </tr>\n",
       "  </thead>\n",
       "  <tbody>\n",
       "    <tr>\n",
       "      <th>count</th>\n",
       "      <td>9235.000000</td>\n",
       "    </tr>\n",
       "    <tr>\n",
       "      <th>mean</th>\n",
       "      <td>1.834976</td>\n",
       "    </tr>\n",
       "    <tr>\n",
       "      <th>std</th>\n",
       "      <td>2.517268</td>\n",
       "    </tr>\n",
       "    <tr>\n",
       "      <th>min</th>\n",
       "      <td>1.000000</td>\n",
       "    </tr>\n",
       "    <tr>\n",
       "      <th>25%</th>\n",
       "      <td>1.000000</td>\n",
       "    </tr>\n",
       "    <tr>\n",
       "      <th>50%</th>\n",
       "      <td>1.000000</td>\n",
       "    </tr>\n",
       "    <tr>\n",
       "      <th>75%</th>\n",
       "      <td>2.000000</td>\n",
       "    </tr>\n",
       "    <tr>\n",
       "      <th>max</th>\n",
       "      <td>39.000000</td>\n",
       "    </tr>\n",
       "  </tbody>\n",
       "</table>\n",
       "</div>"
      ],
      "text/plain": [
       "       number_of_answered_questions\n",
       "count                   9235.000000\n",
       "mean                       1.834976\n",
       "std                        2.517268\n",
       "min                        1.000000\n",
       "25%                        1.000000\n",
       "50%                        1.000000\n",
       "75%                        2.000000\n",
       "max                       39.000000"
      ]
     },
     "execution_count": 3,
     "metadata": {},
     "output_type": "execute_result"
    }
   ],
   "source": [
    "toys.describe()"
   ]
  },
  {
   "cell_type": "code",
   "execution_count": 4,
   "metadata": {},
   "outputs": [
    {
     "data": {
      "text/html": [
       "<div>\n",
       "<style scoped>\n",
       "    .dataframe tbody tr th:only-of-type {\n",
       "        vertical-align: middle;\n",
       "    }\n",
       "\n",
       "    .dataframe tbody tr th {\n",
       "        vertical-align: top;\n",
       "    }\n",
       "\n",
       "    .dataframe thead th {\n",
       "        text-align: right;\n",
       "    }\n",
       "</style>\n",
       "<table border=\"1\" class=\"dataframe\">\n",
       "  <thead>\n",
       "    <tr style=\"text-align: right;\">\n",
       "      <th></th>\n",
       "      <th>uniq_id</th>\n",
       "      <th>product_name</th>\n",
       "      <th>manufacturer</th>\n",
       "      <th>price</th>\n",
       "      <th>number_available_in_stock</th>\n",
       "      <th>number_of_reviews</th>\n",
       "      <th>average_review_rating</th>\n",
       "      <th>amazon_category_and_sub_category</th>\n",
       "      <th>customers_who_bought_this_item_also_bought</th>\n",
       "      <th>description</th>\n",
       "      <th>product_information</th>\n",
       "      <th>product_description</th>\n",
       "      <th>items_customers_buy_after_viewing_this_item</th>\n",
       "      <th>customer_questions_and_answers</th>\n",
       "      <th>customer_reviews</th>\n",
       "      <th>sellers</th>\n",
       "    </tr>\n",
       "  </thead>\n",
       "  <tbody>\n",
       "    <tr>\n",
       "      <th>count</th>\n",
       "      <td>10000</td>\n",
       "      <td>10000</td>\n",
       "      <td>9993</td>\n",
       "      <td>8565</td>\n",
       "      <td>7500</td>\n",
       "      <td>9982</td>\n",
       "      <td>9982</td>\n",
       "      <td>9310</td>\n",
       "      <td>8938</td>\n",
       "      <td>9349</td>\n",
       "      <td>9942</td>\n",
       "      <td>9349</td>\n",
       "      <td>6935</td>\n",
       "      <td>914</td>\n",
       "      <td>9979</td>\n",
       "      <td>6918</td>\n",
       "    </tr>\n",
       "    <tr>\n",
       "      <th>unique</th>\n",
       "      <td>10000</td>\n",
       "      <td>9964</td>\n",
       "      <td>2651</td>\n",
       "      <td>2625</td>\n",
       "      <td>89</td>\n",
       "      <td>194</td>\n",
       "      <td>19</td>\n",
       "      <td>255</td>\n",
       "      <td>8755</td>\n",
       "      <td>8514</td>\n",
       "      <td>9939</td>\n",
       "      <td>8514</td>\n",
       "      <td>6749</td>\n",
       "      <td>910</td>\n",
       "      <td>9901</td>\n",
       "      <td>6581</td>\n",
       "    </tr>\n",
       "    <tr>\n",
       "      <th>top</th>\n",
       "      <td>85cb76787ca623045ee05e620d2cff53</td>\n",
       "      <td>Polyhedral Dice</td>\n",
       "      <td>LEGO</td>\n",
       "      <td>£9.99</td>\n",
       "      <td>2 new</td>\n",
       "      <td>1</td>\n",
       "      <td>5.0 out of 5 stars</td>\n",
       "      <td>Die-Cast &amp; Toy Vehicles &gt; Toy Vehicles &amp; Acces...</td>\n",
       "      <td>http://www.amazon.co.uk/Scalextric | http://ww...</td>\n",
       "      <td>Welcome to k2, we offer combined items postage...</td>\n",
       "      <td>Technical Details Manufacturer recommended age...</td>\n",
       "      <td>Welcome to k2, we offer combined items postage...</td>\n",
       "      <td>http://www.amazon.co.uk/Scalextric | http://ww...</td>\n",
       "      <td>Are these the newest cards out? // HelloYes th...</td>\n",
       "      <td>Five Stars // 5.0 // 1 Feb. 2015 // By\\n    \\n...</td>\n",
       "      <td>{\"seller\"=&gt;{\"Seller_name_1\"=&gt;\"k2-accessories\",...</td>\n",
       "    </tr>\n",
       "    <tr>\n",
       "      <th>freq</th>\n",
       "      <td>1</td>\n",
       "      <td>3</td>\n",
       "      <td>171</td>\n",
       "      <td>189</td>\n",
       "      <td>1337</td>\n",
       "      <td>4315</td>\n",
       "      <td>5140</td>\n",
       "      <td>880</td>\n",
       "      <td>60</td>\n",
       "      <td>113</td>\n",
       "      <td>2</td>\n",
       "      <td>113</td>\n",
       "      <td>38</td>\n",
       "      <td>2</td>\n",
       "      <td>5</td>\n",
       "      <td>27</td>\n",
       "    </tr>\n",
       "  </tbody>\n",
       "</table>\n",
       "</div>"
      ],
      "text/plain": [
       "                                 uniq_id     product_name manufacturer  price  \\\n",
       "count                              10000            10000         9993   8565   \n",
       "unique                             10000             9964         2651   2625   \n",
       "top     85cb76787ca623045ee05e620d2cff53  Polyhedral Dice         LEGO  £9.99   \n",
       "freq                                   1                3          171    189   \n",
       "\n",
       "       number_available_in_stock number_of_reviews average_review_rating  \\\n",
       "count                       7500              9982                  9982   \n",
       "unique                        89               194                    19   \n",
       "top                        2 new                 1    5.0 out of 5 stars   \n",
       "freq                        1337              4315                  5140   \n",
       "\n",
       "                         amazon_category_and_sub_category  \\\n",
       "count                                                9310   \n",
       "unique                                                255   \n",
       "top     Die-Cast & Toy Vehicles > Toy Vehicles & Acces...   \n",
       "freq                                                  880   \n",
       "\n",
       "               customers_who_bought_this_item_also_bought  \\\n",
       "count                                                8938   \n",
       "unique                                               8755   \n",
       "top     http://www.amazon.co.uk/Scalextric | http://ww...   \n",
       "freq                                                   60   \n",
       "\n",
       "                                              description  \\\n",
       "count                                                9349   \n",
       "unique                                               8514   \n",
       "top     Welcome to k2, we offer combined items postage...   \n",
       "freq                                                  113   \n",
       "\n",
       "                                      product_information  \\\n",
       "count                                                9942   \n",
       "unique                                               9939   \n",
       "top     Technical Details Manufacturer recommended age...   \n",
       "freq                                                    2   \n",
       "\n",
       "                                      product_description  \\\n",
       "count                                                9349   \n",
       "unique                                               8514   \n",
       "top     Welcome to k2, we offer combined items postage...   \n",
       "freq                                                  113   \n",
       "\n",
       "              items_customers_buy_after_viewing_this_item  \\\n",
       "count                                                6935   \n",
       "unique                                               6749   \n",
       "top     http://www.amazon.co.uk/Scalextric | http://ww...   \n",
       "freq                                                   38   \n",
       "\n",
       "                           customer_questions_and_answers  \\\n",
       "count                                                 914   \n",
       "unique                                                910   \n",
       "top     Are these the newest cards out? // HelloYes th...   \n",
       "freq                                                    2   \n",
       "\n",
       "                                         customer_reviews  \\\n",
       "count                                                9979   \n",
       "unique                                               9901   \n",
       "top     Five Stars // 5.0 // 1 Feb. 2015 // By\\n    \\n...   \n",
       "freq                                                    5   \n",
       "\n",
       "                                                  sellers  \n",
       "count                                                6918  \n",
       "unique                                               6581  \n",
       "top     {\"seller\"=>{\"Seller_name_1\"=>\"k2-accessories\",...  \n",
       "freq                                                   27  "
      ]
     },
     "execution_count": 4,
     "metadata": {},
     "output_type": "execute_result"
    }
   ],
   "source": [
    "toys.describe(include = ['O'])"
   ]
  },
  {
   "cell_type": "code",
   "execution_count": 5,
   "metadata": {},
   "outputs": [
    {
     "data": {
      "text/plain": [
       "LEGO                             171\n",
       "Disney                           167\n",
       "Oxford Diecast                   156\n",
       "Playmobil                        147\n",
       "Star Wars                        120\n",
       "Mattel                           114\n",
       "Hasbro                           110\n",
       "The Puppet Company               109\n",
       "MyTinyWorld                       93\n",
       "Corgi                             90\n",
       "Hornby                            87\n",
       "Scalextric                        76\n",
       "Pokémon                           69\n",
       "Schleich                          68\n",
       "Amscan                            65\n",
       "Every-occasion-party-supplies     62\n",
       "Melissa & Doug                    59\n",
       "FunKo                             59\n",
       "Papo                              58\n",
       "Tamiya                            57\n",
       "Name: manufacturer, dtype: int64"
      ]
     },
     "execution_count": 5,
     "metadata": {},
     "output_type": "execute_result"
    }
   ],
   "source": [
    "toys['manufacturer'].value_counts().iloc[0:20]"
   ]
  },
  {
   "cell_type": "code",
   "execution_count": 6,
   "metadata": {},
   "outputs": [
    {
     "data": {
      "text/plain": [
       "<matplotlib.axes._subplots.AxesSubplot at 0x1b57155da90>"
      ]
     },
     "execution_count": 6,
     "metadata": {},
     "output_type": "execute_result"
    },
    {
     "data": {
      "image/png": "[encoded data removed]",
      "text/plain": [
       "<matplotlib.figure.Figure at 0x1b56eed15c0>"
      ]
     },
     "metadata": {},
     "output_type": "display_data"
    }
   ],
   "source": [
    "toys['manufacturer'].value_counts().iloc[0:20].plot.bar()"
   ]
  },
  {
   "cell_type": "code",
   "execution_count": 7,
   "metadata": {},
   "outputs": [
    {
     "data": {
      "text/plain": [
       "0      £3.42\n",
       "1     £16.99\n",
       "2      £9.99\n",
       "3     £39.99\n",
       "4     £32.19\n",
       "5      £6.99\n",
       "6     £24.99\n",
       "7     £69.93\n",
       "8    £235.58\n",
       "9        NaN\n",
       "Name: price, dtype: object"
      ]
     },
     "execution_count": 7,
     "metadata": {},
     "output_type": "execute_result"
    }
   ],
   "source": [
    "toys['price'].head(10)"
   ]
  },
  {
   "cell_type": "code",
   "execution_count": 8,
   "metadata": {},
   "outputs": [
    {
     "data": {
      "text/plain": [
       "0      3.42\n",
       "1     16.99\n",
       "2      9.99\n",
       "3     39.99\n",
       "4     32.19\n",
       "5      6.99\n",
       "6     24.99\n",
       "7     69.93\n",
       "8    235.58\n",
       "9       NaN\n",
       "Name: price, dtype: object"
      ]
     },
     "execution_count": 8,
     "metadata": {},
     "output_type": "execute_result"
    }
   ],
   "source": [
    "toys['price'].str.replace(r'[^\\d.]','').head(10)"
   ]
  },
  {
   "cell_type": "code",
   "execution_count": 9,
   "metadata": {},
   "outputs": [],
   "source": [
    "toys['price'] = toys['price'].str.replace(r'[^\\d.]','')"
   ]
  },
  {
   "cell_type": "code",
   "execution_count": 10,
   "metadata": {},
   "outputs": [
    {
     "data": {
      "text/plain": [
       "3193    12.6016268.00\n",
       "Name: price, dtype: object"
      ]
     },
     "execution_count": 10,
     "metadata": {},
     "output_type": "execute_result"
    }
   ],
   "source": [
    "toys['price'].loc[toys['price'].str.len() == 13]"
   ]
  },
  {
   "cell_type": "code",
   "execution_count": 11,
   "metadata": {},
   "outputs": [],
   "source": [
    "toys['price'] = toys['price'].str.replace(r'[^\\d.]','').str.split('.').str[0]"
   ]
  },
  {
   "cell_type": "code",
   "execution_count": 12,
   "metadata": {},
   "outputs": [
    {
     "data": {
      "text/plain": [
       "Series([], Name: price, dtype: object)"
      ]
     },
     "execution_count": 12,
     "metadata": {},
     "output_type": "execute_result"
    }
   ],
   "source": [
    "toys['price'].loc[toys['price'].str.len() == 13]"
   ]
  },
  {
   "cell_type": "code",
   "execution_count": 13,
   "metadata": {},
   "outputs": [],
   "source": [
    "toys['price'] = toys['price'].str.replace(r'[^\\d.]','').str.split('.').str[0].astype('float')"
   ]
  },
  {
   "cell_type": "code",
   "execution_count": 14,
   "metadata": {},
   "outputs": [
    {
     "data": {
      "text/plain": [
       "<matplotlib.axes._subplots.AxesSubplot at 0x1b56f2be438>"
      ]
     },
     "execution_count": 14,
     "metadata": {},
     "output_type": "execute_result"
    },
    {
     "data": {
      "image/png": "[encoded data removed]",
      "text/plain": [
       "<matplotlib.figure.Figure at 0x1b55cdd43c8>"
      ]
     },
     "metadata": {},
     "output_type": "display_data"
    }
   ],
   "source": [
    "toys['price'].plot.hist()"
   ]
  },
  {
   "cell_type": "code",
   "execution_count": 15,
   "metadata": {},
   "outputs": [
    {
     "data": {
      "text/plain": [
       "<matplotlib.axes._subplots.AxesSubplot at 0x1b56f076cc0>"
      ]
     },
     "execution_count": 15,
     "metadata": {},
     "output_type": "execute_result"
    },
    {
     "data": {
      "image/png": "[encoded data removed]",
      "text/plain": [
       "<matplotlib.figure.Figure at 0x1b56f2b4e10>"
      ]
     },
     "metadata": {},
     "output_type": "display_data"
    }
   ],
   "source": [
    "np.log1p(toys['price']).plot.hist()"
   ]
  },
  {
   "cell_type": "code",
   "execution_count": 16,
   "metadata": {},
   "outputs": [
    {
     "data": {
      "text/plain": [
       "new            7324\n",
       "used            161\n",
       "collectible      13\n",
       "refurbished       2\n",
       "Name: number_available_in_stock, dtype: int64"
      ]
     },
     "execution_count": 16,
     "metadata": {},
     "output_type": "execute_result"
    }
   ],
   "source": [
    "toys['number_available_in_stock'].str.split(r'[\\s]').str[-1].value_counts()"
   ]
  },
  {
   "cell_type": "code",
   "execution_count": 17,
   "metadata": {},
   "outputs": [
    {
     "data": {
      "text/plain": [
       "<matplotlib.axes._subplots.AxesSubplot at 0x1b56f256a20>"
      ]
     },
     "execution_count": 17,
     "metadata": {},
     "output_type": "execute_result"
    },
    {
     "data": {
      "image/png": "[encoded data removed]",
      "text/plain": [
       "<matplotlib.figure.Figure at 0x1b56f261ac8>"
      ]
     },
     "metadata": {},
     "output_type": "display_data"
    }
   ],
   "source": [
    "toys['number_available_in_stock'] = toys['number_available_in_stock'].str.split(r'[\\s]').str[0].astype('float')\n",
    "toys['number_available_in_stock'].plot.hist()"
   ]
  },
  {
   "cell_type": "code",
   "execution_count": 18,
   "metadata": {},
   "outputs": [
    {
     "data": {
      "text/plain": [
       "<matplotlib.axes._subplots.AxesSubplot at 0x1b56f2159b0>"
      ]
     },
     "execution_count": 18,
     "metadata": {},
     "output_type": "execute_result"
    },
    {
     "data": {
      "image/png": "[encoded data removed]",
      "text/plain": [
       "<matplotlib.figure.Figure at 0x1b56f22c860>"
      ]
     },
     "metadata": {},
     "output_type": "display_data"
    }
   ],
   "source": [
    "np.log1p(toys['number_available_in_stock']).plot.hist()"
   ]
  },
  {
   "cell_type": "code",
   "execution_count": 19,
   "metadata": {},
   "outputs": [
    {
     "data": {
      "text/plain": [
       "<matplotlib.axes._subplots.AxesSubplot at 0x1b56f1dcd30>"
      ]
     },
     "execution_count": 19,
     "metadata": {},
     "output_type": "execute_result"
    },
    {
     "data": {
      "image/png": "[encoded data removed]",
      "text/plain": [
       "<matplotlib.figure.Figure at 0x1b56f200208>"
      ]
     },
     "metadata": {},
     "output_type": "display_data"
    }
   ],
   "source": [
    "toys['number_of_reviews'] = toys['number_of_reviews'].str.replace(',','').astype('float')\n",
    "toys['number_of_reviews'].plot.hist()"
   ]
  },
  {
   "cell_type": "code",
   "execution_count": 20,
   "metadata": {},
   "outputs": [
    {
     "data": {
      "text/plain": [
       "<matplotlib.axes._subplots.AxesSubplot at 0x1b56f1bf9b0>"
      ]
     },
     "execution_count": 20,
     "metadata": {},
     "output_type": "execute_result"
    },
    {
     "data": {
      "image/png": "[encoded data removed]",
      "text/plain": [
       "<matplotlib.figure.Figure at 0x1b56f1a9828>"
      ]
     },
     "metadata": {},
     "output_type": "display_data"
    }
   ],
   "source": [
    "np.log1p(toys['number_of_reviews']).plot.hist()"
   ]
  },
  {
   "cell_type": "code",
   "execution_count": 21,
   "metadata": {},
   "outputs": [
    {
     "data": {
      "text/plain": [
       "7759    4.5 out of 5 stars\n",
       "5767    5.0 out of 5 stars\n",
       "8460    5.0 out of 5 stars\n",
       "5359    5.0 out of 5 stars\n",
       "5361    4.3 out of 5 stars\n",
       "7740    4.2 out of 5 stars\n",
       "9006    4.0 out of 5 stars\n",
       "8569    5.0 out of 5 stars\n",
       "9505    5.0 out of 5 stars\n",
       "778     5.0 out of 5 stars\n",
       "Name: average_review_rating, dtype: object"
      ]
     },
     "execution_count": 21,
     "metadata": {},
     "output_type": "execute_result"
    }
   ],
   "source": [
    "toys['average_review_rating'].sample(10)"
   ]
  },
  {
   "cell_type": "code",
   "execution_count": 22,
   "metadata": {},
   "outputs": [],
   "source": [
    "toys['average_review_rating'] = toys['average_review_rating'].str.split(' ').str[0].astype('float') / toys['average_review_rating'].str.split(' ').str[3].astype('float')"
   ]
  },
  {
   "cell_type": "code",
   "execution_count": 23,
   "metadata": {},
   "outputs": [
    {
     "data": {
      "text/plain": [
       "<matplotlib.axes._subplots.AxesSubplot at 0x1b56f1717f0>"
      ]
     },
     "execution_count": 23,
     "metadata": {},
     "output_type": "execute_result"
    },
    {
     "data": {
      "image/png": "[encoded data removed]",
      "text/plain": [
       "<matplotlib.figure.Figure at 0x1b56f169a58>"
      ]
     },
     "metadata": {},
     "output_type": "display_data"
    }
   ],
   "source": [
    "toys['average_review_rating'].plot.hist()"
   ]
  },
  {
   "cell_type": "code",
   "execution_count": 24,
   "metadata": {},
   "outputs": [
    {
     "data": {
      "text/plain": [
       "9386                          Games > Trivia & Quiz Games\n",
       "5472                                        Games > Chess\n",
       "5724    Hobbies > Model Trains & Railway Sets > Rail V...\n",
       "508                             Games > Dice & Dice Games\n",
       "2950              Party Supplies > Decorations > Balloons\n",
       "5454                                        Games > Chess\n",
       "8231                  Characters & Brands > Disney > Toys\n",
       "5403                                   Games > Card Games\n",
       "9736    Arts & Crafts > Children's Craft Kits > Bead A...\n",
       "3007              Party Supplies > Decorations > Balloons\n",
       "Name: amazon_category_and_sub_category, dtype: object"
      ]
     },
     "execution_count": 24,
     "metadata": {},
     "output_type": "execute_result"
    }
   ],
   "source": [
    "toys['amazon_category_and_sub_category'].sample(10)"
   ]
  },
  {
   "cell_type": "code",
   "execution_count": 25,
   "metadata": {},
   "outputs": [
    {
     "data": {
      "text/plain": [
       "0    [Hobbies, Model Trains & Railway Sets, Rail Ve...\n",
       "1    [Hobbies, Model Trains & Railway Sets, Rail Ve...\n",
       "2    [Hobbies, Model Trains & Railway Sets, Rail Ve...\n",
       "3    [Hobbies, Model Trains & Railway Sets, Rail Ve...\n",
       "4    [Hobbies, Model Trains & Railway Sets, Rail Ve...\n",
       "5    [Hobbies, Model Trains & Railway Sets, Lightin...\n",
       "6    [Hobbies, Model Trains & Railway Sets, Rail Ve...\n",
       "7    [Hobbies, Model Trains & Railway Sets, Rail Ve...\n",
       "8    [Hobbies, Model Trains & Railway Sets, Rail Ve...\n",
       "9    [Hobbies, Model Trains & Railway Sets, Rail Ve...\n",
       "Name: amazon_category_and_sub_category, dtype: object"
      ]
     },
     "execution_count": 25,
     "metadata": {},
     "output_type": "execute_result"
    }
   ],
   "source": [
    "toys['amazon_category_and_sub_category'].str.split(' > ').head(10)"
   ]
  },
  {
   "cell_type": "code",
   "execution_count": 26,
   "metadata": {},
   "outputs": [
    {
     "data": {
      "text/plain": [
       "<matplotlib.axes._subplots.AxesSubplot at 0x1b56f97c5c0>"
      ]
     },
     "execution_count": 26,
     "metadata": {},
     "output_type": "execute_result"
    },
    {
     "data": {
      "image/png": "[encoded data removed]",
      "text/plain": [
       "<matplotlib.figure.Figure at 0x1b56f97cc18>"
      ]
     },
     "metadata": {},
     "output_type": "display_data"
    }
   ],
   "source": [
    "from itertools import chain\n",
    "from collections import Counter\n",
    "\n",
    "counts = pd.Series(dict(Counter(chain.from_iterable(toys['amazon_category_and_sub_category'].fillna('').str.split(' > ').values))))\n",
    "counts = counts.sort_values(ascending = False)\n",
    "counts.iloc[0:20].plot.bar()"
   ]
  },
  {
   "cell_type": "code",
   "execution_count": 46,
   "metadata": {},
   "outputs": [],
   "source": [
    "toys['description'] = toys['description'].fillna('')"
   ]
  },
  {
   "cell_type": "code",
   "execution_count": 51,
   "metadata": {},
   "outputs": [],
   "source": [
    "from sklearn.feature_extraction.text import TfidfVectorizer\n",
    "\n",
    "counter = TfidfVectorizer(stop_words = 'english')\n",
    "\n",
    "counter.fit(toys['description'])\n",
    "\n",
    "product_description = counter.transform(toys['description'])"
   ]
  },
  {
   "cell_type": "code",
   "execution_count": 52,
   "metadata": {},
   "outputs": [
    {
     "data": {
      "text/plain": [
       "<10000x30500 sparse matrix of type '<class 'numpy.float64'>'\n",
       "\twith 316256 stored elements in Compressed Sparse Row format>"
      ]
     },
     "execution_count": 52,
     "metadata": {},
     "output_type": "execute_result"
    }
   ],
   "source": [
    "product_description"
   ]
  },
  {
   "cell_type": "code",
   "execution_count": 88,
   "metadata": {},
   "outputs": [
    {
     "name": "stderr",
     "output_type": "stream",
     "text": [
      "C:\\Anaconda\\lib\\site-packages\\sklearn\\decomposition\\online_lda.py:536: DeprecationWarning: The default value for 'learning_method' will be changed from 'online' to 'batch' in the release 0.20. This warning was introduced in 0.18.\n",
      "  DeprecationWarning)\n"
     ]
    },
    {
     "name": "stdout",
     "output_type": "stream",
     "text": [
      "[[0.0169058  0.0169058  0.0169058  0.0169058  0.12653971 0.0169058\n",
      "  0.0169058  0.0169058  0.0169058  0.0169058  0.0169058  0.0169058\n",
      "  0.0169058  0.0169058  0.0169058  0.0169058  0.0169058  0.56915593\n",
      "  0.0169058  0.0169058 ]\n",
      " [0.01013908 0.01013908 0.01013908 0.01013908 0.01013908 0.01013908\n",
      "  0.01013908 0.22129008 0.01013908 0.01013908 0.01013908 0.01013908\n",
      "  0.01013908 0.01013908 0.01013908 0.01013908 0.01013908 0.59620639\n",
      "  0.01013908 0.01013908]\n",
      " [0.00798642 0.00798642 0.00798642 0.00798642 0.00798642 0.00798642\n",
      "  0.00798642 0.00798642 0.00798642 0.00798642 0.00798642 0.00798642\n",
      "  0.00798642 0.00798642 0.00798642 0.00798642 0.00798642 0.84825807\n",
      "  0.00798642 0.00798642]\n",
      " [0.01277472 0.01277472 0.01277472 0.01277472 0.53455413 0.01277472\n",
      "  0.01277472 0.01277472 0.01277472 0.01277472 0.01277472 0.2355009\n",
      "  0.01277472 0.01277472 0.01277472 0.01277472 0.01277472 0.01277472\n",
      "  0.01277472 0.01277472]\n",
      " [0.00781796 0.00781796 0.00781796 0.00781796 0.18360721 0.00781796\n",
      "  0.00781796 0.00781796 0.00781796 0.00781796 0.00781796 0.10773062\n",
      "  0.00781796 0.00781796 0.00781796 0.00781796 0.00781796 0.51616119\n",
      "  0.00781796 0.06741364]]\n"
     ]
    }
   ],
   "source": [
    "from sklearn.decomposition import LatentDirichletAllocation\n",
    "\n",
    "topics = LatentDirichletAllocation(n_components = 20)\n",
    "\n",
    "topics.fit(product_description)\n",
    "\n",
    "topics_lda = topics.transform(product_description)\n",
    "\n",
    "print(topics_lda[0:5])"
   ]
  },
  {
   "cell_type": "code",
   "execution_count": 89,
   "metadata": {},
   "outputs": [
    {
     "data": {
      "text/plain": [
       "array([ 141.65124571,  127.84714886,  135.70875223,  156.33112097,\n",
       "       1234.78286705,  164.2677334 ,  131.41084172,  133.36646411,\n",
       "        134.72451466,  129.62796177,  146.04857567,  138.60209765,\n",
       "        471.4009927 ,  169.72234805,  186.71429232,  156.83649869,\n",
       "        145.53299442, 5802.62627994,  135.03922166,  157.75804844])"
      ]
     },
     "execution_count": 89,
     "metadata": {},
     "output_type": "execute_result"
    }
   ],
   "source": [
    "topics_lda.sum(0)"
   ]
  },
  {
   "cell_type": "code",
   "execution_count": 93,
   "metadata": {},
   "outputs": [],
   "source": [
    "topics_lda = topics_lda / np.matrix(topics_lda.sum(1)+np.finfo(float).eps).T"
   ]
  },
  {
   "cell_type": "code",
   "execution_count": 94,
   "metadata": {},
   "outputs": [
    {
     "data": {
      "text/plain": [
       "matrix([[1.],\n",
       "        [1.],\n",
       "        [1.],\n",
       "        [1.],\n",
       "        [1.],\n",
       "        [1.],\n",
       "        [1.],\n",
       "        [1.],\n",
       "        [1.],\n",
       "        [1.]])"
      ]
     },
     "execution_count": 94,
     "metadata": {},
     "output_type": "execute_result"
    }
   ],
   "source": [
    "topics_lda.sum(1)[0:10]"
   ]
  },
  {
   "cell_type": "code",
   "execution_count": 91,
   "metadata": {},
   "outputs": [],
   "source": [
    "tfidf_feature_names = counter.get_feature_names()"
   ]
  },
  {
   "cell_type": "code",
   "execution_count": 83,
   "metadata": {},
   "outputs": [],
   "source": [
    "def print_top_words(model, feature_names, n_top_words):\n",
    "    for topic_idx, topic in enumerate(model.components_):\n",
    "        message = \"Topic #%d: \" % topic_idx\n",
    "        message += \" \".join([feature_names[i]\n",
    "                             for i in topic.argsort()[:-n_top_words - 1:-1]])\n",
    "        print(message)\n",
    "    print()"
   ]
  },
  {
   "cell_type": "code",
   "execution_count": 96,
   "metadata": {},
   "outputs": [
    {
     "name": "stdout",
     "output_type": "stream",
     "text": [
      "Topic #0: chuggington teeth trainees plantoys fear warnings flamingo brewster daimler koko\n",
      "Topic #1: arranged castanet marabu backrest wooded duncan kentrosaurus lounger swimways reclining\n",
      "Topic #2: circle gruffalo radius curve pug h150mm h25cm julia deg su\n",
      "Topic #3: trackmaster monchhichi maistoscale ref cast tangle 18die blackmanufacturer tangles 12die\n",
      "Topic #4: scale model combined items models car 00 following diecast 50\n",
      "Topic #5: ty beanie beyblade baby hulk spartan clown plants zombies hq\n",
      "Topic #6: brainbox babies fractions compass 1in reversible collects architecture joggle 20013\n",
      "Topic #7: 104pc stall critters stalls jp si buffers subway exchange reproduce\n",
      "Topic #8: simon bullyland copper 10pcs h200mm bulb mug h20cm 27mm asterix\n",
      "Topic #9: afv haul caboose spencer corriere entro spedito espresso ricezione ore\n",
      "Topic #10: 9ft oliver 1929 h140mm firefly goggles moustaches southern donaldson axel\n",
      "Topic #11: steam locomotive dcc decoder 01978 661046 cladding loco dapol services\n",
      "Topic #12: wars star lego figure action minifigure clone minifigures majority philosophy\n",
      "Topic #13: carnival wagon percy hotwheels aesop fables km riley tender rails\n",
      "Topic #14: dammit keychain quadcopter freight west stress wagons locomotive rc x1\n",
      "Topic #15: scalextric digital figuarts blocking caribbean sparrow sails fc h160mm braid\n",
      "Topic #16: en taille env et mit avec und emballage boîte socle\n",
      "Topic #17: product description box contains figure set children game quality cards\n",
      "Topic #18: coal beleduc yummy graded h15cm surfer 100th ray edward caesar\n",
      "Topic #19: ex pokémon weatherproof tcg hall locomotive railroad kiting region scotsman\n",
      "\n"
     ]
    }
   ],
   "source": [
    "print_top_words(topics, tfidf_feature_names, 10)"
   ]
  },
  {
   "cell_type": "code",
   "execution_count": null,
   "metadata": {},
   "outputs": [],
   "source": []
  }
 ],
 "metadata": {
  "kernelspec": {
   "display_name": "Python 3",
   "language": "python",
   "name": "python3"
  },
  "language_info": {
   "codemirror_mode": {
    "name": "ipython",
    "version": 3
   },
   "file_extension": ".py",
   "mimetype": "text/x-python",
   "name": "python",
   "nbconvert_exporter": "python",
   "pygments_lexer": "ipython3",
   "version": "3.6.3"
  }
 },
 "nbformat": 4,
 "nbformat_minor": 2
}
