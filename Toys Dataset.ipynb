{
 "cells": [
  {
   "cell_type": "code",
   "execution_count": 485,
   "metadata": {},
   "outputs": [],
   "source": [
    "import pandas as pd\n",
    "import numpy as np\n",
    "from help import *\n",
    "import matplotlib.pyplot as plt\n",
    "%matplotlib inline\n",
    "import seaborn as sb"
   ]
  },
  {
   "cell_type": "code",
   "execution_count": 486,
   "metadata": {},
   "outputs": [],
   "source": [
    "toys = pd.read_csv('amazon_co-ecommerce_sample.csv')"
   ]
  },
  {
   "cell_type": "code",
   "execution_count": 487,
   "metadata": {},
   "outputs": [
    {
     "data": {
      "text/html": [
       "<div>\n",
       "<style scoped>\n",
       "    .dataframe tbody tr th:only-of-type {\n",
       "        vertical-align: middle;\n",
       "    }\n",
       "\n",
       "    .dataframe tbody tr th {\n",
       "        vertical-align: top;\n",
       "    }\n",
       "\n",
       "    .dataframe thead th {\n",
       "        text-align: right;\n",
       "    }\n",
       "</style>\n",
       "<table border=\"1\" class=\"dataframe\">\n",
       "  <thead>\n",
       "    <tr style=\"text-align: right;\">\n",
       "      <th></th>\n",
       "      <th>number_of_answered_questions</th>\n",
       "    </tr>\n",
       "  </thead>\n",
       "  <tbody>\n",
       "    <tr>\n",
       "      <th>count</th>\n",
       "      <td>9235.000000</td>\n",
       "    </tr>\n",
       "    <tr>\n",
       "      <th>mean</th>\n",
       "      <td>1.834976</td>\n",
       "    </tr>\n",
       "    <tr>\n",
       "      <th>std</th>\n",
       "      <td>2.517268</td>\n",
       "    </tr>\n",
       "    <tr>\n",
       "      <th>min</th>\n",
       "      <td>1.000000</td>\n",
       "    </tr>\n",
       "    <tr>\n",
       "      <th>25%</th>\n",
       "      <td>1.000000</td>\n",
       "    </tr>\n",
       "    <tr>\n",
       "      <th>50%</th>\n",
       "      <td>1.000000</td>\n",
       "    </tr>\n",
       "    <tr>\n",
       "      <th>75%</th>\n",
       "      <td>2.000000</td>\n",
       "    </tr>\n",
       "    <tr>\n",
       "      <th>max</th>\n",
       "      <td>39.000000</td>\n",
       "    </tr>\n",
       "  </tbody>\n",
       "</table>\n",
       "</div>"
      ],
      "text/plain": [
       "       number_of_answered_questions\n",
       "count                   9235.000000\n",
       "mean                       1.834976\n",
       "std                        2.517268\n",
       "min                        1.000000\n",
       "25%                        1.000000\n",
       "50%                        1.000000\n",
       "75%                        2.000000\n",
       "max                       39.000000"
      ]
     },
     "execution_count": 487,
     "metadata": {},
     "output_type": "execute_result"
    }
   ],
   "source": [
    "toys.describe()"
   ]
  },
  {
   "cell_type": "code",
   "execution_count": 488,
   "metadata": {},
   "outputs": [
    {
     "data": {
      "text/html": [
       "<div>\n",
       "<style scoped>\n",
       "    .dataframe tbody tr th:only-of-type {\n",
       "        vertical-align: middle;\n",
       "    }\n",
       "\n",
       "    .dataframe tbody tr th {\n",
       "        vertical-align: top;\n",
       "    }\n",
       "\n",
       "    .dataframe thead th {\n",
       "        text-align: right;\n",
       "    }\n",
       "</style>\n",
       "<table border=\"1\" class=\"dataframe\">\n",
       "  <thead>\n",
       "    <tr style=\"text-align: right;\">\n",
       "      <th></th>\n",
       "      <th>uniq_id</th>\n",
       "      <th>product_name</th>\n",
       "      <th>manufacturer</th>\n",
       "      <th>price</th>\n",
       "      <th>number_available_in_stock</th>\n",
       "      <th>number_of_reviews</th>\n",
       "      <th>average_review_rating</th>\n",
       "      <th>amazon_category_and_sub_category</th>\n",
       "      <th>customers_who_bought_this_item_also_bought</th>\n",
       "      <th>description</th>\n",
       "      <th>product_information</th>\n",
       "      <th>product_description</th>\n",
       "      <th>items_customers_buy_after_viewing_this_item</th>\n",
       "      <th>customer_questions_and_answers</th>\n",
       "      <th>customer_reviews</th>\n",
       "      <th>sellers</th>\n",
       "    </tr>\n",
       "  </thead>\n",
       "  <tbody>\n",
       "    <tr>\n",
       "      <th>count</th>\n",
       "      <td>10000</td>\n",
       "      <td>10000</td>\n",
       "      <td>9993</td>\n",
       "      <td>8565</td>\n",
       "      <td>7500</td>\n",
       "      <td>9982</td>\n",
       "      <td>9982</td>\n",
       "      <td>9310</td>\n",
       "      <td>8938</td>\n",
       "      <td>9349</td>\n",
       "      <td>9942</td>\n",
       "      <td>9349</td>\n",
       "      <td>6935</td>\n",
       "      <td>914</td>\n",
       "      <td>9979</td>\n",
       "      <td>6918</td>\n",
       "    </tr>\n",
       "    <tr>\n",
       "      <th>unique</th>\n",
       "      <td>10000</td>\n",
       "      <td>9964</td>\n",
       "      <td>2651</td>\n",
       "      <td>2625</td>\n",
       "      <td>89</td>\n",
       "      <td>194</td>\n",
       "      <td>19</td>\n",
       "      <td>255</td>\n",
       "      <td>8755</td>\n",
       "      <td>8514</td>\n",
       "      <td>9939</td>\n",
       "      <td>8514</td>\n",
       "      <td>6749</td>\n",
       "      <td>910</td>\n",
       "      <td>9901</td>\n",
       "      <td>6581</td>\n",
       "    </tr>\n",
       "    <tr>\n",
       "      <th>top</th>\n",
       "      <td>d43fadaf5463bbb6017747a3f48a8640</td>\n",
       "      <td>Zoo Animal Hand Sock Glove Finger Puppets Sack...</td>\n",
       "      <td>LEGO</td>\n",
       "      <td>£9.99</td>\n",
       "      <td>2 new</td>\n",
       "      <td>1</td>\n",
       "      <td>5.0 out of 5 stars</td>\n",
       "      <td>Die-Cast &amp; Toy Vehicles &gt; Toy Vehicles &amp; Acces...</td>\n",
       "      <td>http://www.amazon.co.uk/Scalextric | http://ww...</td>\n",
       "      <td>Welcome to k2, we offer combined items postage...</td>\n",
       "      <td>Technical Details Manufacturer recommended age...</td>\n",
       "      <td>Welcome to k2, we offer combined items postage...</td>\n",
       "      <td>http://www.amazon.co.uk/Scalextric | http://ww...</td>\n",
       "      <td>Are these the newest cards out? // HelloYes th...</td>\n",
       "      <td>Five Stars // 5.0 // 1 Feb. 2015 // By\\n    \\n...</td>\n",
       "      <td>{\"seller\"=&gt;{\"Seller_name_1\"=&gt;\"k2-accessories\",...</td>\n",
       "    </tr>\n",
       "    <tr>\n",
       "      <th>freq</th>\n",
       "      <td>1</td>\n",
       "      <td>3</td>\n",
       "      <td>171</td>\n",
       "      <td>189</td>\n",
       "      <td>1337</td>\n",
       "      <td>4315</td>\n",
       "      <td>5140</td>\n",
       "      <td>880</td>\n",
       "      <td>60</td>\n",
       "      <td>113</td>\n",
       "      <td>2</td>\n",
       "      <td>113</td>\n",
       "      <td>38</td>\n",
       "      <td>2</td>\n",
       "      <td>5</td>\n",
       "      <td>27</td>\n",
       "    </tr>\n",
       "  </tbody>\n",
       "</table>\n",
       "</div>"
      ],
      "text/plain": [
       "                                 uniq_id  \\\n",
       "count                              10000   \n",
       "unique                             10000   \n",
       "top     d43fadaf5463bbb6017747a3f48a8640   \n",
       "freq                                   1   \n",
       "\n",
       "                                             product_name manufacturer  price  \\\n",
       "count                                               10000         9993   8565   \n",
       "unique                                               9964         2651   2625   \n",
       "top     Zoo Animal Hand Sock Glove Finger Puppets Sack...         LEGO  £9.99   \n",
       "freq                                                    3          171    189   \n",
       "\n",
       "       number_available_in_stock number_of_reviews average_review_rating  \\\n",
       "count                       7500              9982                  9982   \n",
       "unique                        89               194                    19   \n",
       "top                        2 new                 1    5.0 out of 5 stars   \n",
       "freq                        1337              4315                  5140   \n",
       "\n",
       "                         amazon_category_and_sub_category  \\\n",
       "count                                                9310   \n",
       "unique                                                255   \n",
       "top     Die-Cast & Toy Vehicles > Toy Vehicles & Acces...   \n",
       "freq                                                  880   \n",
       "\n",
       "               customers_who_bought_this_item_also_bought  \\\n",
       "count                                                8938   \n",
       "unique                                               8755   \n",
       "top     http://www.amazon.co.uk/Scalextric | http://ww...   \n",
       "freq                                                   60   \n",
       "\n",
       "                                              description  \\\n",
       "count                                                9349   \n",
       "unique                                               8514   \n",
       "top     Welcome to k2, we offer combined items postage...   \n",
       "freq                                                  113   \n",
       "\n",
       "                                      product_information  \\\n",
       "count                                                9942   \n",
       "unique                                               9939   \n",
       "top     Technical Details Manufacturer recommended age...   \n",
       "freq                                                    2   \n",
       "\n",
       "                                      product_description  \\\n",
       "count                                                9349   \n",
       "unique                                               8514   \n",
       "top     Welcome to k2, we offer combined items postage...   \n",
       "freq                                                  113   \n",
       "\n",
       "              items_customers_buy_after_viewing_this_item  \\\n",
       "count                                                6935   \n",
       "unique                                               6749   \n",
       "top     http://www.amazon.co.uk/Scalextric | http://ww...   \n",
       "freq                                                   38   \n",
       "\n",
       "                           customer_questions_and_answers  \\\n",
       "count                                                 914   \n",
       "unique                                                910   \n",
       "top     Are these the newest cards out? // HelloYes th...   \n",
       "freq                                                    2   \n",
       "\n",
       "                                         customer_reviews  \\\n",
       "count                                                9979   \n",
       "unique                                               9901   \n",
       "top     Five Stars // 5.0 // 1 Feb. 2015 // By\\n    \\n...   \n",
       "freq                                                    5   \n",
       "\n",
       "                                                  sellers  \n",
       "count                                                6918  \n",
       "unique                                               6581  \n",
       "top     {\"seller\"=>{\"Seller_name_1\"=>\"k2-accessories\",...  \n",
       "freq                                                   27  "
      ]
     },
     "execution_count": 488,
     "metadata": {},
     "output_type": "execute_result"
    }
   ],
   "source": [
    "toys.describe(include = ['O'])"
   ]
  },
  {
   "cell_type": "code",
   "execution_count": 489,
   "metadata": {},
   "outputs": [
    {
     "data": {
      "text/plain": [
       "LEGO                             171\n",
       "Disney                           167\n",
       "Oxford Diecast                   156\n",
       "Playmobil                        147\n",
       "Star Wars                        120\n",
       "Mattel                           114\n",
       "Hasbro                           110\n",
       "The Puppet Company               109\n",
       "MyTinyWorld                       93\n",
       "Corgi                             90\n",
       "Hornby                            87\n",
       "Scalextric                        76\n",
       "Pokémon                           69\n",
       "Schleich                          68\n",
       "Amscan                            65\n",
       "Every-occasion-party-supplies     62\n",
       "Melissa & Doug                    59\n",
       "FunKo                             59\n",
       "Papo                              58\n",
       "Tamiya                            57\n",
       "Name: manufacturer, dtype: int64"
      ]
     },
     "execution_count": 489,
     "metadata": {},
     "output_type": "execute_result"
    }
   ],
   "source": [
    "toys['manufacturer'].value_counts().iloc[0:20]"
   ]
  },
  {
   "cell_type": "code",
   "execution_count": 490,
   "metadata": {},
   "outputs": [
    {
     "data": {
      "text/plain": [
       "<matplotlib.axes._subplots.AxesSubplot at 0x17b8847bb00>"
      ]
     },
     "execution_count": 490,
     "metadata": {},
     "output_type": "execute_result"
    },
    {
     "data": {
      "image/png": "[encoded data removed]",
      "text/plain": [
       "<matplotlib.figure.Figure at 0x17b8848c4a8>"
      ]
     },
     "metadata": {},
     "output_type": "display_data"
    }
   ],
   "source": [
    "toys['manufacturer'].value_counts().iloc[0:20].plot.bar()"
   ]
  },
  {
   "cell_type": "code",
   "execution_count": 491,
   "metadata": {},
   "outputs": [
    {
     "data": {
      "text/plain": [
       "0      £3.42\n",
       "1     £16.99\n",
       "2      £9.99\n",
       "3     £39.99\n",
       "4     £32.19\n",
       "5      £6.99\n",
       "6     £24.99\n",
       "7     £69.93\n",
       "8    £235.58\n",
       "9        NaN\n",
       "Name: price, dtype: object"
      ]
     },
     "execution_count": 491,
     "metadata": {},
     "output_type": "execute_result"
    }
   ],
   "source": [
    "toys['price'].head(10)"
   ]
  },
  {
   "cell_type": "code",
   "execution_count": 492,
   "metadata": {},
   "outputs": [
    {
     "data": {
      "text/plain": [
       "0      3.42\n",
       "1     16.99\n",
       "2      9.99\n",
       "3     39.99\n",
       "4     32.19\n",
       "5      6.99\n",
       "6     24.99\n",
       "7     69.93\n",
       "8    235.58\n",
       "9       NaN\n",
       "Name: price, dtype: object"
      ]
     },
     "execution_count": 492,
     "metadata": {},
     "output_type": "execute_result"
    }
   ],
   "source": [
    "toys['price'].str.replace(r'[^\\d.]','').head(10)"
   ]
  },
  {
   "cell_type": "code",
   "execution_count": 493,
   "metadata": {},
   "outputs": [],
   "source": [
    "toys['price'] = toys['price'].str.replace(r'[^\\d.]','')"
   ]
  },
  {
   "cell_type": "code",
   "execution_count": 494,
   "metadata": {},
   "outputs": [
    {
     "data": {
      "text/plain": [
       "3193    12.6016268.00\n",
       "Name: price, dtype: object"
      ]
     },
     "execution_count": 494,
     "metadata": {},
     "output_type": "execute_result"
    }
   ],
   "source": [
    "toys['price'].loc[toys['price'].str.len() == 13]"
   ]
  },
  {
   "cell_type": "code",
   "execution_count": 495,
   "metadata": {},
   "outputs": [],
   "source": [
    "toys['price'] = toys['price'].str.replace(r'[^\\d.]','').str.split('.').str[0]"
   ]
  },
  {
   "cell_type": "code",
   "execution_count": 496,
   "metadata": {},
   "outputs": [
    {
     "data": {
      "text/plain": [
       "Series([], Name: price, dtype: object)"
      ]
     },
     "execution_count": 496,
     "metadata": {},
     "output_type": "execute_result"
    }
   ],
   "source": [
    "toys['price'].loc[toys['price'].str.len() == 13]"
   ]
  },
  {
   "cell_type": "code",
   "execution_count": 497,
   "metadata": {},
   "outputs": [],
   "source": [
    "toys['price'] = toys['price'].str.replace(r'[^\\d.]','').str.split('.').str[0].astype('float')"
   ]
  },
  {
   "cell_type": "code",
   "execution_count": 498,
   "metadata": {},
   "outputs": [
    {
     "data": {
      "text/plain": [
       "<matplotlib.axes._subplots.AxesSubplot at 0x17b98da5518>"
      ]
     },
     "execution_count": 498,
     "metadata": {},
     "output_type": "execute_result"
    },
    {
     "data": {
      "image/png": "[encoded data removed]",
      "text/plain": [
       "<matplotlib.figure.Figure at 0x17b98da8978>"
      ]
     },
     "metadata": {},
     "output_type": "display_data"
    }
   ],
   "source": [
    "toys['price'].plot.hist()"
   ]
  },
  {
   "cell_type": "code",
   "execution_count": 499,
   "metadata": {},
   "outputs": [
    {
     "data": {
      "text/plain": [
       "<matplotlib.axes._subplots.AxesSubplot at 0x17b98da3d30>"
      ]
     },
     "execution_count": 499,
     "metadata": {},
     "output_type": "execute_result"
    },
    {
     "data": {
      "image/png": "[encoded data removed]",
      "text/plain": [
       "<matplotlib.figure.Figure at 0x17b98d98cf8>"
      ]
     },
     "metadata": {},
     "output_type": "display_data"
    }
   ],
   "source": [
    "np.log1p(toys['price']).plot.hist()"
   ]
  },
  {
   "cell_type": "code",
   "execution_count": 500,
   "metadata": {},
   "outputs": [
    {
     "data": {
      "text/plain": [
       "new            7324\n",
       "used            161\n",
       "collectible      13\n",
       "refurbished       2\n",
       "Name: number_available_in_stock, dtype: int64"
      ]
     },
     "execution_count": 500,
     "metadata": {},
     "output_type": "execute_result"
    }
   ],
   "source": [
    "toys['number_available_in_stock'].str.split(r'[\\s]').str[-1].value_counts()"
   ]
  },
  {
   "cell_type": "code",
   "execution_count": 501,
   "metadata": {},
   "outputs": [
    {
     "data": {
      "text/plain": [
       "<matplotlib.axes._subplots.AxesSubplot at 0x17b98d67588>"
      ]
     },
     "execution_count": 501,
     "metadata": {},
     "output_type": "execute_result"
    },
    {
     "data": {
      "image/png": "[encoded data removed]",
      "text/plain": [
       "<matplotlib.figure.Figure at 0x17b98d774a8>"
      ]
     },
     "metadata": {},
     "output_type": "display_data"
    }
   ],
   "source": [
    "toys['number_available_in_stock'] = toys['number_available_in_stock'].str.split(r'[\\s]').str[0].astype('float')\n",
    "toys['number_available_in_stock'].plot.hist()"
   ]
  },
  {
   "cell_type": "code",
   "execution_count": 502,
   "metadata": {},
   "outputs": [
    {
     "data": {
      "text/plain": [
       "<matplotlib.axes._subplots.AxesSubplot at 0x17b98d39908>"
      ]
     },
     "execution_count": 502,
     "metadata": {},
     "output_type": "execute_result"
    },
    {
     "data": {
      "image/png": "[encoded data removed]",
      "text/plain": [
       "<matplotlib.figure.Figure at 0x17b98d47dd8>"
      ]
     },
     "metadata": {},
     "output_type": "display_data"
    }
   ],
   "source": [
    "np.log1p(toys['number_available_in_stock']).plot.hist()"
   ]
  },
  {
   "cell_type": "code",
   "execution_count": 503,
   "metadata": {},
   "outputs": [
    {
     "data": {
      "text/plain": [
       "<matplotlib.axes._subplots.AxesSubplot at 0x17b98d33160>"
      ]
     },
     "execution_count": 503,
     "metadata": {},
     "output_type": "execute_result"
    },
    {
     "data": {
      "image/png": "[encoded data removed]",
      "text/plain": [
       "<matplotlib.figure.Figure at 0x17b98d41668>"
      ]
     },
     "metadata": {},
     "output_type": "display_data"
    }
   ],
   "source": [
    "toys['number_of_reviews'] = toys['number_of_reviews'].str.replace(',','').astype('float')\n",
    "toys['number_of_reviews'].plot.hist()"
   ]
  },
  {
   "cell_type": "code",
   "execution_count": 504,
   "metadata": {},
   "outputs": [
    {
     "data": {
      "text/plain": [
       "<matplotlib.axes._subplots.AxesSubplot at 0x17b98d2c860>"
      ]
     },
     "execution_count": 504,
     "metadata": {},
     "output_type": "execute_result"
    },
    {
     "data": {
      "image/png": "[encoded data removed]",
      "text/plain": [
       "<matplotlib.figure.Figure at 0x17b98c83eb8>"
      ]
     },
     "metadata": {},
     "output_type": "display_data"
    }
   ],
   "source": [
    "np.log1p(toys['number_of_reviews']).plot.hist()"
   ]
  },
  {
   "cell_type": "code",
   "execution_count": 505,
   "metadata": {},
   "outputs": [
    {
     "data": {
      "text/plain": [
       "6437    5.0 out of 5 stars\n",
       "1711    5.0 out of 5 stars\n",
       "4952    4.0 out of 5 stars\n",
       "2023    5.0 out of 5 stars\n",
       "2309    5.0 out of 5 stars\n",
       "8308    4.9 out of 5 stars\n",
       "9166    4.1 out of 5 stars\n",
       "7470    4.1 out of 5 stars\n",
       "299     4.5 out of 5 stars\n",
       "4212    5.0 out of 5 stars\n",
       "Name: average_review_rating, dtype: object"
      ]
     },
     "execution_count": 505,
     "metadata": {},
     "output_type": "execute_result"
    }
   ],
   "source": [
    "toys['average_review_rating'].sample(10)"
   ]
  },
  {
   "cell_type": "code",
   "execution_count": 506,
   "metadata": {},
   "outputs": [],
   "source": [
    "toys['average_review_rating'] = toys['average_review_rating'].str.split(' ').str[0].astype('float') / toys['average_review_rating'].str.split(' ').str[3].astype('float')"
   ]
  },
  {
   "cell_type": "code",
   "execution_count": 507,
   "metadata": {},
   "outputs": [
    {
     "data": {
      "text/plain": [
       "<matplotlib.axes._subplots.AxesSubplot at 0x17b98c6eac8>"
      ]
     },
     "execution_count": 507,
     "metadata": {},
     "output_type": "execute_result"
    },
    {
     "data": {
      "image/png": "[encoded data removed]",
      "text/plain": [
       "<matplotlib.figure.Figure at 0x17b98c535f8>"
      ]
     },
     "metadata": {},
     "output_type": "display_data"
    }
   ],
   "source": [
    "toys['average_review_rating'].plot.hist()"
   ]
  },
  {
   "cell_type": "code",
   "execution_count": 508,
   "metadata": {},
   "outputs": [
    {
     "data": {
      "text/plain": [
       "7739    Die-Cast & Toy Vehicles > Toy Trains & Accesso...\n",
       "6864                         Characters & Brands > Hasbro\n",
       "9890                            Games > Dice & Dice Games\n",
       "2339    Hobbies > Remote Controlled Devices > Parts & ...\n",
       "917     Die-Cast & Toy Vehicles > Toy Vehicles & Acces...\n",
       "9728    Arts & Crafts > Children's Craft Kits > Bead A...\n",
       "9540                          Games > Trivia & Quiz Games\n",
       "6166               Figures & Playsets > Cowboys & Indians\n",
       "3637                Hobbies > Model Building Kits > Tanks\n",
       "1855        Fancy Dress > Accessories > Temporary Tattoos\n",
       "Name: amazon_category_and_sub_category, dtype: object"
      ]
     },
     "execution_count": 508,
     "metadata": {},
     "output_type": "execute_result"
    }
   ],
   "source": [
    "toys['amazon_category_and_sub_category'].sample(10)"
   ]
  },
  {
   "cell_type": "code",
   "execution_count": 509,
   "metadata": {},
   "outputs": [
    {
     "data": {
      "text/plain": [
       "0    [Hobbies, Model Trains & Railway Sets, Rail Ve...\n",
       "1    [Hobbies, Model Trains & Railway Sets, Rail Ve...\n",
       "2    [Hobbies, Model Trains & Railway Sets, Rail Ve...\n",
       "3    [Hobbies, Model Trains & Railway Sets, Rail Ve...\n",
       "4    [Hobbies, Model Trains & Railway Sets, Rail Ve...\n",
       "5    [Hobbies, Model Trains & Railway Sets, Lightin...\n",
       "6    [Hobbies, Model Trains & Railway Sets, Rail Ve...\n",
       "7    [Hobbies, Model Trains & Railway Sets, Rail Ve...\n",
       "8    [Hobbies, Model Trains & Railway Sets, Rail Ve...\n",
       "9    [Hobbies, Model Trains & Railway Sets, Rail Ve...\n",
       "Name: amazon_category_and_sub_category, dtype: object"
      ]
     },
     "execution_count": 509,
     "metadata": {},
     "output_type": "execute_result"
    }
   ],
   "source": [
    "toys['amazon_category_and_sub_category'].str.split(' > ').head(10)"
   ]
  },
  {
   "cell_type": "code",
   "execution_count": 510,
   "metadata": {},
   "outputs": [
    {
     "data": {
      "text/plain": [
       "<matplotlib.axes._subplots.AxesSubplot at 0x17b98dbe7b8>"
      ]
     },
     "execution_count": 510,
     "metadata": {},
     "output_type": "execute_result"
    },
    {
     "data": {
      "image/png": "[encoded data removed]",
      "text/plain": [
       "<matplotlib.figure.Figure at 0x17b98dbd710>"
      ]
     },
     "metadata": {},
     "output_type": "display_data"
    }
   ],
   "source": [
    "from itertools import chain\n",
    "from collections import Counter\n",
    "\n",
    "counts = pd.Series(dict(Counter(chain.from_iterable(toys['amazon_category_and_sub_category'].fillna('').str.split(' > ').values))))\n",
    "counts = counts.sort_values(ascending = False)\n",
    "counts.iloc[0:20].plot.bar()"
   ]
  },
  {
   "cell_type": "code",
   "execution_count": 511,
   "metadata": {},
   "outputs": [],
   "source": [
    "toys['description'] = toys['description'].fillna('')"
   ]
  },
  {
   "cell_type": "code",
   "execution_count": 512,
   "metadata": {},
   "outputs": [],
   "source": [
    "from sklearn.feature_extraction.text import TfidfVectorizer\n",
    "\n",
    "counter = TfidfVectorizer(stop_words = 'english')\n",
    "\n",
    "counter.fit(toys['description'])\n",
    "\n",
    "product_description = counter.transform(toys['description'])"
   ]
  },
  {
   "cell_type": "code",
   "execution_count": 513,
   "metadata": {},
   "outputs": [
    {
     "name": "stderr",
     "output_type": "stream",
     "text": [
      "C:\\Anaconda\\lib\\site-packages\\sklearn\\decomposition\\online_lda.py:536: DeprecationWarning: The default value for 'learning_method' will be changed from 'online' to 'batch' in the release 0.20. This warning was introduced in 0.18.\n",
      "  DeprecationWarning)\n"
     ]
    },
    {
     "name": "stdout",
     "output_type": "stream",
     "text": [
      "[[0.0169058  0.0169058  0.0169058  0.0169058  0.0169058  0.0169058\n",
      "  0.0169058  0.0169058  0.0169058  0.12798693 0.0169058  0.0169058\n",
      "  0.0169058  0.0169058  0.0169058  0.0169058  0.0169058  0.0169058\n",
      "  0.0169058  0.5677087 ]\n",
      " [0.01013908 0.01013908 0.01013908 0.01013908 0.01013908 0.01013908\n",
      "  0.01013908 0.01013908 0.22129008 0.01013908 0.01013908 0.01013908\n",
      "  0.01013908 0.01013908 0.01013909 0.01013908 0.01013908 0.01013908\n",
      "  0.01013908 0.59620639]\n",
      " [0.00798642 0.00798642 0.00798642 0.00798642 0.00798642 0.00798642\n",
      "  0.00798642 0.00798642 0.00798642 0.00798642 0.00798642 0.00798642\n",
      "  0.00798642 0.00798642 0.00798642 0.00798642 0.00798642 0.00798642\n",
      "  0.00798642 0.84825807]\n",
      " [0.01277472 0.01277472 0.01277472 0.01277472 0.01277472 0.01277472\n",
      "  0.01277472 0.01277472 0.34211959 0.42793544 0.01277472 0.01277472\n",
      "  0.01277472 0.01277472 0.01277472 0.01277472 0.01277472 0.01277472\n",
      "  0.01277472 0.01277472]\n",
      " [0.00781796 0.00781796 0.00781796 0.00781796 0.00781796 0.00781796\n",
      "  0.00781796 0.00781796 0.00781796 0.28762607 0.00781796 0.00781796\n",
      "  0.00781796 0.00781796 0.04487325 0.00781796 0.00781796 0.00781796\n",
      "  0.00781796 0.53459537]]\n"
     ]
    }
   ],
   "source": [
    "from sklearn.decomposition import LatentDirichletAllocation\n",
    "\n",
    "topics = LatentDirichletAllocation(n_components = 20)\n",
    "\n",
    "topics.fit(product_description)\n",
    "\n",
    "topics_lda = topics.transform(product_description)\n",
    "\n",
    "print(topics_lda[0:5])"
   ]
  },
  {
   "cell_type": "code",
   "execution_count": 514,
   "metadata": {},
   "outputs": [
    {
     "data": {
      "text/plain": [
       "array([ 136.77232333,  154.97627092,  143.77458417,  149.09870629,\n",
       "        133.7633412 ,  325.55182524,  128.13382011,  147.64941959,\n",
       "        212.2399784 ,  397.64803849,  156.45697227,  137.80649155,\n",
       "        131.33563705,  274.86844426, 1242.6629739 ,  141.14091951,\n",
       "        131.19056921,  140.30997907,  131.74931557, 5582.87038988])"
      ]
     },
     "execution_count": 514,
     "metadata": {},
     "output_type": "execute_result"
    }
   ],
   "source": [
    "topics_lda.sum(0)"
   ]
  },
  {
   "cell_type": "code",
   "execution_count": 515,
   "metadata": {},
   "outputs": [],
   "source": [
    "topics_lda = topics_lda / np.matrix(topics_lda.sum(1)+np.finfo(float).eps).T"
   ]
  },
  {
   "cell_type": "code",
   "execution_count": 516,
   "metadata": {},
   "outputs": [],
   "source": [
    "tfidf_feature_names = counter.get_feature_names()"
   ]
  },
  {
   "cell_type": "code",
   "execution_count": 517,
   "metadata": {},
   "outputs": [
    {
     "data": {
      "text/plain": [
       "matrix([[1.],\n",
       "        [1.],\n",
       "        [1.],\n",
       "        [1.],\n",
       "        [1.],\n",
       "        [1.],\n",
       "        [1.],\n",
       "        [1.],\n",
       "        [1.],\n",
       "        [1.]])"
      ]
     },
     "execution_count": 517,
     "metadata": {},
     "output_type": "execute_result"
    }
   ],
   "source": [
    "topics_lda.sum(1)[0:10]"
   ]
  },
  {
   "cell_type": "code",
   "execution_count": 518,
   "metadata": {},
   "outputs": [],
   "source": [
    "def print_top_words(model, feature_names, n_top_words):\n",
    "    for topic_idx, topic in enumerate(model.components_):\n",
    "        message = \"Topic #%d: \" % topic_idx\n",
    "        message += \" \".join([feature_names[i]\n",
    "                             for i in topic.argsort()[:-n_top_words - 1:-1]])\n",
    "        print(message)\n",
    "    print()"
   ]
  },
  {
   "cell_type": "code",
   "execution_count": 519,
   "metadata": {},
   "outputs": [
    {
     "name": "stdout",
     "output_type": "stream",
     "text": [
      "Topic #0: beyblade trackmaster tangle tangles 10pcs ripcord vendue lanceur supertruck refuse\n",
      "Topic #1: 150 aprox 40cm weatherproof gauge caribbean sparrow lawn elizabeth couplings\n",
      "Topic #2: dcc decoder aurora font tails pullman coal gender grain radius\n",
      "Topic #3: brain webkinz stimulating hall pet owl terrier bullseye melissa doug\n",
      "Topic #4: concealed carousel pok blackjack 1964 rcecho h150mm h20cm c12 mcqeen\n",
      "Topic #5: scale following suitable ho oo colouring slot coach 32 jaguar\n",
      "Topic #6: h200mm toploaders 2100400 advert clarence birdseye w400mm h600ã waddingtons ct25\n",
      "Topic #7: paws west concepts noble dices h160mm curious probability elvish tenzi\n",
      "Topic #8: ty beanie ex pokémon 7m holographic repeats baby manufacturing wagon\n",
      "Topic #9: assured tales amscan rest innovative internationals clone product funko lines\n",
      "Topic #10: chuggington turtles ranger simon trainees zord sewer leo designers shredder\n",
      "Topic #11: peppa pig gruffalo bride bullyland noch 40cms kiss alfa romeo\n",
      "Topic #12: 104pc scarface spine cybermen h80mm i8inch rot h145mm sakura prik\n",
      "Topic #13: models 9ft toys true adult collectors original car scale children\n",
      "Topic #14: puppet wooden long puppets dolls party children thomas animal fun\n",
      "Topic #15: mit und ist für vitrine modell metall kinder neu nicht\n",
      "Topic #16: signals runic micki ornamental h140mm hats pluto instrutions ch hint\n",
      "Topic #17: tender lner sir cladding 4d scotsman butler bachmann locomotive sebastian\n",
      "Topic #18: italeri tactile warehouse 6pcs eddy mud actros b000uxusd6 h170mm x11\n",
      "Topic #19: product description box contains figure model new set game cards\n",
      "\n"
     ]
    }
   ],
   "source": [
    "print_top_words(topics, tfidf_feature_names, 10)"
   ]
  },
  {
   "cell_type": "code",
   "execution_count": 520,
   "metadata": {},
   "outputs": [],
   "source": [
    "from nltk.corpus import stopwords\n",
    "stop = set(stopwords.words('english'))\n",
    "from itertools import chain\n",
    "from collections import Counter\n",
    "import nltk"
   ]
  },
  {
   "cell_type": "code",
   "execution_count": 521,
   "metadata": {},
   "outputs": [],
   "source": [
    "toys['description'] = toys['description'].str.lower().str.replace(r'[^\\w]|[\\d]',' ').str.replace('   ',' ').str.replace('  ',' ')\\\n",
    "                    .str.split(' ').apply(lambda x: [y for y in x if len(y)>2 if y not in stop])"
   ]
  },
  {
   "cell_type": "code",
   "execution_count": 522,
   "metadata": {},
   "outputs": [
    {
     "data": {
      "text/html": [
       "<div>\n",
       "<style scoped>\n",
       "    .dataframe tbody tr th:only-of-type {\n",
       "        vertical-align: middle;\n",
       "    }\n",
       "\n",
       "    .dataframe tbody tr th {\n",
       "        vertical-align: top;\n",
       "    }\n",
       "\n",
       "    .dataframe thead th {\n",
       "        text-align: right;\n",
       "    }\n",
       "</style>\n",
       "<table border=\"1\" class=\"dataframe\">\n",
       "  <thead>\n",
       "    <tr style=\"text-align: right;\">\n",
       "      <th></th>\n",
       "      <th>0</th>\n",
       "    </tr>\n",
       "  </thead>\n",
       "  <tbody>\n",
       "    <tr>\n",
       "      <th>product</th>\n",
       "      <td>3919</td>\n",
       "    </tr>\n",
       "    <tr>\n",
       "      <th>description</th>\n",
       "      <td>3622</td>\n",
       "    </tr>\n",
       "    <tr>\n",
       "      <th>hornby</th>\n",
       "      <td>142</td>\n",
       "    </tr>\n",
       "    <tr>\n",
       "      <th>catalogue</th>\n",
       "      <td>7</td>\n",
       "    </tr>\n",
       "    <tr>\n",
       "      <th>box</th>\n",
       "      <td>3473</td>\n",
       "    </tr>\n",
       "    <tr>\n",
       "      <th>contains</th>\n",
       "      <td>3111</td>\n",
       "    </tr>\n",
       "    <tr>\n",
       "      <th>one</th>\n",
       "      <td>1798</td>\n",
       "    </tr>\n",
       "    <tr>\n",
       "      <th>size</th>\n",
       "      <td>1006</td>\n",
       "    </tr>\n",
       "    <tr>\n",
       "      <th>name</th>\n",
       "      <td>689</td>\n",
       "    </tr>\n",
       "    <tr>\n",
       "      <th>large</th>\n",
       "      <td>473</td>\n",
       "    </tr>\n",
       "  </tbody>\n",
       "</table>\n",
       "</div>"
      ],
      "text/plain": [
       "                0\n",
       "product      3919\n",
       "description  3622\n",
       "hornby        142\n",
       "catalogue       7\n",
       "box          3473\n",
       "contains     3111\n",
       "one          1798\n",
       "size         1006\n",
       "name          689\n",
       "large         473"
      ]
     },
     "execution_count": 522,
     "metadata": {},
     "output_type": "execute_result"
    }
   ],
   "source": [
    "counts = pd.DataFrame.from_dict(dict(Counter(chain.from_iterable(toys['description']))), orient = 'index')\n",
    "counts.head(10)"
   ]
  },
  {
   "cell_type": "code",
   "execution_count": 523,
   "metadata": {},
   "outputs": [],
   "source": [
    "counts.sort_values(by = 0, ascending = False, inplace  = True)"
   ]
  },
  {
   "cell_type": "code",
   "execution_count": 524,
   "metadata": {},
   "outputs": [
    {
     "data": {
      "text/html": [
       "<div>\n",
       "<style scoped>\n",
       "    .dataframe tbody tr th:only-of-type {\n",
       "        vertical-align: middle;\n",
       "    }\n",
       "\n",
       "    .dataframe tbody tr th {\n",
       "        vertical-align: top;\n",
       "    }\n",
       "\n",
       "    .dataframe thead th {\n",
       "        text-align: right;\n",
       "    }\n",
       "</style>\n",
       "<table border=\"1\" class=\"dataframe\">\n",
       "  <thead>\n",
       "    <tr style=\"text-align: right;\">\n",
       "      <th></th>\n",
       "      <th>0</th>\n",
       "    </tr>\n",
       "  </thead>\n",
       "  <tbody>\n",
       "    <tr>\n",
       "      <th>product</th>\n",
       "      <td>3919</td>\n",
       "    </tr>\n",
       "    <tr>\n",
       "      <th>description</th>\n",
       "      <td>3622</td>\n",
       "    </tr>\n",
       "    <tr>\n",
       "      <th>box</th>\n",
       "      <td>3473</td>\n",
       "    </tr>\n",
       "    <tr>\n",
       "      <th>contains</th>\n",
       "      <td>3111</td>\n",
       "    </tr>\n",
       "    <tr>\n",
       "      <th>children</th>\n",
       "      <td>1819</td>\n",
       "    </tr>\n",
       "    <tr>\n",
       "      <th>set</th>\n",
       "      <td>1804</td>\n",
       "    </tr>\n",
       "    <tr>\n",
       "      <th>one</th>\n",
       "      <td>1798</td>\n",
       "    </tr>\n",
       "    <tr>\n",
       "      <th>new</th>\n",
       "      <td>1660</td>\n",
       "    </tr>\n",
       "    <tr>\n",
       "      <th>model</th>\n",
       "      <td>1533</td>\n",
       "    </tr>\n",
       "    <tr>\n",
       "      <th>play</th>\n",
       "      <td>1499</td>\n",
       "    </tr>\n",
       "  </tbody>\n",
       "</table>\n",
       "</div>"
      ],
      "text/plain": [
       "                0\n",
       "product      3919\n",
       "description  3622\n",
       "box          3473\n",
       "contains     3111\n",
       "children     1819\n",
       "set          1804\n",
       "one          1798\n",
       "new          1660\n",
       "model        1533\n",
       "play         1499"
      ]
     },
     "execution_count": 524,
     "metadata": {},
     "output_type": "execute_result"
    }
   ],
   "source": [
    "counts.head(10)"
   ]
  },
  {
   "cell_type": "code",
   "execution_count": 525,
   "metadata": {},
   "outputs": [
    {
     "data": {
      "text/plain": [
       "{'box',\n",
       " 'children',\n",
       " 'contains',\n",
       " 'description',\n",
       " 'fun',\n",
       " 'high',\n",
       " 'model',\n",
       " 'new',\n",
       " 'one',\n",
       " 'play',\n",
       " 'product',\n",
       " 'quality',\n",
       " 'set'}"
      ]
     },
     "execution_count": 525,
     "metadata": {},
     "output_type": "execute_result"
    }
   ],
   "source": [
    "exclude = set(counts.index[0:13])\n",
    "exclude"
   ]
  },
  {
   "cell_type": "code",
   "execution_count": 526,
   "metadata": {},
   "outputs": [],
   "source": [
    "toys['description'] = toys['description'].apply(lambda x: [y for y in x if y not in exclude])"
   ]
  },
  {
   "cell_type": "code",
   "execution_count": 527,
   "metadata": {},
   "outputs": [
    {
     "data": {
      "text/plain": [
       "[('size', 'NN'),\n",
       " ('name', 'NN'),\n",
       " ('large', 'JJ'),\n",
       " ('funkybuys', 'NNS'),\n",
       " ('large', 'JJ'),\n",
       " ('christmas', 'NNS'),\n",
       " ('holiday', 'NN'),\n",
       " ('express', 'VBP'),\n",
       " ('festive', 'JJ'),\n",
       " ('train', 'NN'),\n",
       " ('toy', 'NN'),\n",
       " ('light', 'JJ'),\n",
       " ('sounds', 'VBZ'),\n",
       " ('battery', 'NN'),\n",
       " ('operated', 'VBD'),\n",
       " ('smoke', 'NN')]"
      ]
     },
     "execution_count": 527,
     "metadata": {},
     "output_type": "execute_result"
    }
   ],
   "source": [
    "nltk.pos_tag(toys['description'][1])"
   ]
  },
  {
   "cell_type": "code",
   "execution_count": 528,
   "metadata": {},
   "outputs": [],
   "source": [
    "from nltk.corpus import wordnet\n",
    "from nltk.stem import WordNetLemmatizer\n",
    "lemmatizer = WordNetLemmatizer()\n",
    "\n",
    "def get_wordnet_pos(treebank_tag):\n",
    "    if treebank_tag.startswith('J'):\n",
    "        return wordnet.ADJ\n",
    "    elif treebank_tag.startswith('V'):\n",
    "        return wordnet.VERB\n",
    "    elif treebank_tag.startswith('N'):\n",
    "        return wordnet.NOUN\n",
    "    elif treebank_tag.startswith('R'):\n",
    "        return wordnet.ADV\n",
    "    else:\n",
    "        return wordnet.NOUN"
   ]
  },
  {
   "cell_type": "code",
   "execution_count": 529,
   "metadata": {},
   "outputs": [],
   "source": [
    "tagged = toys['description'].apply(nltk.pos_tag)"
   ]
  },
  {
   "cell_type": "code",
   "execution_count": 530,
   "metadata": {},
   "outputs": [
    {
     "data": {
      "text/plain": [
       "6357    [(silver, NN), (banner, NN), (coloured, VBD), ...\n",
       "5703    [(peco, NN), (medium, NN), (radius, NN), (insu...\n",
       "452     [(giant, NN), (foam, NN), (die, NN), (useful, ...\n",
       "6816    [(gymnic, JJ), (line, NN), (rody, NN), (horse,...\n",
       "163     [(suitable, JJ), (following, VBG), (scale, NN)...\n",
       "1944    [(glitter, NN), (tattoos, NN), (boys, VBZ), (k...\n",
       "3348    [(ladies, NNS), (mariachi, VBP), (woman, NN), ...\n",
       "3084    [(ten, NNS), (latex, VBP), (balloons, NNS), (w...\n",
       "6089    [(small, JJ), (chariot, NN), (disney, NN), (fi...\n",
       "8172    [(kotobukiya, VB), (japanese, JJ), (import, NN...\n",
       "Name: description, dtype: object"
      ]
     },
     "execution_count": 530,
     "metadata": {},
     "output_type": "execute_result"
    }
   ],
   "source": [
    "tagged.sample(10)"
   ]
  },
  {
   "cell_type": "code",
   "execution_count": 531,
   "metadata": {},
   "outputs": [
    {
     "data": {
      "text/plain": [
       "['include',\n",
       " 'collectible',\n",
       " 'pin',\n",
       " 'multiple',\n",
       " 'point',\n",
       " 'articulation',\n",
       " 'inch',\n",
       " 'scale',\n",
       " 'figure',\n",
       " 'blister',\n",
       " 'card',\n",
       " 'packaging',\n",
       " 'brand',\n",
       " 'make',\n",
       " 'great',\n",
       " 'gift']"
      ]
     },
     "execution_count": 531,
     "metadata": {},
     "output_type": "execute_result"
    }
   ],
   "source": [
    "[lemmatizer.lemmatize(x[0], get_wordnet_pos(x[1])) for x in tagged[1140]]"
   ]
  },
  {
   "cell_type": "code",
   "execution_count": 532,
   "metadata": {},
   "outputs": [],
   "source": [
    "tagged = tagged.apply(lambda t: [lemmatizer.lemmatize(x[0], get_wordnet_pos(x[1])) for x in t])"
   ]
  },
  {
   "cell_type": "code",
   "execution_count": 533,
   "metadata": {},
   "outputs": [
    {
     "data": {
      "text/plain": [
       "Index(['make', 'include', 'use', 'card', 'game', 'item', 'figure', 'age',\n",
       "       'design', 'colour', 'toy', 'year', 'feature', 'pack', 'scale', 'great',\n",
       "       'piece', 'suitable', 'come', 'car', 'puppet', 'size', 'puzzle', 'hand',\n",
       "       'time', 'range', 'also', 'world', 'part', 'party'],\n",
       "      dtype='object')"
      ]
     },
     "execution_count": 533,
     "metadata": {},
     "output_type": "execute_result"
    }
   ],
   "source": [
    "counts = pd.DataFrame.from_dict(dict(Counter(chain.from_iterable(tagged))), orient = 'index')\n",
    "counts.sort_values(by = 0, ascending = False, inplace  = True)\n",
    "counts.head(30).index"
   ]
  },
  {
   "cell_type": "code",
   "execution_count": 534,
   "metadata": {},
   "outputs": [],
   "source": [
    "dont_want = {'make','include','use','item','age','design','colour','year','feature','scale','great','suitable','come','size','hand','time','range',\n",
    "            'also','world','part','take','name','two','perfect','detail','brand','follow','product','welcome','order','tell','complete','measure',\n",
    "            'image','long','approx','split','foot','help','popular','toy','fully','display','shape'}\n",
    "tagged = tagged.apply(lambda x: [y for y in x if y not in dont_want])"
   ]
  },
  {
   "cell_type": "code",
   "execution_count": 535,
   "metadata": {},
   "outputs": [
    {
     "data": {
      "text/plain": [
       "2106    [andrew, howard, team, owner, driver, beechdea...\n",
       "109                                               [gauge]\n",
       "8315    [checkout, till, work, electronic, calculator,...\n",
       "483     [spin, tale, spectacular, sport, action, rory,...\n",
       "3637    [academy, german, jagdpanzer, hetzer, late, ve...\n",
       "132     [lner, fly, scotsman, class, nrm, steam, locom...\n",
       "1291    [offer, combine, postage, combine, postage, di...\n",
       "8132          [prometheus, engineer, chair, suit, taille]\n",
       "2401    [perform, sell, show, popstars, hook, device, ...\n",
       "9584    [offer, combine, postage, combine, postage, di...\n",
       "Name: description, dtype: object"
      ]
     },
     "execution_count": 535,
     "metadata": {},
     "output_type": "execute_result"
    }
   ],
   "source": [
    "tagged.sample(10)"
   ]
  },
  {
   "cell_type": "code",
   "execution_count": 536,
   "metadata": {},
   "outputs": [],
   "source": [
    "tagged = tagged.apply(lambda x: ' '.join(x))"
   ]
  },
  {
   "cell_type": "code",
   "execution_count": 537,
   "metadata": {},
   "outputs": [
    {
     "data": {
      "text/plain": [
       "0                           hornby catalogue catalogue\n",
       "1    large funkybuys large christmas holiday expres...\n",
       "2    big classic train track carriage light engine ...\n",
       "3                        hornby gauge hawksworth class\n",
       "4    hornby railroad gildenlow salt gauge steam loc...\n",
       "5    delicate garden light mainly teach photography...\n",
       "6    hornby bogie passenger brake coach pristine fi...\n",
       "7    inject bit hornby magic christmas special sant...\n",
       "8    western express digital train elink tt sound l...\n",
       "9    amazingly interactive chuggington chuggington ...\n",
       "Name: description, dtype: object"
      ]
     },
     "execution_count": 537,
     "metadata": {},
     "output_type": "execute_result"
    }
   ],
   "source": [
    "tagged.head(10)"
   ]
  },
  {
   "cell_type": "code",
   "execution_count": 538,
   "metadata": {},
   "outputs": [],
   "source": [
    "from sklearn.feature_extraction.text import TfidfVectorizer\n",
    "\n",
    "counter = TfidfVectorizer(stop_words = 'english')\n",
    "\n",
    "counter.fit(tagged)\n",
    "\n",
    "product_description = counter.transform(tagged)"
   ]
  },
  {
   "cell_type": "code",
   "execution_count": 539,
   "metadata": {},
   "outputs": [
    {
     "name": "stderr",
     "output_type": "stream",
     "text": [
      "C:\\Anaconda\\lib\\site-packages\\sklearn\\decomposition\\online_lda.py:536: DeprecationWarning: The default value for 'learning_method' will be changed from 'online' to 'batch' in the release 0.20. This warning was introduced in 0.18.\n",
      "  DeprecationWarning)\n"
     ]
    },
    {
     "name": "stdout",
     "output_type": "stream",
     "text": [
      "[[0.02184569 0.02184569 0.02184569 0.02184569 0.17618714 0.4305905\n",
      "  0.02184569 0.02184569 0.02184569 0.02184569 0.02184569 0.02184569\n",
      "  0.02184569 0.02184569 0.02184569 0.02184569 0.02184569 0.02184569\n",
      "  0.02184569 0.02184569]\n",
      " [0.01147487 0.01147487 0.01147487 0.01147487 0.01147487 0.67998464\n",
      "  0.01147487 0.01147487 0.01147487 0.01147487 0.11346778 0.01147487\n",
      "  0.01147487 0.01147487 0.01147487 0.01147487 0.01147487 0.01147487\n",
      "  0.01147487 0.01147487]\n",
      " [0.00911101 0.00911101 0.00911101 0.00911101 0.00911101 0.82689074\n",
      "  0.00911101 0.00911101 0.00911101 0.00911101 0.00911101 0.00911101\n",
      "  0.00911101 0.00911101 0.00911101 0.00911101 0.00911101 0.00911101\n",
      "  0.00911101 0.00911101]\n",
      " [0.0169471  0.0169471  0.0169471  0.0169471  0.44263114 0.0169471\n",
      "  0.0169471  0.0169471  0.0169471  0.0169471  0.0169471  0.0169471\n",
      "  0.0169471  0.0169471  0.0169471  0.0169471  0.0169471  0.0169471\n",
      "  0.0169471  0.25232113]\n",
      " [0.0091633  0.0091633  0.0091633  0.0091633  0.73916305 0.09589753\n",
      "  0.0091633  0.0091633  0.0091633  0.0091633  0.0091633  0.0091633\n",
      "  0.0091633  0.0091633  0.0091633  0.0091633  0.0091633  0.0091633\n",
      "  0.0091633  0.0091633 ]]\n"
     ]
    }
   ],
   "source": [
    "from sklearn.decomposition import LatentDirichletAllocation\n",
    "\n",
    "topics = LatentDirichletAllocation(n_components = 20)\n",
    "\n",
    "topics.fit(product_description)\n",
    "\n",
    "topics_lda = topics.transform(product_description)\n",
    "\n",
    "print(topics_lda[0:5])"
   ]
  },
  {
   "cell_type": "code",
   "execution_count": 540,
   "metadata": {},
   "outputs": [
    {
     "data": {
      "text/plain": [
       "array([ 153.67244283,  146.09926984,  176.60112255,  160.18971464,\n",
       "       1819.44944592, 4989.70992076,  262.85699943,  147.52924141,\n",
       "        152.08693563,  173.60194572,  158.94250927,  183.79978815,\n",
       "        192.59259744,  151.63405725,  187.39919234,  218.19448729,\n",
       "        154.50972957,  216.23173888,  166.34234179,  188.5565193 ])"
      ]
     },
     "execution_count": 540,
     "metadata": {},
     "output_type": "execute_result"
    }
   ],
   "source": [
    "topics_lda.sum(0)"
   ]
  },
  {
   "cell_type": "code",
   "execution_count": 541,
   "metadata": {},
   "outputs": [],
   "source": [
    "topics_lda = topics_lda / np.matrix(topics_lda.sum(1)+np.finfo(float).eps).T"
   ]
  },
  {
   "cell_type": "code",
   "execution_count": 542,
   "metadata": {},
   "outputs": [],
   "source": [
    "tfidf_feature_names = counter.get_feature_names()"
   ]
  },
  {
   "cell_type": "code",
   "execution_count": 543,
   "metadata": {},
   "outputs": [
    {
     "data": {
      "text/plain": [
       "matrix([[1.],\n",
       "        [1.],\n",
       "        [1.],\n",
       "        [1.],\n",
       "        [1.],\n",
       "        [1.],\n",
       "        [1.],\n",
       "        [1.],\n",
       "        [1.],\n",
       "        [1.]])"
      ]
     },
     "execution_count": 543,
     "metadata": {},
     "output_type": "execute_result"
    }
   ],
   "source": [
    "topics_lda.sum(1)[0:10]"
   ]
  },
  {
   "cell_type": "code",
   "execution_count": 544,
   "metadata": {},
   "outputs": [
    {
     "name": "stdout",
     "output_type": "stream",
     "text": [
      "Topic #0: triceratops italeri twilight scaleera dawn defensive mud actros uxusd endear\n",
      "Topic #1: squadron apprentice goggles asterix ascension birdseye clarence airway skr xlea\n",
      "Topic #2: autoart backpack percy lamborghini rcecho riley cladding zipper aventador grain\n",
      "Topic #3: mascot zhu flour cheese oven choo hamster kung planeswalkers disgust\n",
      "Topic #4: figure action war battle series star domino power battery game\n",
      "Topic #5: card puppet puzzle game piece pack car party doll dice\n",
      "Topic #6: combine postage shipment discount free offer aprox garland handpainted thermoplastic\n",
      "Topic #7: hamleys hauler casting cmwidth fullmetal cmlength cmconforms yrsheight yearsrecommended alchemist\n",
      "Topic #8: nicely noch smokey bandit rig trans diego classy pontiac capital\n",
      "Topic #9: beyblade burago simon wasgij puzzler hall pooh winnie www gender\n",
      "Topic #10: peppa pig monchhichi bullyland canada bib ornamental daddy bra aviation\n",
      "Topic #11: riddler droid angry steiff bulb bird unpainted alliance arkham sesame\n",
      "Topic #12: pokemon takara tomy tangle ean coach stall tactic vespa picnic\n",
      "Topic #13: polyhedral roleplaying whistle flashlight gaugemaster speckle chimney bibi granite heartbeat\n",
      "Topic #14: beanie baby chuggington prince unicorn chracter mnovie kato rabbit carnival\n",
      "Topic #15: plush loader gauge japan spiderman mario bruder shake classix conservation\n",
      "Topic #16: brain coordination infant terrier bullseye melissa hape doug stimulating bush\n",
      "Topic #17: craftsman abroad figurine taille minion soccerstarz env mtg west gruffalo\n",
      "Topic #18: japanese tactile clementoni radius citroen pezzi meerkat circle iwako angle\n",
      "Topic #19: slot car hotwheels mit und legends ist für sora spine\n",
      "\n"
     ]
    }
   ],
   "source": [
    "print_top_words(topics, tfidf_feature_names, 10)"
   ]
  },
  {
   "cell_type": "code",
   "execution_count": 545,
   "metadata": {},
   "outputs": [
    {
     "name": "stderr",
     "output_type": "stream",
     "text": [
      "C:\\Anaconda\\lib\\site-packages\\sklearn\\decomposition\\online_lda.py:536: DeprecationWarning: The default value for 'learning_method' will be changed from 'online' to 'batch' in the release 0.20. This warning was introduced in 0.18.\n",
      "  DeprecationWarning)\n"
     ]
    },
    {
     "name": "stdout",
     "output_type": "stream",
     "text": [
      "Topic #0: beanie eddie beyblade baby zombie stobart coordination volvo oxford lorry\n",
      "Topic #1: domino aprox garland explorer colourfull dominoes lawn vespa picnic unpainted\n",
      "Topic #2: pokémon taille simon minion figurine env despicable hobby dowman avec\n",
      "Topic #3: wallscroll potter harry hogwarts hulk keychain ennemies revoltech whistle louis\n",
      "Topic #4: card game pack puppet car puzzle combine figure piece party\n",
      "Topic #5: figure war action star battle series lego force batman japanese\n",
      "Topic #6: ixo mario harley zoo davidson weatherproof plush teeth san clementoni\n",
      "Topic #7: takara tomy rcecho tactic nicely bentley strategic pokemon maul steve\n",
      "Topic #8: polyhedral aesop fable roleplaying noch hamleys hauler annie sherlock beleduc\n",
      "Topic #9: chuggington monchhichi trainee scaleera lily choker motto beer brewster bib\n",
      "\n"
     ]
    }
   ],
   "source": [
    "from sklearn.decomposition import LatentDirichletAllocation\n",
    "\n",
    "topics = LatentDirichletAllocation(n_components = 10)\n",
    "topics.fit(product_description)\n",
    "topics_lda = topics.transform(product_description)\n",
    "topics_lda = topics_lda / np.matrix(topics_lda.sum(1)+np.finfo(float).eps).T\n",
    "tfidf_feature_names = counter.get_feature_names()\n",
    "print_top_words(topics, tfidf_feature_names, 10)"
   ]
  },
  {
   "cell_type": "code",
   "execution_count": 546,
   "metadata": {},
   "outputs": [
    {
     "name": "stdout",
     "output_type": "stream",
     "text": [
      "Topic #0: combine postage shipment discount offer free figurine pvc cube story\n",
      "Topic #1: puppet company story animal tale fairy glove entertain imagination translate\n",
      "Topic #2: card deck pokemon booster trading player match sleeve rare tin\n",
      "Topic #3: model true original collector adult car intend packaging classix minimum\n",
      "Topic #4: puzzle piece jigsaw family trefl cardboard build activity skill artist\n",
      "Topic #5: game player domino board play chess tile family win question\n",
      "Topic #6: banner party birthday foil happy length holographic decoration repeat silver\n",
      "Topic #7: miniature doll house handmade finish paint price clay affordable majority\n",
      "Topic #8: dice roll black bag opaque game dragon white die color\n",
      "Topic #9: wooden train track railway engine bigjigs thomas rail playmobil friend\n",
      "Topic #10: amscan assure rest innovative international line safe retail kite pack\n",
      "Topic #11: balloon helium latex party air inflate birthday inch foil weight\n",
      "Topic #12: stencil glitter tattoo brush kit glue body apply easy temporary\n",
      "Topic #13: mint condition diecast oxford case collection corgi clear universal hobby\n",
      "Topic #14: mask dress costume party fancy face black eye halloween elastic\n",
      "Topic #15: car slot scalextric race vehicle wheel cast die disney pixar\n",
      "Topic #16: sand kinetic mould dry squeezable create motion soft like flow\n",
      "Topic #17: figure action star war series tall accessory battle character inch\n",
      "Topic #18: pack booster deckboosters track straight silver single bead pencil tibetan\n",
      "Topic #19: battery color package control vary light fly plastic charge style\n",
      "\n"
     ]
    }
   ],
   "source": [
    "from sklearn.decomposition import NMF\n",
    "\n",
    "topics = NMF(n_components = 20)\n",
    "topics.fit(product_description)\n",
    "topics_NMF = topics.transform(product_description)\n",
    "topics_NMF = topics_lda / np.matrix(topics_NMF.sum(1)+np.finfo(float).eps).T\n",
    "tfidf_feature_names = counter.get_feature_names()\n",
    "print_top_words(topics, tfidf_feature_names, 10)"
   ]
  },
  {
   "cell_type": "code",
   "execution_count": 547,
   "metadata": {},
   "outputs": [
    {
     "data": {
      "text/plain": [
       "matrix([[ 4.2029087 ,  4.20290871,  4.20290872,  4.20290875, 58.36919526,\n",
       "          4.20290829,  4.20290873,  4.20290873,  4.20290878,  4.20290877]])"
      ]
     },
     "execution_count": 547,
     "metadata": {},
     "output_type": "execute_result"
    }
   ],
   "source": [
    "topics_NMF[0]"
   ]
  },
  {
   "cell_type": "code",
   "execution_count": 548,
   "metadata": {},
   "outputs": [],
   "source": [
    "def get_top_words(model, feature_names, n_top_words):\n",
    "    all_topics = []\n",
    "    for topic_idx, topic in enumerate(model.components_):\n",
    "        message = \" \".join([feature_names[i]\n",
    "                             for i in topic.argsort()[:-n_top_words - 1:-1]])\n",
    "        all_topics.append( message)\n",
    "    return all_topics"
   ]
  },
  {
   "cell_type": "code",
   "execution_count": 549,
   "metadata": {},
   "outputs": [
    {
     "data": {
      "text/plain": [
       "['combine postage shipment discount offer free figurine pvc cube story bul colourfully paint playful rory water number canal coordination recreate',\n",
       " 'puppet company story animal tale fairy glove entertain imagination translate reputation puppetry enchanted mystical adult excite toys encourage ability life',\n",
       " 'card deck pokemon booster trading player match sleeve rare tin attax playing pokémon seal play foil team print face picture',\n",
       " 'model true original collector adult car intend packaging classix minimum recommend note faithful detailed plastic miniart pocketbond kit cast london',\n",
       " 'puzzle piece jigsaw family trefl cardboard build activity skill artist solve castorland way poland ravensburger finish challenge provide different value',\n",
       " 'game player domino board play chess tile family win question number classic rule word score piece place turn skill chip',\n",
       " 'banner party birthday foil happy length holographic decoration repeat silver letter plastic cut bright inexpensive lend number atmosphere section room',\n",
       " 'miniature doll house handmade finish paint price clay affordable majority ceramic vast exacting inhouse mytinyworld collector philosophy establish real feel',\n",
       " 'dice roll black bag opaque game dragon white die color polyhedral spot role math ideal dungeon cup red blue set',\n",
       " 'wooden train track railway engine bigjigs thomas rail playmobil friend responsibly knight pirate bead piece learn safety brio papo locomotive',\n",
       " 'amscan assure rest innovative international line safe retail kite pack piece enjoyable selling value christy swirl hour best fly pc',\n",
       " 'balloon helium latex party air inflate birthday inch foil weight print decoration ribbon flat event float inflation supply special require',\n",
       " 'stencil glitter tattoo brush kit glue body apply easy temporary party paper skin sticker place remove cosmetic pen gift pot',\n",
       " 'mint condition diecast oxford case collection corgi clear universal hobby metal deckboosters bond plastic gauge burago cararama straight single ixo',\n",
       " 'mask dress costume party fancy face black eye halloween elastic wear white adult masquerade celebrity bear night red inch head',\n",
       " 'car slot scalextric race vehicle wheel cast die disney pixar hot character movie edition diecast digital collect track lightning ford',\n",
       " 'sand kinetic mould dry squeezable create motion soft like flow feel liquid stick finger creative stimulates stretchy gluten slow incredible',\n",
       " 'figure action star war series tall accessory battle character inch collect stand movie weapon hero collection pop fan adventure hasbro',\n",
       " 'pack booster deckboosters track straight silver single bead pencil tibetan random sticker war latex foam band vehicle supply sheet assort',\n",
       " 'battery color package control vary light fly plastic charge style remote mah charger pool quadcopter mode easy helicopter require flight']"
      ]
     },
     "execution_count": 549,
     "metadata": {},
     "output_type": "execute_result"
    }
   ],
   "source": [
    "get_top_words(topics, tfidf_feature_names, 20)"
   ]
  },
  {
   "cell_type": "code",
   "execution_count": 550,
   "metadata": {},
   "outputs": [],
   "source": [
    "all_topics = get_top_words(topics, tfidf_feature_names, 20)"
   ]
  },
  {
   "cell_type": "code",
   "execution_count": 551,
   "metadata": {},
   "outputs": [
    {
     "data": {
      "text/plain": [
       "matrix([[4],\n",
       "        [4],\n",
       "        [4],\n",
       "        [4],\n",
       "        [4],\n",
       "        [4],\n",
       "        [4],\n",
       "        [4],\n",
       "        [4],\n",
       "        [4]], dtype=int64)"
      ]
     },
     "execution_count": 551,
     "metadata": {},
     "output_type": "execute_result"
    }
   ],
   "source": [
    "topics_NMF.argmax(1)[0:10]"
   ]
  },
  {
   "cell_type": "code",
   "execution_count": 552,
   "metadata": {},
   "outputs": [
    {
     "data": {
      "text/plain": [
       "['puzzle piece jigsaw family trefl cardboard build activity skill artist solve castorland way poland ravensburger finish challenge provide different value',\n",
       " 'puzzle piece jigsaw family trefl cardboard build activity skill artist solve castorland way poland ravensburger finish challenge provide different value',\n",
       " 'puzzle piece jigsaw family trefl cardboard build activity skill artist solve castorland way poland ravensburger finish challenge provide different value',\n",
       " 'puzzle piece jigsaw family trefl cardboard build activity skill artist solve castorland way poland ravensburger finish challenge provide different value',\n",
       " 'puzzle piece jigsaw family trefl cardboard build activity skill artist solve castorland way poland ravensburger finish challenge provide different value',\n",
       " 'puzzle piece jigsaw family trefl cardboard build activity skill artist solve castorland way poland ravensburger finish challenge provide different value',\n",
       " 'puzzle piece jigsaw family trefl cardboard build activity skill artist solve castorland way poland ravensburger finish challenge provide different value',\n",
       " 'puzzle piece jigsaw family trefl cardboard build activity skill artist solve castorland way poland ravensburger finish challenge provide different value',\n",
       " 'puzzle piece jigsaw family trefl cardboard build activity skill artist solve castorland way poland ravensburger finish challenge provide different value',\n",
       " 'puzzle piece jigsaw family trefl cardboard build activity skill artist solve castorland way poland ravensburger finish challenge provide different value']"
      ]
     },
     "execution_count": 552,
     "metadata": {},
     "output_type": "execute_result"
    }
   ],
   "source": [
    "[all_topics[x] for x in np.array(topics_NMF.argmax(1).T)[0]][0:10]"
   ]
  },
  {
   "cell_type": "code",
   "execution_count": 553,
   "metadata": {},
   "outputs": [],
   "source": [
    "toys['Topic'] = [all_topics[x] for x in np.array(topics_NMF.argmax(1).T)[0]]"
   ]
  },
  {
   "cell_type": "code",
   "execution_count": 554,
   "metadata": {},
   "outputs": [
    {
     "data": {
      "text/plain": [
       "puzzle piece jigsaw family trefl cardboard build activity skill artist solve castorland way poland ravensburger finish challenge provide different value        8295\n",
       "combine postage shipment discount offer free figurine pvc cube story bul colourfully paint playful rory water number canal coordination recreate                 926\n",
       "game player domino board play chess tile family win question number classic rule word score piece place turn skill chip                                          539\n",
       "card deck pokemon booster trading player match sleeve rare tin attax playing pokémon seal play foil team print face picture                                       48\n",
       "puppet company story animal tale fairy glove entertain imagination translate reputation puppetry enchanted mystical adult excite toys encourage ability life      42\n",
       "miniature doll house handmade finish paint price clay affordable majority ceramic vast exacting inhouse mytinyworld collector philosophy establish real feel      38\n",
       "banner party birthday foil happy length holographic decoration repeat silver letter plastic cut bright inexpensive lend number atmosphere section room            37\n",
       "dice roll black bag opaque game dragon white die color polyhedral spot role math ideal dungeon cup red blue set                                                   29\n",
       "model true original collector adult car intend packaging classix minimum recommend note faithful detailed plastic miniart pocketbond kit cast london              27\n",
       "wooden train track railway engine bigjigs thomas rail playmobil friend responsibly knight pirate bead piece learn safety brio papo locomotive                     19\n",
       "Name: Topic, dtype: int64"
      ]
     },
     "execution_count": 554,
     "metadata": {},
     "output_type": "execute_result"
    }
   ],
   "source": [
    "toys['Topic'].value_counts()"
   ]
  },
  {
   "cell_type": "code",
   "execution_count": 555,
   "metadata": {
    "scrolled": true
   },
   "outputs": [
    {
     "data": {
      "text/plain": [
       "0    0.517668\n",
       "1   -0.556796\n",
       "2   -2.168492\n",
       "3    0.786284\n",
       "4   -0.019564\n",
       "5    0.786284\n",
       "6   -0.556796\n",
       "7   -1.094028\n",
       "8    0.786284\n",
       "9    0.249052\n",
       "Name: average_review_rating, dtype: float64"
      ]
     },
     "execution_count": 555,
     "metadata": {},
     "output_type": "execute_result"
    }
   ],
   "source": [
    "standardised = (toys['average_review_rating'] - toys['average_review_rating'].mean())/toys['average_review_rating'].std()\n",
    "standardised.head(10)"
   ]
  },
  {
   "cell_type": "code",
   "execution_count": 556,
   "metadata": {},
   "outputs": [],
   "source": [
    "toys['number_available_in_stock'] = toys['number_available_in_stock'].fillna(0)"
   ]
  },
  {
   "cell_type": "code",
   "execution_count": 557,
   "metadata": {},
   "outputs": [
    {
     "data": {
      "text/plain": [
       "6816   -0.231752\n",
       "31     -0.710160\n",
       "8121   -0.710160\n",
       "9073    0.964266\n",
       "5642   -0.710160\n",
       "2879    0.605460\n",
       "6731    3.117098\n",
       "3857   -0.351354\n",
       "9225    1.083868\n",
       "3687   -0.231752\n",
       "Name: number_available_in_stock, dtype: float64"
      ]
     },
     "execution_count": 557,
     "metadata": {},
     "output_type": "execute_result"
    }
   ],
   "source": [
    "stock_standardised = (toys['number_available_in_stock'] - toys['number_available_in_stock'].mean())/toys['number_available_in_stock'].std()\n",
    "stock_standardised.sample(10)"
   ]
  },
  {
   "cell_type": "code",
   "execution_count": 558,
   "metadata": {},
   "outputs": [
    {
     "data": {
      "text/plain": [
       "1490    0.914964\n",
       "1575    0.025499\n",
       "7107   -0.241340\n",
       "5810   -0.241340\n",
       "666     0.381285\n",
       "5847    0.055148\n",
       "2735   -0.063447\n",
       "3572   -0.241340\n",
       "9842   -0.211691\n",
       "3602   -0.241340\n",
       "Name: number_of_reviews, dtype: float64"
      ]
     },
     "execution_count": 558,
     "metadata": {},
     "output_type": "execute_result"
    }
   ],
   "source": [
    "num_standardised = (toys['number_of_reviews'] - toys['number_of_reviews'].mean())/toys['number_of_reviews'].std()\n",
    "num_standardised.sample(10)"
   ]
  },
  {
   "cell_type": "code",
   "execution_count": 559,
   "metadata": {},
   "outputs": [
    {
     "data": {
      "text/plain": [
       "9990    1.748414\n",
       "9991   -1.687256\n",
       "9992    0.103637\n",
       "9993   -2.223718\n",
       "9994   -2.851375\n",
       "9995    0.492091\n",
       "9996   -2.851375\n",
       "9997    0.193590\n",
       "9998    0.193590\n",
       "9999    2.495849\n",
       "dtype: float64"
      ]
     },
     "execution_count": 559,
     "metadata": {},
     "output_type": "execute_result"
    }
   ],
   "source": [
    "score = num_standardised+stock_standardised+standardised\n",
    "score.tail(10)"
   ]
  },
  {
   "cell_type": "code",
   "execution_count": 560,
   "metadata": {},
   "outputs": [
    {
     "data": {
      "text/plain": [
       "<matplotlib.axes._subplots.AxesSubplot at 0x17b98e98518>"
      ]
     },
     "execution_count": 560,
     "metadata": {},
     "output_type": "execute_result"
    },
    {
     "data": {
      "image/png": "[encoded data removed]",
      "text/plain": [
       "<matplotlib.figure.Figure at 0x17b98e45048>"
      ]
     },
     "metadata": {},
     "output_type": "display_data"
    }
   ],
   "source": [
    "score.plot.hist()"
   ]
  },
  {
   "cell_type": "code",
   "execution_count": 561,
   "metadata": {},
   "outputs": [
    {
     "data": {
      "text/plain": [
       "(array([2.399e+03, 1.150e+03, 6.410e+02, 3.950e+02, 1.820e+02, 6.200e+01,\n",
       "        1.800e+01, 8.000e+00, 2.000e+00, 2.000e+00]),\n",
       " array([0.00579111, 0.38915997, 0.77252883, 1.1558977 , 1.53926656,\n",
       "        1.92263543, 2.30600429, 2.68937315, 3.07274202, 3.45611088,\n",
       "        3.83947975]),\n",
       " <a list of 10 Patch objects>)"
      ]
     },
     "execution_count": 561,
     "metadata": {},
     "output_type": "execute_result"
    },
    {
     "data": {
      "image/png": "[encoded data removed]",
      "text/plain": [
       "<matplotlib.figure.Figure at 0x17b98e6b1d0>"
      ]
     },
     "metadata": {},
     "output_type": "display_data"
    }
   ],
   "source": [
    "plt.hist(np.log1p(score[score>0]))"
   ]
  },
  {
   "cell_type": "code",
   "execution_count": 562,
   "metadata": {},
   "outputs": [
    {
     "data": {
      "text/plain": [
       "(array([3.000e+00, 1.000e+00, 6.000e+00, 7.820e+02, 5.030e+02, 5.410e+02,\n",
       "        5.100e+02, 4.240e+02, 3.020e+02, 2.051e+03]),\n",
       " array([-2.0296327 , -1.82782149, -1.62601028, -1.42419906, -1.22238785,\n",
       "        -1.02057663, -0.81876542, -0.6169542 , -0.41514299, -0.21333177,\n",
       "        -0.01152056]),\n",
       " <a list of 10 Patch objects>)"
      ]
     },
     "execution_count": 562,
     "metadata": {},
     "output_type": "execute_result"
    },
    {
     "data": {
      "image/png": "[encoded data removed]",
      "text/plain": [
       "<matplotlib.figure.Figure at 0x17b98e0ba58>"
      ]
     },
     "metadata": {},
     "output_type": "display_data"
    }
   ],
   "source": [
    "plt.hist(-np.log1p(np.abs(score[score<=0])))"
   ]
  },
  {
   "cell_type": "code",
   "execution_count": 563,
   "metadata": {},
   "outputs": [
    {
     "data": {
      "text/html": [
       "<div>\n",
       "<style scoped>\n",
       "    .dataframe tbody tr th:only-of-type {\n",
       "        vertical-align: middle;\n",
       "    }\n",
       "\n",
       "    .dataframe tbody tr th {\n",
       "        vertical-align: top;\n",
       "    }\n",
       "\n",
       "    .dataframe thead th {\n",
       "        text-align: right;\n",
       "    }\n",
       "</style>\n",
       "<table border=\"1\" class=\"dataframe\">\n",
       "  <thead>\n",
       "    <tr style=\"text-align: right;\">\n",
       "      <th></th>\n",
       "      <th>banner party birthday foil happy length holographic decoration repeat silver letter plastic cut bright inexpensive lend number atmosphere section room</th>\n",
       "      <th>card deck pokemon booster trading player match sleeve rare tin attax playing pokémon seal play foil team print face picture</th>\n",
       "      <th>combine postage shipment discount offer free figurine pvc cube story bul colourfully paint playful rory water number canal coordination recreate</th>\n",
       "      <th>dice roll black bag opaque game dragon white die color polyhedral spot role math ideal dungeon cup red blue set</th>\n",
       "      <th>game player domino board play chess tile family win question number classic rule word score piece place turn skill chip</th>\n",
       "      <th>miniature doll house handmade finish paint price clay affordable majority ceramic vast exacting inhouse mytinyworld collector philosophy establish real feel</th>\n",
       "      <th>model true original collector adult car intend packaging classix minimum recommend note faithful detailed plastic miniart pocketbond kit cast london</th>\n",
       "      <th>puppet company story animal tale fairy glove entertain imagination translate reputation puppetry enchanted mystical adult excite toys encourage ability life</th>\n",
       "      <th>puzzle piece jigsaw family trefl cardboard build activity skill artist solve castorland way poland ravensburger finish challenge provide different value</th>\n",
       "      <th>wooden train track railway engine bigjigs thomas rail playmobil friend responsibly knight pirate bead piece learn safety brio papo locomotive</th>\n",
       "    </tr>\n",
       "  </thead>\n",
       "  <tbody>\n",
       "    <tr>\n",
       "      <th>0</th>\n",
       "      <td>0</td>\n",
       "      <td>0</td>\n",
       "      <td>0</td>\n",
       "      <td>0</td>\n",
       "      <td>0</td>\n",
       "      <td>0</td>\n",
       "      <td>0</td>\n",
       "      <td>0</td>\n",
       "      <td>1</td>\n",
       "      <td>0</td>\n",
       "    </tr>\n",
       "  </tbody>\n",
       "</table>\n",
       "</div>"
      ],
      "text/plain": [
       "   banner party birthday foil happy length holographic decoration repeat silver letter plastic cut bright inexpensive lend number atmosphere section room  \\\n",
       "0                                                  0                                                                                                        \n",
       "\n",
       "   card deck pokemon booster trading player match sleeve rare tin attax playing pokémon seal play foil team print face picture  \\\n",
       "0                                                  0                                                                             \n",
       "\n",
       "   combine postage shipment discount offer free figurine pvc cube story bul colourfully paint playful rory water number canal coordination recreate  \\\n",
       "0                                                  0                                                                                                  \n",
       "\n",
       "   dice roll black bag opaque game dragon white die color polyhedral spot role math ideal dungeon cup red blue set  \\\n",
       "0                                                  0                                                                 \n",
       "\n",
       "   game player domino board play chess tile family win question number classic rule word score piece place turn skill chip  \\\n",
       "0                                                  0                                                                         \n",
       "\n",
       "   miniature doll house handmade finish paint price clay affordable majority ceramic vast exacting inhouse mytinyworld collector philosophy establish real feel  \\\n",
       "0                                                  0                                                                                                              \n",
       "\n",
       "   model true original collector adult car intend packaging classix minimum recommend note faithful detailed plastic miniart pocketbond kit cast london  \\\n",
       "0                                                  0                                                                                                      \n",
       "\n",
       "   puppet company story animal tale fairy glove entertain imagination translate reputation puppetry enchanted mystical adult excite toys encourage ability life  \\\n",
       "0                                                  0                                                                                                              \n",
       "\n",
       "   puzzle piece jigsaw family trefl cardboard build activity skill artist solve castorland way poland ravensburger finish challenge provide different value  \\\n",
       "0                                                  1                                                                                                          \n",
       "\n",
       "   wooden train track railway engine bigjigs thomas rail playmobil friend responsibly knight pirate bead piece learn safety brio papo locomotive  \n",
       "0                                                  0                                                                                              "
      ]
     },
     "execution_count": 563,
     "metadata": {},
     "output_type": "execute_result"
    }
   ],
   "source": [
    "pd.get_dummies(toys['Topic']).head(1)"
   ]
  },
  {
   "cell_type": "code",
   "execution_count": 564,
   "metadata": {},
   "outputs": [],
   "source": [
    "score = score.fillna(0)"
   ]
  },
  {
   "cell_type": "code",
   "execution_count": 565,
   "metadata": {},
   "outputs": [
    {
     "data": {
      "text/plain": [
       "array([-0.00488281, -0.00488281, -0.00488281, ..., -0.00488281,\n",
       "       -0.00488281, -0.31945801])"
      ]
     },
     "execution_count": 565,
     "metadata": {},
     "output_type": "execute_result"
    }
   ],
   "source": [
    "X = pd.get_dummies(toys['Topic'])\n",
    "\n",
    "from sklearn.linear_model import LinearRegression\n",
    "model = LinearRegression()\n",
    "model.fit(X, score)\n",
    "model.predict(X)"
   ]
  },
  {
   "cell_type": "code",
   "execution_count": 566,
   "metadata": {},
   "outputs": [
    {
     "data": {
      "text/plain": [
       "3.1378497017761533"
      ]
     },
     "execution_count": 566,
     "metadata": {},
     "output_type": "execute_result"
    }
   ],
   "source": [
    "from sklearn.metrics import mean_squared_error as mse\n",
    "\n",
    "mse(score, model.predict(X))"
   ]
  },
  {
   "cell_type": "code",
   "execution_count": 567,
   "metadata": {},
   "outputs": [
    {
     "data": {
      "text/plain": [
       "array([3.38820827e+11, 3.38820827e+11, 3.38820827e+11, 3.38820827e+11,\n",
       "       3.38820827e+11, 3.38820827e+11, 3.38820827e+11, 3.38820827e+11,\n",
       "       3.38820827e+11, 3.38820827e+11])"
      ]
     },
     "execution_count": 567,
     "metadata": {},
     "output_type": "execute_result"
    }
   ],
   "source": [
    "model.coef_"
   ]
  },
  {
   "cell_type": "code",
   "execution_count": 568,
   "metadata": {},
   "outputs": [],
   "source": [
    "from sklearn.linear_model import LinearRegression\n",
    "model = LinearRegression()\n",
    "model.fit(product_description, score)\n",
    "y_hat = model.predict(product_description)"
   ]
  },
  {
   "cell_type": "code",
   "execution_count": 569,
   "metadata": {},
   "outputs": [
    {
     "data": {
      "text/plain": [
       "0.2513705937153236"
      ]
     },
     "execution_count": 569,
     "metadata": {},
     "output_type": "execute_result"
    }
   ],
   "source": [
    "mse(score, y_hat)"
   ]
  },
  {
   "cell_type": "code",
   "execution_count": 570,
   "metadata": {},
   "outputs": [
    {
     "data": {
      "text/plain": [
       "array([  6.06381299,  -0.37858813,  -0.36964915, ..., -16.049308  ,\n",
       "        -3.63707928,  -5.34976933])"
      ]
     },
     "execution_count": 570,
     "metadata": {},
     "output_type": "execute_result"
    }
   ],
   "source": [
    "model.coef_"
   ]
  },
  {
   "cell_type": "code",
   "execution_count": 571,
   "metadata": {},
   "outputs": [],
   "source": [
    "scores = pd.DataFrame({'Score':model.coef_,'What':tfidf_feature_names,'Volume':np.array(product_description.sum(0))[0]})"
   ]
  },
  {
   "cell_type": "code",
   "execution_count": 572,
   "metadata": {},
   "outputs": [
    {
     "data": {
      "text/html": [
       "<div>\n",
       "<style scoped>\n",
       "    .dataframe tbody tr th:only-of-type {\n",
       "        vertical-align: middle;\n",
       "    }\n",
       "\n",
       "    .dataframe tbody tr th {\n",
       "        vertical-align: top;\n",
       "    }\n",
       "\n",
       "    .dataframe thead th {\n",
       "        text-align: right;\n",
       "    }\n",
       "</style>\n",
       "<table border=\"1\" class=\"dataframe\">\n",
       "  <thead>\n",
       "    <tr style=\"text-align: right;\">\n",
       "      <th></th>\n",
       "      <th>Score</th>\n",
       "      <th>Volume</th>\n",
       "      <th>What</th>\n",
       "    </tr>\n",
       "  </thead>\n",
       "  <tbody>\n",
       "    <tr>\n",
       "      <th>0</th>\n",
       "      <td>6.063813</td>\n",
       "      <td>0.287175</td>\n",
       "      <td>____________________________________</td>\n",
       "    </tr>\n",
       "    <tr>\n",
       "      <th>1</th>\n",
       "      <td>-0.378588</td>\n",
       "      <td>0.254699</td>\n",
       "      <td>___die</td>\n",
       "    </tr>\n",
       "    <tr>\n",
       "      <th>2</th>\n",
       "      <td>-0.369649</td>\n",
       "      <td>0.016386</td>\n",
       "      <td>__auipreloadindex</td>\n",
       "    </tr>\n",
       "    <tr>\n",
       "      <th>3</th>\n",
       "      <td>-0.138618</td>\n",
       "      <td>0.006145</td>\n",
       "      <td>_aa</td>\n",
       "    </tr>\n",
       "    <tr>\n",
       "      <th>4</th>\n",
       "      <td>14.205774</td>\n",
       "      <td>0.410869</td>\n",
       "      <td>_black</td>\n",
       "    </tr>\n",
       "    <tr>\n",
       "      <th>5</th>\n",
       "      <td>-0.092412</td>\n",
       "      <td>0.004096</td>\n",
       "      <td>_blank</td>\n",
       "    </tr>\n",
       "    <tr>\n",
       "      <th>6</th>\n",
       "      <td>-0.046206</td>\n",
       "      <td>0.002048</td>\n",
       "      <td>_bo</td>\n",
       "    </tr>\n",
       "    <tr>\n",
       "      <th>7</th>\n",
       "      <td>-1.663421</td>\n",
       "      <td>0.073736</td>\n",
       "      <td>_cb</td>\n",
       "    </tr>\n",
       "    <tr>\n",
       "      <th>8</th>\n",
       "      <td>-0.138618</td>\n",
       "      <td>0.006145</td>\n",
       "      <td>_encoding</td>\n",
       "    </tr>\n",
       "    <tr>\n",
       "      <th>9</th>\n",
       "      <td>-0.277237</td>\n",
       "      <td>0.012289</td>\n",
       "      <td>_items</td>\n",
       "    </tr>\n",
       "  </tbody>\n",
       "</table>\n",
       "</div>"
      ],
      "text/plain": [
       "       Score    Volume                                  What\n",
       "0   6.063813  0.287175  ____________________________________\n",
       "1  -0.378588  0.254699                                ___die\n",
       "2  -0.369649  0.016386                     __auipreloadindex\n",
       "3  -0.138618  0.006145                                   _aa\n",
       "4  14.205774  0.410869                                _black\n",
       "5  -0.092412  0.004096                                _blank\n",
       "6  -0.046206  0.002048                                   _bo\n",
       "7  -1.663421  0.073736                                   _cb\n",
       "8  -0.138618  0.006145                             _encoding\n",
       "9  -0.277237  0.012289                                _items"
      ]
     },
     "execution_count": 572,
     "metadata": {},
     "output_type": "execute_result"
    }
   ],
   "source": [
    "scores.head(10)"
   ]
  },
  {
   "cell_type": "code",
   "execution_count": 573,
   "metadata": {},
   "outputs": [],
   "source": [
    "scores['Value'] = np.abs(scores['Score'])"
   ]
  },
  {
   "cell_type": "code",
   "execution_count": 574,
   "metadata": {},
   "outputs": [
    {
     "data": {
      "text/plain": [
       "0    0.287175\n",
       "1    0.254699\n",
       "2    0.016386\n",
       "3    0.006145\n",
       "4    0.410869\n",
       "5    0.004096\n",
       "6    0.002048\n",
       "7    0.073736\n",
       "8    0.006145\n",
       "9    0.012289\n",
       "Name: Volume, dtype: float64"
      ]
     },
     "execution_count": 574,
     "metadata": {},
     "output_type": "execute_result"
    }
   ],
   "source": [
    "scores['Volume'].head(10)"
   ]
  },
  {
   "cell_type": "code",
   "execution_count": 575,
   "metadata": {
    "scrolled": true
   },
   "outputs": [
    {
     "data": {
      "text/html": [
       "<div>\n",
       "<style scoped>\n",
       "    .dataframe tbody tr th:only-of-type {\n",
       "        vertical-align: middle;\n",
       "    }\n",
       "\n",
       "    .dataframe tbody tr th {\n",
       "        vertical-align: top;\n",
       "    }\n",
       "\n",
       "    .dataframe thead th {\n",
       "        text-align: right;\n",
       "    }\n",
       "</style>\n",
       "<table border=\"1\" class=\"dataframe\">\n",
       "  <thead>\n",
       "    <tr style=\"text-align: right;\">\n",
       "      <th></th>\n",
       "      <th>Score</th>\n",
       "      <th>Volume</th>\n",
       "      <th>What</th>\n",
       "      <th>Value</th>\n",
       "    </tr>\n",
       "  </thead>\n",
       "  <tbody>\n",
       "    <tr>\n",
       "      <th>6091</th>\n",
       "      <td>139.896107</td>\n",
       "      <td>0.727906</td>\n",
       "      <td>enables</td>\n",
       "      <td>139.896107</td>\n",
       "    </tr>\n",
       "    <tr>\n",
       "      <th>6520</th>\n",
       "      <td>103.800134</td>\n",
       "      <td>0.650727</td>\n",
       "      <td>explosive</td>\n",
       "      <td>103.800134</td>\n",
       "    </tr>\n",
       "    <tr>\n",
       "      <th>259</th>\n",
       "      <td>-103.739802</td>\n",
       "      <td>1.700850</td>\n",
       "      <td>adorn</td>\n",
       "      <td>103.739802</td>\n",
       "    </tr>\n",
       "    <tr>\n",
       "      <th>19566</th>\n",
       "      <td>102.219164</td>\n",
       "      <td>1.924367</td>\n",
       "      <td>traxxas</td>\n",
       "      <td>102.219164</td>\n",
       "    </tr>\n",
       "    <tr>\n",
       "      <th>1888</th>\n",
       "      <td>-100.040911</td>\n",
       "      <td>0.401996</td>\n",
       "      <td>biscuit</td>\n",
       "      <td>100.040911</td>\n",
       "    </tr>\n",
       "    <tr>\n",
       "      <th>18961</th>\n",
       "      <td>99.465717</td>\n",
       "      <td>0.812238</td>\n",
       "      <td>tense</td>\n",
       "      <td>99.465717</td>\n",
       "    </tr>\n",
       "    <tr>\n",
       "      <th>12679</th>\n",
       "      <td>89.537139</td>\n",
       "      <td>0.608791</td>\n",
       "      <td>nerve</td>\n",
       "      <td>89.537139</td>\n",
       "    </tr>\n",
       "    <tr>\n",
       "      <th>2149</th>\n",
       "      <td>-89.038083</td>\n",
       "      <td>1.392922</td>\n",
       "      <td>bore</td>\n",
       "      <td>89.038083</td>\n",
       "    </tr>\n",
       "    <tr>\n",
       "      <th>7032</th>\n",
       "      <td>-84.521881</td>\n",
       "      <td>0.396391</td>\n",
       "      <td>fixing</td>\n",
       "      <td>84.521881</td>\n",
       "    </tr>\n",
       "    <tr>\n",
       "      <th>5834</th>\n",
       "      <td>83.054206</td>\n",
       "      <td>0.064722</td>\n",
       "      <td>ediss</td>\n",
       "      <td>83.054206</td>\n",
       "    </tr>\n",
       "  </tbody>\n",
       "</table>\n",
       "</div>"
      ],
      "text/plain": [
       "            Score    Volume       What       Value\n",
       "6091   139.896107  0.727906    enables  139.896107\n",
       "6520   103.800134  0.650727  explosive  103.800134\n",
       "259   -103.739802  1.700850      adorn  103.739802\n",
       "19566  102.219164  1.924367    traxxas  102.219164\n",
       "1888  -100.040911  0.401996    biscuit  100.040911\n",
       "18961   99.465717  0.812238      tense   99.465717\n",
       "12679   89.537139  0.608791      nerve   89.537139\n",
       "2149   -89.038083  1.392922       bore   89.038083\n",
       "7032   -84.521881  0.396391     fixing   84.521881\n",
       "5834    83.054206  0.064722      ediss   83.054206"
      ]
     },
     "execution_count": 575,
     "metadata": {},
     "output_type": "execute_result"
    }
   ],
   "source": [
    "scores.sort_values(by = 'Value', ascending = False)[0:10]"
   ]
  },
  {
   "cell_type": "code",
   "execution_count": 576,
   "metadata": {},
   "outputs": [],
   "source": [
    "scaled = (scores['Volume'] - scores['Volume'].min())/(scores['Volume'].max()-scores['Volume'].min())"
   ]
  },
  {
   "cell_type": "code",
   "execution_count": 577,
   "metadata": {},
   "outputs": [
    {
     "data": {
      "text/plain": [
       "(0.0, 1.0)"
      ]
     },
     "execution_count": 577,
     "metadata": {},
     "output_type": "execute_result"
    }
   ],
   "source": [
    "scaled.min(), scaled.max()"
   ]
  },
  {
   "cell_type": "code",
   "execution_count": 578,
   "metadata": {},
   "outputs": [],
   "source": [
    "scores['Scaled'] = scaled\n",
    "scores['Importance'] = scores['Value']*scores['Scaled']\n",
    "scores = scores.loc[scores['Importance']>0.5]\n",
    "scores.sort_values(by = 'Importance', ascending = False, inplace = True)"
   ]
  },
  {
   "cell_type": "code",
   "execution_count": 579,
   "metadata": {},
   "outputs": [],
   "source": [
    "scores['Final'] = scores['Importance']*((scores['Score'] > 0)*1).replace({0:-1})"
   ]
  },
  {
   "cell_type": "code",
   "execution_count": 580,
   "metadata": {},
   "outputs": [
    {
     "data": {
      "text/html": [
       "<style  type=\"text/css\" >\n",
       "    #T_e7ae3c34_1d63_11e8_a84d_b8ac6f9f4593row0_col6 {\n",
       "            width:  10em;\n",
       "             height:  80%;\n",
       "            background:  linear-gradient(90deg, transparent 0%, transparent 0.0%, red 0.0%, red 69.0%, transparent 69.0%);\n",
       "        }    #T_e7ae3c34_1d63_11e8_a84d_b8ac6f9f4593row1_col6 {\n",
       "            width:  10em;\n",
       "             height:  80%;\n",
       "            background:  linear-gradient(90deg, transparent 0%, transparent 69.0%, green 69.0%, green 100.0%, transparent 100.0%);\n",
       "        }    #T_e7ae3c34_1d63_11e8_a84d_b8ac6f9f4593row2_col6 {\n",
       "            width:  10em;\n",
       "             height:  80%;\n",
       "            background:  linear-gradient(90deg, transparent 0%, transparent 41.3%, red 41.3%, red 69.0%, transparent 69.0%);\n",
       "        }    #T_e7ae3c34_1d63_11e8_a84d_b8ac6f9f4593row3_col6 {\n",
       "            width:  10em;\n",
       "             height:  80%;\n",
       "            background:  linear-gradient(90deg, transparent 0%, transparent 41.3%, red 41.3%, red 69.0%, transparent 69.0%);\n",
       "        }    #T_e7ae3c34_1d63_11e8_a84d_b8ac6f9f4593row4_col6 {\n",
       "            width:  10em;\n",
       "             height:  80%;\n",
       "            background:  linear-gradient(90deg, transparent 0%, transparent 69.0%, green 69.0%, green 96.0%, transparent 96.0%);\n",
       "        }    #T_e7ae3c34_1d63_11e8_a84d_b8ac6f9f4593row5_col6 {\n",
       "            width:  10em;\n",
       "             height:  80%;\n",
       "            background:  linear-gradient(90deg, transparent 0%, transparent 69.0%, green 69.0%, green 92.5%, transparent 92.5%);\n",
       "        }    #T_e7ae3c34_1d63_11e8_a84d_b8ac6f9f4593row6_col6 {\n",
       "            width:  10em;\n",
       "             height:  80%;\n",
       "            background:  linear-gradient(90deg, transparent 0%, transparent 69.0%, green 69.0%, green 91.8%, transparent 91.8%);\n",
       "        }    #T_e7ae3c34_1d63_11e8_a84d_b8ac6f9f4593row7_col6 {\n",
       "            width:  10em;\n",
       "             height:  80%;\n",
       "            background:  linear-gradient(90deg, transparent 0%, transparent 69.0%, green 69.0%, green 90.1%, transparent 90.1%);\n",
       "        }    #T_e7ae3c34_1d63_11e8_a84d_b8ac6f9f4593row8_col6 {\n",
       "            width:  10em;\n",
       "             height:  80%;\n",
       "            background:  linear-gradient(90deg, transparent 0%, transparent 48.7%, red 48.7%, red 69.0%, transparent 69.0%);\n",
       "        }    #T_e7ae3c34_1d63_11e8_a84d_b8ac6f9f4593row9_col6 {\n",
       "            width:  10em;\n",
       "             height:  80%;\n",
       "            background:  linear-gradient(90deg, transparent 0%, transparent 69.0%, green 69.0%, green 88.7%, transparent 88.7%);\n",
       "        }    #T_e7ae3c34_1d63_11e8_a84d_b8ac6f9f4593row10_col6 {\n",
       "            width:  10em;\n",
       "             height:  80%;\n",
       "            background:  linear-gradient(90deg, transparent 0%, transparent 69.0%, green 69.0%, green 87.9%, transparent 87.9%);\n",
       "        }    #T_e7ae3c34_1d63_11e8_a84d_b8ac6f9f4593row11_col6 {\n",
       "            width:  10em;\n",
       "             height:  80%;\n",
       "            background:  linear-gradient(90deg, transparent 0%, transparent 69.0%, green 69.0%, green 87.3%, transparent 87.3%);\n",
       "        }    #T_e7ae3c34_1d63_11e8_a84d_b8ac6f9f4593row12_col6 {\n",
       "            width:  10em;\n",
       "             height:  80%;\n",
       "            background:  linear-gradient(90deg, transparent 0%, transparent 50.8%, red 50.8%, red 69.0%, transparent 69.0%);\n",
       "        }    #T_e7ae3c34_1d63_11e8_a84d_b8ac6f9f4593row13_col6 {\n",
       "            width:  10em;\n",
       "             height:  80%;\n",
       "            background:  linear-gradient(90deg, transparent 0%, transparent 69.0%, green 69.0%, green 86.1%, transparent 86.1%);\n",
       "        }    #T_e7ae3c34_1d63_11e8_a84d_b8ac6f9f4593row14_col6 {\n",
       "            width:  10em;\n",
       "             height:  80%;\n",
       "            background:  linear-gradient(90deg, transparent 0%, transparent 69.0%, green 69.0%, green 85.7%, transparent 85.7%);\n",
       "        }    #T_e7ae3c34_1d63_11e8_a84d_b8ac6f9f4593row15_col6 {\n",
       "            width:  10em;\n",
       "             height:  80%;\n",
       "            background:  linear-gradient(90deg, transparent 0%, transparent 69.0%, green 69.0%, green 85.7%, transparent 85.7%);\n",
       "        }    #T_e7ae3c34_1d63_11e8_a84d_b8ac6f9f4593row16_col6 {\n",
       "            width:  10em;\n",
       "             height:  80%;\n",
       "            background:  linear-gradient(90deg, transparent 0%, transparent 69.0%, green 69.0%, green 85.7%, transparent 85.7%);\n",
       "        }    #T_e7ae3c34_1d63_11e8_a84d_b8ac6f9f4593row17_col6 {\n",
       "            width:  10em;\n",
       "             height:  80%;\n",
       "            background:  linear-gradient(90deg, transparent 0%, transparent 69.0%, green 69.0%, green 85.4%, transparent 85.4%);\n",
       "        }    #T_e7ae3c34_1d63_11e8_a84d_b8ac6f9f4593row18_col6 {\n",
       "            width:  10em;\n",
       "             height:  80%;\n",
       "            background:  linear-gradient(90deg, transparent 0%, transparent 69.0%, green 69.0%, green 85.3%, transparent 85.3%);\n",
       "        }    #T_e7ae3c34_1d63_11e8_a84d_b8ac6f9f4593row19_col6 {\n",
       "            width:  10em;\n",
       "             height:  80%;\n",
       "            background:  linear-gradient(90deg, transparent 0%, transparent 69.0%, green 69.0%, green 85.2%, transparent 85.2%);\n",
       "        }</style>  \n",
       "<table id=\"T_e7ae3c34_1d63_11e8_a84d_b8ac6f9f4593\" > \n",
       "<thead>    <tr> \n",
       "        <th class=\"blank level0\" ></th> \n",
       "        <th class=\"col_heading level0 col0\" >Score</th> \n",
       "        <th class=\"col_heading level0 col1\" >Volume</th> \n",
       "        <th class=\"col_heading level0 col2\" >What</th> \n",
       "        <th class=\"col_heading level0 col3\" >Value</th> \n",
       "        <th class=\"col_heading level0 col4\" >Scaled</th> \n",
       "        <th class=\"col_heading level0 col5\" >Importance</th> \n",
       "        <th class=\"col_heading level0 col6\" >Final</th> \n",
       "    </tr></thead> \n",
       "<tbody>    <tr> \n",
       "        <th id=\"T_e7ae3c34_1d63_11e8_a84d_b8ac6f9f4593level0_row0\" class=\"row_heading level0 row0\" >2868</th> \n",
       "        <td id=\"T_e7ae3c34_1d63_11e8_a84d_b8ac6f9f4593row0_col0\" class=\"data row0 col0\" >-73.0824</td> \n",
       "        <td id=\"T_e7ae3c34_1d63_11e8_a84d_b8ac6f9f4593row0_col1\" class=\"data row0 col1\" >44.36</td> \n",
       "        <td id=\"T_e7ae3c34_1d63_11e8_a84d_b8ac6f9f4593row0_col2\" class=\"data row0 col2\" >case</td> \n",
       "        <td id=\"T_e7ae3c34_1d63_11e8_a84d_b8ac6f9f4593row0_col3\" class=\"data row0 col3\" >73.0824</td> \n",
       "        <td id=\"T_e7ae3c34_1d63_11e8_a84d_b8ac6f9f4593row0_col4\" class=\"data row0 col4\" >0.253139</td> \n",
       "        <td id=\"T_e7ae3c34_1d63_11e8_a84d_b8ac6f9f4593row0_col5\" class=\"data row0 col5\" >18.5</td> \n",
       "        <td id=\"T_e7ae3c34_1d63_11e8_a84d_b8ac6f9f4593row0_col6\" class=\"data row0 col6\" >-18.5</td> \n",
       "    </tr>    <tr> \n",
       "        <th id=\"T_e7ae3c34_1d63_11e8_a84d_b8ac6f9f4593level0_row1\" class=\"row_heading level0 row1\" >3413</th> \n",
       "        <td id=\"T_e7ae3c34_1d63_11e8_a84d_b8ac6f9f4593row1_col0\" class=\"data row1 col0\" >53.1628</td> \n",
       "        <td id=\"T_e7ae3c34_1d63_11e8_a84d_b8ac6f9f4593row1_col1\" class=\"data row1 col1\" >27.4122</td> \n",
       "        <td id=\"T_e7ae3c34_1d63_11e8_a84d_b8ac6f9f4593row1_col2\" class=\"data row1 col2\" >clear</td> \n",
       "        <td id=\"T_e7ae3c34_1d63_11e8_a84d_b8ac6f9f4593row1_col3\" class=\"data row1 col3\" >53.1628</td> \n",
       "        <td id=\"T_e7ae3c34_1d63_11e8_a84d_b8ac6f9f4593row1_col4\" class=\"data row1 col4\" >0.156423</td> \n",
       "        <td id=\"T_e7ae3c34_1d63_11e8_a84d_b8ac6f9f4593row1_col5\" class=\"data row1 col5\" >8.31589</td> \n",
       "        <td id=\"T_e7ae3c34_1d63_11e8_a84d_b8ac6f9f4593row1_col6\" class=\"data row1 col6\" >8.31589</td> \n",
       "    </tr>    <tr> \n",
       "        <th id=\"T_e7ae3c34_1d63_11e8_a84d_b8ac6f9f4593level0_row2\" class=\"row_heading level0 row2\" >11097</th> \n",
       "        <td id=\"T_e7ae3c34_1d63_11e8_a84d_b8ac6f9f4593row2_col0\" class=\"data row2 col0\" >-36.1479</td> \n",
       "        <td id=\"T_e7ae3c34_1d63_11e8_a84d_b8ac6f9f4593row2_col1\" class=\"data row2 col1\" >35.9758</td> \n",
       "        <td id=\"T_e7ae3c34_1d63_11e8_a84d_b8ac6f9f4593row2_col2\" class=\"data row2 col2\" >love</td> \n",
       "        <td id=\"T_e7ae3c34_1d63_11e8_a84d_b8ac6f9f4593row2_col3\" class=\"data row2 col3\" >36.1479</td> \n",
       "        <td id=\"T_e7ae3c34_1d63_11e8_a84d_b8ac6f9f4593row2_col4\" class=\"data row2 col4\" >0.205293</td> \n",
       "        <td id=\"T_e7ae3c34_1d63_11e8_a84d_b8ac6f9f4593row2_col5\" class=\"data row2 col5\" >7.42092</td> \n",
       "        <td id=\"T_e7ae3c34_1d63_11e8_a84d_b8ac6f9f4593row2_col6\" class=\"data row2 col6\" >-7.42092</td> \n",
       "    </tr>    <tr> \n",
       "        <th id=\"T_e7ae3c34_1d63_11e8_a84d_b8ac6f9f4593level0_row3\" class=\"row_heading level0 row3\" >16686</th> \n",
       "        <td id=\"T_e7ae3c34_1d63_11e8_a84d_b8ac6f9f4593row3_col0\" class=\"data row3 col0\" >-29.678</td> \n",
       "        <td id=\"T_e7ae3c34_1d63_11e8_a84d_b8ac6f9f4593row3_col1\" class=\"data row3 col1\" >43.7679</td> \n",
       "        <td id=\"T_e7ae3c34_1d63_11e8_a84d_b8ac6f9f4593row3_col2\" class=\"data row3 col2\" >sell</td> \n",
       "        <td id=\"T_e7ae3c34_1d63_11e8_a84d_b8ac6f9f4593row3_col3\" class=\"data row3 col3\" >29.678</td> \n",
       "        <td id=\"T_e7ae3c34_1d63_11e8_a84d_b8ac6f9f4593row3_col4\" class=\"data row3 col4\" >0.24976</td> \n",
       "        <td id=\"T_e7ae3c34_1d63_11e8_a84d_b8ac6f9f4593row3_col5\" class=\"data row3 col5\" >7.41239</td> \n",
       "        <td id=\"T_e7ae3c34_1d63_11e8_a84d_b8ac6f9f4593row3_col6\" class=\"data row3 col6\" >-7.41239</td> \n",
       "    </tr>    <tr> \n",
       "        <th id=\"T_e7ae3c34_1d63_11e8_a84d_b8ac6f9f4593level0_row4\" class=\"row_heading level0 row4\" >14712</th> \n",
       "        <td id=\"T_e7ae3c34_1d63_11e8_a84d_b8ac6f9f4593row4_col0\" class=\"data row4 col0\" >37.7234</td> \n",
       "        <td id=\"T_e7ae3c34_1d63_11e8_a84d_b8ac6f9f4593row4_col1\" class=\"data row4 col1\" >33.6323</td> \n",
       "        <td id=\"T_e7ae3c34_1d63_11e8_a84d_b8ac6f9f4593row4_col2\" class=\"data row4 col2\" >produce</td> \n",
       "        <td id=\"T_e7ae3c34_1d63_11e8_a84d_b8ac6f9f4593row4_col3\" class=\"data row4 col3\" >37.7234</td> \n",
       "        <td id=\"T_e7ae3c34_1d63_11e8_a84d_b8ac6f9f4593row4_col4\" class=\"data row4 col4\" >0.191919</td> \n",
       "        <td id=\"T_e7ae3c34_1d63_11e8_a84d_b8ac6f9f4593row4_col5\" class=\"data row4 col5\" >7.23984</td> \n",
       "        <td id=\"T_e7ae3c34_1d63_11e8_a84d_b8ac6f9f4593row4_col6\" class=\"data row4 col6\" >7.23984</td> \n",
       "    </tr>    <tr> \n",
       "        <th id=\"T_e7ae3c34_1d63_11e8_a84d_b8ac6f9f4593level0_row5\" class=\"row_heading level0 row5\" >2839</th> \n",
       "        <td id=\"T_e7ae3c34_1d63_11e8_a84d_b8ac6f9f4593row5_col0\" class=\"data row5 col0\" >43.4077</td> \n",
       "        <td id=\"T_e7ae3c34_1d63_11e8_a84d_b8ac6f9f4593row5_col1\" class=\"data row5 col1\" >25.4137</td> \n",
       "        <td id=\"T_e7ae3c34_1d63_11e8_a84d_b8ac6f9f4593row5_col2\" class=\"data row5 col2\" >carry</td> \n",
       "        <td id=\"T_e7ae3c34_1d63_11e8_a84d_b8ac6f9f4593row5_col3\" class=\"data row5 col3\" >43.4077</td> \n",
       "        <td id=\"T_e7ae3c34_1d63_11e8_a84d_b8ac6f9f4593row5_col4\" class=\"data row5 col4\" >0.145018</td> \n",
       "        <td id=\"T_e7ae3c34_1d63_11e8_a84d_b8ac6f9f4593row5_col5\" class=\"data row5 col5\" >6.29489</td> \n",
       "        <td id=\"T_e7ae3c34_1d63_11e8_a84d_b8ac6f9f4593row5_col6\" class=\"data row5 col6\" >6.29489</td> \n",
       "    </tr>    <tr> \n",
       "        <th id=\"T_e7ae3c34_1d63_11e8_a84d_b8ac6f9f4593level0_row6\" class=\"row_heading level0 row6\" >14464</th> \n",
       "        <td id=\"T_e7ae3c34_1d63_11e8_a84d_b8ac6f9f4593row6_col0\" class=\"data row6 col0\" >23.5702</td> \n",
       "        <td id=\"T_e7ae3c34_1d63_11e8_a84d_b8ac6f9f4593row6_col1\" class=\"data row6 col1\" >45.5528</td> \n",
       "        <td id=\"T_e7ae3c34_1d63_11e8_a84d_b8ac6f9f4593row6_col2\" class=\"data row6 col2\" >postage</td> \n",
       "        <td id=\"T_e7ae3c34_1d63_11e8_a84d_b8ac6f9f4593row6_col3\" class=\"data row6 col3\" >23.5702</td> \n",
       "        <td id=\"T_e7ae3c34_1d63_11e8_a84d_b8ac6f9f4593row6_col4\" class=\"data row6 col4\" >0.259946</td> \n",
       "        <td id=\"T_e7ae3c34_1d63_11e8_a84d_b8ac6f9f4593row6_col5\" class=\"data row6 col5\" >6.12697</td> \n",
       "        <td id=\"T_e7ae3c34_1d63_11e8_a84d_b8ac6f9f4593row6_col6\" class=\"data row6 col6\" >6.12697</td> \n",
       "    </tr>    <tr> \n",
       "        <th id=\"T_e7ae3c34_1d63_11e8_a84d_b8ac6f9f4593level0_row7\" class=\"row_heading level0 row7\" >18490</th> \n",
       "        <td id=\"T_e7ae3c34_1d63_11e8_a84d_b8ac6f9f4593row7_col0\" class=\"data row7 col0\" >31.2463</td> \n",
       "        <td id=\"T_e7ae3c34_1d63_11e8_a84d_b8ac6f9f4593row7_col1\" class=\"data row7 col1\" >31.7716</td> \n",
       "        <td id=\"T_e7ae3c34_1d63_11e8_a84d_b8ac6f9f4593row7_col2\" class=\"data row7 col2\" >supply</td> \n",
       "        <td id=\"T_e7ae3c34_1d63_11e8_a84d_b8ac6f9f4593row7_col3\" class=\"data row7 col3\" >31.2463</td> \n",
       "        <td id=\"T_e7ae3c34_1d63_11e8_a84d_b8ac6f9f4593row7_col4\" class=\"data row7 col4\" >0.181301</td> \n",
       "        <td id=\"T_e7ae3c34_1d63_11e8_a84d_b8ac6f9f4593row7_col5\" class=\"data row7 col5\" >5.66497</td> \n",
       "        <td id=\"T_e7ae3c34_1d63_11e8_a84d_b8ac6f9f4593row7_col6\" class=\"data row7 col6\" >5.66497</td> \n",
       "    </tr>    <tr> \n",
       "        <th id=\"T_e7ae3c34_1d63_11e8_a84d_b8ac6f9f4593level0_row8\" class=\"row_heading level0 row8\" >3690</th> \n",
       "        <td id=\"T_e7ae3c34_1d63_11e8_a84d_b8ac6f9f4593row8_col0\" class=\"data row8 col0\" >-8.7943</td> \n",
       "        <td id=\"T_e7ae3c34_1d63_11e8_a84d_b8ac6f9f4593row8_col1\" class=\"data row8 col1\" >108.614</td> \n",
       "        <td id=\"T_e7ae3c34_1d63_11e8_a84d_b8ac6f9f4593row8_col2\" class=\"data row8 col2\" >combine</td> \n",
       "        <td id=\"T_e7ae3c34_1d63_11e8_a84d_b8ac6f9f4593row8_col3\" class=\"data row8 col3\" >8.7943</td> \n",
       "        <td id=\"T_e7ae3c34_1d63_11e8_a84d_b8ac6f9f4593row8_col4\" class=\"data row8 col4\" >0.61982</td> \n",
       "        <td id=\"T_e7ae3c34_1d63_11e8_a84d_b8ac6f9f4593row8_col5\" class=\"data row8 col5\" >5.45088</td> \n",
       "        <td id=\"T_e7ae3c34_1d63_11e8_a84d_b8ac6f9f4593row8_col6\" class=\"data row8 col6\" >-5.45088</td> \n",
       "    </tr>    <tr> \n",
       "        <th id=\"T_e7ae3c34_1d63_11e8_a84d_b8ac6f9f4593level0_row9\" class=\"row_heading level0 row9\" >16916</th> \n",
       "        <td id=\"T_e7ae3c34_1d63_11e8_a84d_b8ac6f9f4593row9_col0\" class=\"data row9 col0\" >29.8237</td> \n",
       "        <td id=\"T_e7ae3c34_1d63_11e8_a84d_b8ac6f9f4593row9_col1\" class=\"data row9 col1\" >30.9966</td> \n",
       "        <td id=\"T_e7ae3c34_1d63_11e8_a84d_b8ac6f9f4593row9_col2\" class=\"data row9 col2\" >ship</td> \n",
       "        <td id=\"T_e7ae3c34_1d63_11e8_a84d_b8ac6f9f4593row9_col3\" class=\"data row9 col3\" >29.8237</td> \n",
       "        <td id=\"T_e7ae3c34_1d63_11e8_a84d_b8ac6f9f4593row9_col4\" class=\"data row9 col4\" >0.176878</td> \n",
       "        <td id=\"T_e7ae3c34_1d63_11e8_a84d_b8ac6f9f4593row9_col5\" class=\"data row9 col5\" >5.27516</td> \n",
       "        <td id=\"T_e7ae3c34_1d63_11e8_a84d_b8ac6f9f4593row9_col6\" class=\"data row9 col6\" >5.27516</td> \n",
       "    </tr>    <tr> \n",
       "        <th id=\"T_e7ae3c34_1d63_11e8_a84d_b8ac6f9f4593level0_row10\" class=\"row_heading level0 row10\" >12309</th> \n",
       "        <td id=\"T_e7ae3c34_1d63_11e8_a84d_b8ac6f9f4593row10_col0\" class=\"data row10 col0\" >68.9069</td> \n",
       "        <td id=\"T_e7ae3c34_1d63_11e8_a84d_b8ac6f9f4593row10_col1\" class=\"data row10 col1\" >12.9303</td> \n",
       "        <td id=\"T_e7ae3c34_1d63_11e8_a84d_b8ac6f9f4593row10_col2\" class=\"data row10 col2\" >mount</td> \n",
       "        <td id=\"T_e7ae3c34_1d63_11e8_a84d_b8ac6f9f4593row10_col3\" class=\"data row10 col3\" >68.9069</td> \n",
       "        <td id=\"T_e7ae3c34_1d63_11e8_a84d_b8ac6f9f4593row10_col4\" class=\"data row10 col4\" >0.073778</td> \n",
       "        <td id=\"T_e7ae3c34_1d63_11e8_a84d_b8ac6f9f4593row10_col5\" class=\"data row10 col5\" >5.08381</td> \n",
       "        <td id=\"T_e7ae3c34_1d63_11e8_a84d_b8ac6f9f4593row10_col6\" class=\"data row10 col6\" >5.08381</td> \n",
       "    </tr>    <tr> \n",
       "        <th id=\"T_e7ae3c34_1d63_11e8_a84d_b8ac6f9f4593level0_row11\" class=\"row_heading level0 row11\" >14598</th> \n",
       "        <td id=\"T_e7ae3c34_1d63_11e8_a84d_b8ac6f9f4593row11_col0\" class=\"data row11 col0\" >41.0148</td> \n",
       "        <td id=\"T_e7ae3c34_1d63_11e8_a84d_b8ac6f9f4593row11_col1\" class=\"data row11 col1\" >21.0346</td> \n",
       "        <td id=\"T_e7ae3c34_1d63_11e8_a84d_b8ac6f9f4593row11_col2\" class=\"data row11 col2\" >present</td> \n",
       "        <td id=\"T_e7ae3c34_1d63_11e8_a84d_b8ac6f9f4593row11_col3\" class=\"data row11 col3\" >41.0148</td> \n",
       "        <td id=\"T_e7ae3c34_1d63_11e8_a84d_b8ac6f9f4593row11_col4\" class=\"data row11 col4\" >0.120027</td> \n",
       "        <td id=\"T_e7ae3c34_1d63_11e8_a84d_b8ac6f9f4593row11_col5\" class=\"data row11 col5\" >4.9229</td> \n",
       "        <td id=\"T_e7ae3c34_1d63_11e8_a84d_b8ac6f9f4593row11_col6\" class=\"data row11 col6\" >4.9229</td> \n",
       "    </tr>    <tr> \n",
       "        <th id=\"T_e7ae3c34_1d63_11e8_a84d_b8ac6f9f4593level0_row12\" class=\"row_heading level0 row12\" >8896</th> \n",
       "        <td id=\"T_e7ae3c34_1d63_11e8_a84d_b8ac6f9f4593row12_col0\" class=\"data row12 col0\" >-32.4116</td> \n",
       "        <td id=\"T_e7ae3c34_1d63_11e8_a84d_b8ac6f9f4593row12_col1\" class=\"data row12 col1\" >26.3324</td> \n",
       "        <td id=\"T_e7ae3c34_1d63_11e8_a84d_b8ac6f9f4593row12_col2\" class=\"data row12 col2\" >home</td> \n",
       "        <td id=\"T_e7ae3c34_1d63_11e8_a84d_b8ac6f9f4593row12_col3\" class=\"data row12 col3\" >32.4116</td> \n",
       "        <td id=\"T_e7ae3c34_1d63_11e8_a84d_b8ac6f9f4593row12_col4\" class=\"data row12 col4\" >0.150261</td> \n",
       "        <td id=\"T_e7ae3c34_1d63_11e8_a84d_b8ac6f9f4593row12_col5\" class=\"data row12 col5\" >4.87019</td> \n",
       "        <td id=\"T_e7ae3c34_1d63_11e8_a84d_b8ac6f9f4593row12_col6\" class=\"data row12 col6\" >-4.87019</td> \n",
       "    </tr>    <tr> \n",
       "        <th id=\"T_e7ae3c34_1d63_11e8_a84d_b8ac6f9f4593level0_row13\" class=\"row_heading level0 row13\" >10932</th> \n",
       "        <td id=\"T_e7ae3c34_1d63_11e8_a84d_b8ac6f9f4593row13_col0\" class=\"data row13 col0\" >17.4583</td> \n",
       "        <td id=\"T_e7ae3c34_1d63_11e8_a84d_b8ac6f9f4593row13_col1\" class=\"data row13 col1\" >46.0142</td> \n",
       "        <td id=\"T_e7ae3c34_1d63_11e8_a84d_b8ac6f9f4593row13_col2\" class=\"data row13 col2\" >little</td> \n",
       "        <td id=\"T_e7ae3c34_1d63_11e8_a84d_b8ac6f9f4593row13_col3\" class=\"data row13 col3\" >17.4583</td> \n",
       "        <td id=\"T_e7ae3c34_1d63_11e8_a84d_b8ac6f9f4593row13_col4\" class=\"data row13 col4\" >0.26258</td> \n",
       "        <td id=\"T_e7ae3c34_1d63_11e8_a84d_b8ac6f9f4593row13_col5\" class=\"data row13 col5\" >4.58419</td> \n",
       "        <td id=\"T_e7ae3c34_1d63_11e8_a84d_b8ac6f9f4593row13_col6\" class=\"data row13 col6\" >4.58419</td> \n",
       "    </tr>    <tr> \n",
       "        <th id=\"T_e7ae3c34_1d63_11e8_a84d_b8ac6f9f4593level0_row14\" class=\"row_heading level0 row14\" >7412</th> \n",
       "        <td id=\"T_e7ae3c34_1d63_11e8_a84d_b8ac6f9f4593row14_col0\" class=\"data row14 col0\" >16.9244</td> \n",
       "        <td id=\"T_e7ae3c34_1d63_11e8_a84d_b8ac6f9f4593row14_col1\" class=\"data row14 col1\" >46.537</td> \n",
       "        <td id=\"T_e7ae3c34_1d63_11e8_a84d_b8ac6f9f4593row14_col2\" class=\"data row14 col2\" >friend</td> \n",
       "        <td id=\"T_e7ae3c34_1d63_11e8_a84d_b8ac6f9f4593row14_col3\" class=\"data row14 col3\" >16.9244</td> \n",
       "        <td id=\"T_e7ae3c34_1d63_11e8_a84d_b8ac6f9f4593row14_col4\" class=\"data row14 col4\" >0.265563</td> \n",
       "        <td id=\"T_e7ae3c34_1d63_11e8_a84d_b8ac6f9f4593row14_col5\" class=\"data row14 col5\" >4.49449</td> \n",
       "        <td id=\"T_e7ae3c34_1d63_11e8_a84d_b8ac6f9f4593row14_col6\" class=\"data row14 col6\" >4.49449</td> \n",
       "    </tr>    <tr> \n",
       "        <th id=\"T_e7ae3c34_1d63_11e8_a84d_b8ac6f9f4593level0_row15\" class=\"row_heading level0 row15\" >4269</th> \n",
       "        <td id=\"T_e7ae3c34_1d63_11e8_a84d_b8ac6f9f4593row15_col0\" class=\"data row15 col0\" >14.9807</td> \n",
       "        <td id=\"T_e7ae3c34_1d63_11e8_a84d_b8ac6f9f4593row15_col1\" class=\"data row15 col1\" >52.3852</td> \n",
       "        <td id=\"T_e7ae3c34_1d63_11e8_a84d_b8ac6f9f4593row15_col2\" class=\"data row15 col2\" >create</td> \n",
       "        <td id=\"T_e7ae3c34_1d63_11e8_a84d_b8ac6f9f4593row15_col3\" class=\"data row15 col3\" >14.9807</td> \n",
       "        <td id=\"T_e7ae3c34_1d63_11e8_a84d_b8ac6f9f4593row15_col4\" class=\"data row15 col4\" >0.298937</td> \n",
       "        <td id=\"T_e7ae3c34_1d63_11e8_a84d_b8ac6f9f4593row15_col5\" class=\"data row15 col5\" >4.47828</td> \n",
       "        <td id=\"T_e7ae3c34_1d63_11e8_a84d_b8ac6f9f4593row15_col6\" class=\"data row15 col6\" >4.47828</td> \n",
       "    </tr>    <tr> \n",
       "        <th id=\"T_e7ae3c34_1d63_11e8_a84d_b8ac6f9f4593level0_row16\" class=\"row_heading level0 row16\" >16722</th> \n",
       "        <td id=\"T_e7ae3c34_1d63_11e8_a84d_b8ac6f9f4593row16_col0\" class=\"data row16 col0\" >30.0781</td> \n",
       "        <td id=\"T_e7ae3c34_1d63_11e8_a84d_b8ac6f9f4593row16_col1\" class=\"data row16 col1\" >26.0523</td> \n",
       "        <td id=\"T_e7ae3c34_1d63_11e8_a84d_b8ac6f9f4593row16_col2\" class=\"data row16 col2\" >separately</td> \n",
       "        <td id=\"T_e7ae3c34_1d63_11e8_a84d_b8ac6f9f4593row16_col3\" class=\"data row16 col3\" >30.0781</td> \n",
       "        <td id=\"T_e7ae3c34_1d63_11e8_a84d_b8ac6f9f4593row16_col4\" class=\"data row16 col4\" >0.148662</td> \n",
       "        <td id=\"T_e7ae3c34_1d63_11e8_a84d_b8ac6f9f4593row16_col5\" class=\"data row16 col5\" >4.47148</td> \n",
       "        <td id=\"T_e7ae3c34_1d63_11e8_a84d_b8ac6f9f4593row16_col6\" class=\"data row16 col6\" >4.47148</td> \n",
       "    </tr>    <tr> \n",
       "        <th id=\"T_e7ae3c34_1d63_11e8_a84d_b8ac6f9f4593level0_row17\" class=\"row_heading level0 row17\" >15876</th> \n",
       "        <td id=\"T_e7ae3c34_1d63_11e8_a84d_b8ac6f9f4593row17_col0\" class=\"data row17 col0\" >37.8273</td> \n",
       "        <td id=\"T_e7ae3c34_1d63_11e8_a84d_b8ac6f9f4593row17_col1\" class=\"data row17 col1\" >20.3324</td> \n",
       "        <td id=\"T_e7ae3c34_1d63_11e8_a84d_b8ac6f9f4593row17_col2\" class=\"data row17 col2\" >right</td> \n",
       "        <td id=\"T_e7ae3c34_1d63_11e8_a84d_b8ac6f9f4593row17_col3\" class=\"data row17 col3\" >37.8273</td> \n",
       "        <td id=\"T_e7ae3c34_1d63_11e8_a84d_b8ac6f9f4593row17_col4\" class=\"data row17 col4\" >0.11602</td> \n",
       "        <td id=\"T_e7ae3c34_1d63_11e8_a84d_b8ac6f9f4593row17_col5\" class=\"data row17 col5\" >4.38873</td> \n",
       "        <td id=\"T_e7ae3c34_1d63_11e8_a84d_b8ac6f9f4593row17_col6\" class=\"data row17 col6\" >4.38873</td> \n",
       "    </tr>    <tr> \n",
       "        <th id=\"T_e7ae3c34_1d63_11e8_a84d_b8ac6f9f4593level0_row18\" class=\"row_heading level0 row18\" >7257</th> \n",
       "        <td id=\"T_e7ae3c34_1d63_11e8_a84d_b8ac6f9f4593row18_col0\" class=\"data row18 col0\" >34.7142</td> \n",
       "        <td id=\"T_e7ae3c34_1d63_11e8_a84d_b8ac6f9f4593row18_col1\" class=\"data row18 col1\" >22.1231</td> \n",
       "        <td id=\"T_e7ae3c34_1d63_11e8_a84d_b8ac6f9f4593row18_col2\" class=\"data row18 col2\" >force</td> \n",
       "        <td id=\"T_e7ae3c34_1d63_11e8_a84d_b8ac6f9f4593row18_col3\" class=\"data row18 col3\" >34.7142</td> \n",
       "        <td id=\"T_e7ae3c34_1d63_11e8_a84d_b8ac6f9f4593row18_col4\" class=\"data row18 col4\" >0.126239</td> \n",
       "        <td id=\"T_e7ae3c34_1d63_11e8_a84d_b8ac6f9f4593row18_col5\" class=\"data row18 col5\" >4.38229</td> \n",
       "        <td id=\"T_e7ae3c34_1d63_11e8_a84d_b8ac6f9f4593row18_col6\" class=\"data row18 col6\" >4.38229</td> \n",
       "    </tr>    <tr> \n",
       "        <th id=\"T_e7ae3c34_1d63_11e8_a84d_b8ac6f9f4593level0_row19\" class=\"row_heading level0 row19\" >17136</th> \n",
       "        <td id=\"T_e7ae3c34_1d63_11e8_a84d_b8ac6f9f4593row19_col0\" class=\"data row19 col0\" >30.9336</td> \n",
       "        <td id=\"T_e7ae3c34_1d63_11e8_a84d_b8ac6f9f4593row19_col1\" class=\"data row19 col1\" >24.6357</td> \n",
       "        <td id=\"T_e7ae3c34_1d63_11e8_a84d_b8ac6f9f4593row19_col2\" class=\"data row19 col2\" >single</td> \n",
       "        <td id=\"T_e7ae3c34_1d63_11e8_a84d_b8ac6f9f4593row19_col3\" class=\"data row19 col3\" >30.9336</td> \n",
       "        <td id=\"T_e7ae3c34_1d63_11e8_a84d_b8ac6f9f4593row19_col4\" class=\"data row19 col4\" >0.140578</td> \n",
       "        <td id=\"T_e7ae3c34_1d63_11e8_a84d_b8ac6f9f4593row19_col5\" class=\"data row19 col5\" >4.34859</td> \n",
       "        <td id=\"T_e7ae3c34_1d63_11e8_a84d_b8ac6f9f4593row19_col6\" class=\"data row19 col6\" >4.34859</td> \n",
       "    </tr></tbody> \n",
       "</table> "
      ],
      "text/plain": [
       "<pandas.io.formats.style.Styler at 0x17b98e1ac88>"
      ]
     },
     "execution_count": 580,
     "metadata": {},
     "output_type": "execute_result"
    }
   ],
   "source": [
    "scores[0:20].style.bar(subset = ['Final'], align = 'mid', color = ['red','green'])"
   ]
  }
 ],
 "metadata": {
  "kernelspec": {
   "display_name": "Python 3",
   "language": "python",
   "name": "python3"
  },
  "language_info": {
   "codemirror_mode": {
    "name": "ipython",
    "version": 3
   },
   "file_extension": ".py",
   "mimetype": "text/x-python",
   "name": "python",
   "nbconvert_exporter": "python",
   "pygments_lexer": "ipython3",
   "version": "3.6.3"
  }
 },
 "nbformat": 4,
 "nbformat_minor": 2
}
