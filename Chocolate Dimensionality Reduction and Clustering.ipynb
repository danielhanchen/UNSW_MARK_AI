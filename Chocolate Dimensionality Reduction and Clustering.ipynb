{
 "cells": [
  {
   "cell_type": "code",
   "execution_count": 43,
   "metadata": {},
   "outputs": [],
   "source": [
    "def keep_numbers(data):\n",
    "    where = data.dtypes != 'object'\n",
    "    cols = where.loc[where].index\n",
    "    return data[cols]"
   ]
  },
  {
   "cell_type": "code",
   "execution_count": 44,
   "metadata": {},
   "outputs": [
    {
     "data": {
      "text/html": [
       "<div>\n",
       "<style scoped>\n",
       "    .dataframe tbody tr th:only-of-type {\n",
       "        vertical-align: middle;\n",
       "    }\n",
       "\n",
       "    .dataframe tbody tr th {\n",
       "        vertical-align: top;\n",
       "    }\n",
       "\n",
       "    .dataframe thead th {\n",
       "        text-align: right;\n",
       "    }\n",
       "</style>\n",
       "<table border=\"1\" class=\"dataframe\">\n",
       "  <thead>\n",
       "    <tr style=\"text-align: right;\">\n",
       "      <th></th>\n",
       "      <th>Company \n",
       "(Maker-if known)</th>\n",
       "      <th>Specific Bean Origin\n",
       "or Bar Name</th>\n",
       "      <th>REF</th>\n",
       "      <th>Review\n",
       "Date</th>\n",
       "      <th>Cocoa\n",
       "Percent</th>\n",
       "      <th>Company\n",
       "Location</th>\n",
       "      <th>Rating</th>\n",
       "      <th>Bean\n",
       "Type</th>\n",
       "      <th>Broad Bean\n",
       "Origin</th>\n",
       "    </tr>\n",
       "  </thead>\n",
       "  <tbody>\n",
       "    <tr>\n",
       "      <th>0</th>\n",
       "      <td>A. Morin</td>\n",
       "      <td>Agua Grande</td>\n",
       "      <td>1876</td>\n",
       "      <td>2016</td>\n",
       "      <td>63%</td>\n",
       "      <td>France</td>\n",
       "      <td>3.75</td>\n",
       "      <td></td>\n",
       "      <td>Sao Tome</td>\n",
       "    </tr>\n",
       "    <tr>\n",
       "      <th>1</th>\n",
       "      <td>A. Morin</td>\n",
       "      <td>Kpime</td>\n",
       "      <td>1676</td>\n",
       "      <td>2015</td>\n",
       "      <td>70%</td>\n",
       "      <td>France</td>\n",
       "      <td>2.75</td>\n",
       "      <td></td>\n",
       "      <td>Togo</td>\n",
       "    </tr>\n",
       "    <tr>\n",
       "      <th>2</th>\n",
       "      <td>A. Morin</td>\n",
       "      <td>Atsane</td>\n",
       "      <td>1676</td>\n",
       "      <td>2015</td>\n",
       "      <td>70%</td>\n",
       "      <td>France</td>\n",
       "      <td>3.00</td>\n",
       "      <td></td>\n",
       "      <td>Togo</td>\n",
       "    </tr>\n",
       "    <tr>\n",
       "      <th>3</th>\n",
       "      <td>A. Morin</td>\n",
       "      <td>Akata</td>\n",
       "      <td>1680</td>\n",
       "      <td>2015</td>\n",
       "      <td>70%</td>\n",
       "      <td>France</td>\n",
       "      <td>3.50</td>\n",
       "      <td></td>\n",
       "      <td>Togo</td>\n",
       "    </tr>\n",
       "    <tr>\n",
       "      <th>4</th>\n",
       "      <td>A. Morin</td>\n",
       "      <td>Quilla</td>\n",
       "      <td>1704</td>\n",
       "      <td>2015</td>\n",
       "      <td>70%</td>\n",
       "      <td>France</td>\n",
       "      <td>3.50</td>\n",
       "      <td></td>\n",
       "      <td>Peru</td>\n",
       "    </tr>\n",
       "  </tbody>\n",
       "</table>\n",
       "</div>"
      ],
      "text/plain": [
       "  Company \\n(Maker-if known) Specific Bean Origin\\nor Bar Name   REF  \\\n",
       "0                   A. Morin                       Agua Grande  1876   \n",
       "1                   A. Morin                             Kpime  1676   \n",
       "2                   A. Morin                            Atsane  1676   \n",
       "3                   A. Morin                             Akata  1680   \n",
       "4                   A. Morin                            Quilla  1704   \n",
       "\n",
       "   Review\\nDate Cocoa\\nPercent Company\\nLocation  Rating Bean\\nType  \\\n",
       "0          2016            63%            France    3.75              \n",
       "1          2015            70%            France    2.75              \n",
       "2          2015            70%            France    3.00              \n",
       "3          2015            70%            France    3.50              \n",
       "4          2015            70%            France    3.50              \n",
       "\n",
       "  Broad Bean\\nOrigin  \n",
       "0           Sao Tome  \n",
       "1               Togo  \n",
       "2               Togo  \n",
       "3               Togo  \n",
       "4               Peru  "
      ]
     },
     "execution_count": 44,
     "metadata": {},
     "output_type": "execute_result"
    }
   ],
   "source": [
    "import pandas as pd, numpy as np, matplotlib.pyplot as plt\n",
    "from scipy.optimize import curve_fit\n",
    "data = pd.read_csv('flavors_of_cacao.csv')\n",
    "%matplotlib inline\n",
    "\n",
    "data.head(5)"
   ]
  },
  {
   "cell_type": "code",
   "execution_count": 45,
   "metadata": {},
   "outputs": [],
   "source": [
    "data.columns = ['Company','Brand','First_Production_Date','Review_Date','%Cocoa','Location','Rating','Type','Bean_Origin']"
   ]
  },
  {
   "cell_type": "code",
   "execution_count": 46,
   "metadata": {},
   "outputs": [
    {
     "data": {
      "text/plain": [
       "0           \n",
       "1           \n",
       "2           \n",
       "3           \n",
       "4           \n",
       "5    Criollo\n",
       "6           \n",
       "7    Criollo\n",
       "8    Criollo\n",
       "9           \n",
       "Name: Type, dtype: object"
      ]
     },
     "execution_count": 46,
     "metadata": {},
     "output_type": "execute_result"
    }
   ],
   "source": [
    "data['Type'].iloc[0:10]"
   ]
  },
  {
   "cell_type": "code",
   "execution_count": 47,
   "metadata": {},
   "outputs": [
    {
     "data": {
      "text/plain": [
       "'\\xa0'"
      ]
     },
     "execution_count": 47,
     "metadata": {},
     "output_type": "execute_result"
    }
   ],
   "source": [
    "data['Type'].iloc[0]"
   ]
  },
  {
   "cell_type": "code",
   "execution_count": 48,
   "metadata": {},
   "outputs": [],
   "source": [
    "data = data.replace('\\xa0',np.nan)"
   ]
  },
  {
   "cell_type": "code",
   "execution_count": 49,
   "metadata": {},
   "outputs": [],
   "source": [
    "data['Name'] = data['Company']+' '+data['Brand']"
   ]
  },
  {
   "cell_type": "code",
   "execution_count": 50,
   "metadata": {},
   "outputs": [
    {
     "data": {
      "text/html": [
       "<div>\n",
       "<style scoped>\n",
       "    .dataframe tbody tr th:only-of-type {\n",
       "        vertical-align: middle;\n",
       "    }\n",
       "\n",
       "    .dataframe tbody tr th {\n",
       "        vertical-align: top;\n",
       "    }\n",
       "\n",
       "    .dataframe thead th {\n",
       "        text-align: right;\n",
       "    }\n",
       "</style>\n",
       "<table border=\"1\" class=\"dataframe\">\n",
       "  <thead>\n",
       "    <tr style=\"text-align: right;\">\n",
       "      <th></th>\n",
       "      <th>Company</th>\n",
       "      <th>Brand</th>\n",
       "      <th>First_Production_Date</th>\n",
       "      <th>Review_Date</th>\n",
       "      <th>%Cocoa</th>\n",
       "      <th>Location</th>\n",
       "      <th>Rating</th>\n",
       "      <th>Type</th>\n",
       "      <th>Bean_Origin</th>\n",
       "      <th>Name</th>\n",
       "    </tr>\n",
       "  </thead>\n",
       "  <tbody>\n",
       "    <tr>\n",
       "      <th>0</th>\n",
       "      <td>A. Morin</td>\n",
       "      <td>Agua Grande</td>\n",
       "      <td>1876</td>\n",
       "      <td>2016</td>\n",
       "      <td>63%</td>\n",
       "      <td>France</td>\n",
       "      <td>3.75</td>\n",
       "      <td>NaN</td>\n",
       "      <td>Sao Tome</td>\n",
       "      <td>A. Morin Agua Grande</td>\n",
       "    </tr>\n",
       "  </tbody>\n",
       "</table>\n",
       "</div>"
      ],
      "text/plain": [
       "    Company        Brand  First_Production_Date  Review_Date %Cocoa Location  \\\n",
       "0  A. Morin  Agua Grande                   1876         2016    63%   France   \n",
       "\n",
       "   Rating Type Bean_Origin                  Name  \n",
       "0    3.75  NaN    Sao Tome  A. Morin Agua Grande  "
      ]
     },
     "execution_count": 50,
     "metadata": {},
     "output_type": "execute_result"
    }
   ],
   "source": [
    "data.head(1)"
   ]
  },
  {
   "cell_type": "code",
   "execution_count": 51,
   "metadata": {},
   "outputs": [],
   "source": [
    "data['%Cocoa'] = data['%Cocoa'].str.replace('%','').astype('float')"
   ]
  },
  {
   "cell_type": "code",
   "execution_count": 52,
   "metadata": {
    "scrolled": true
   },
   "outputs": [
    {
     "data": {
      "text/plain": [
       "U.S.A.         764\n",
       "France         156\n",
       "Canada         125\n",
       "U.K.            96\n",
       "Italy           63\n",
       "Ecuador         54\n",
       "Australia       49\n",
       "Belgium         40\n",
       "Switzerland     38\n",
       "Germany         35\n",
       "Name: Location, dtype: int64"
      ]
     },
     "execution_count": 52,
     "metadata": {},
     "output_type": "execute_result"
    }
   ],
   "source": [
    "data['Location'].value_counts()[0:10]"
   ]
  },
  {
   "cell_type": "code",
   "execution_count": 53,
   "metadata": {},
   "outputs": [
    {
     "data": {
      "text/plain": [
       "Rating\n",
       "(0.996, 1.8]     17\n",
       "(1.8, 2.6]      173\n",
       "(2.6, 3.4]      903\n",
       "(3.4, 4.2]      700\n",
       "(4.2, 5.0]        2\n",
       "Name: Rating, dtype: int64"
      ]
     },
     "execution_count": 53,
     "metadata": {},
     "output_type": "execute_result"
    }
   ],
   "source": [
    "data['Rating'].groupby(pd.cut(data['Rating'],5)).count()"
   ]
  },
  {
   "cell_type": "code",
   "execution_count": 54,
   "metadata": {},
   "outputs": [
    {
     "data": {
      "image/png": "[encoded data removed]",
      "text/plain": [
       "<matplotlib.figure.Figure at 0x26844eaa9e8>"
      ]
     },
     "metadata": {},
     "output_type": "display_data"
    }
   ],
   "source": [
    "data['Rating'].plot.hist(color = 'g')\n",
    "plt.show()"
   ]
  },
  {
   "cell_type": "code",
   "execution_count": 55,
   "metadata": {},
   "outputs": [
    {
     "data": {
      "image/png": "[encoded data removed]",
      "text/plain": [
       "<matplotlib.figure.Figure at 0x26844877550>"
      ]
     },
     "metadata": {},
     "output_type": "display_data"
    }
   ],
   "source": [
    "data['%Cocoa'].plot.hist(color = 'y')\n",
    "plt.show()"
   ]
  },
  {
   "cell_type": "code",
   "execution_count": 56,
   "metadata": {},
   "outputs": [
    {
     "data": {
      "image/png": "[encoded data removed]",
      "text/plain": [
       "<matplotlib.figure.Figure at 0x26844939128>"
      ]
     },
     "metadata": {},
     "output_type": "display_data"
    }
   ],
   "source": [
    "data['Type'].value_counts().plot.line()\n",
    "plt.show()"
   ]
  },
  {
   "cell_type": "code",
   "execution_count": 57,
   "metadata": {},
   "outputs": [
    {
     "data": {
      "text/plain": [
       "Venezuela             214\n",
       "Ecuador               193\n",
       "Peru                  165\n",
       "Madagascar            145\n",
       "Dominican Republic    141\n",
       "Nicaragua              60\n",
       "Brazil                 58\n",
       "Bolivia                57\n",
       "Belize                 49\n",
       "Papua New Guinea       42\n",
       "Name: Bean_Origin, dtype: int64"
      ]
     },
     "execution_count": 57,
     "metadata": {},
     "output_type": "execute_result"
    }
   ],
   "source": [
    "data['Bean_Origin'].value_counts().iloc[0:10]"
   ]
  },
  {
   "cell_type": "code",
   "execution_count": 58,
   "metadata": {},
   "outputs": [
    {
     "data": {
      "image/png": "[encoded data removed]",
      "text/plain": [
       "<matplotlib.figure.Figure at 0x26844955908>"
      ]
     },
     "metadata": {},
     "output_type": "display_data"
    }
   ],
   "source": [
    "data['Bean_Origin'].value_counts().plot.line()\n",
    "plt.show()"
   ]
  },
  {
   "cell_type": "code",
   "execution_count": 59,
   "metadata": {},
   "outputs": [
    {
     "data": {
      "image/png": "[encoded data removed]",
      "text/plain": [
       "<matplotlib.figure.Figure at 0x268448eaeb8>"
      ]
     },
     "metadata": {},
     "output_type": "display_data"
    }
   ],
   "source": [
    "production_date = pd.DataFrame(data['Review_Date'].value_counts()).reset_index()\n",
    "production_date.sort_values(by = 'index', inplace = True)\n",
    "plt.plot(production_date['index'],production_date['Review_Date'].tolist())\n",
    "plt.show()"
   ]
  },
  {
   "cell_type": "code",
   "execution_count": 60,
   "metadata": {},
   "outputs": [
    {
     "data": {
      "text/html": [
       "<div>\n",
       "<style scoped>\n",
       "    .dataframe tbody tr th:only-of-type {\n",
       "        vertical-align: middle;\n",
       "    }\n",
       "\n",
       "    .dataframe tbody tr th {\n",
       "        vertical-align: top;\n",
       "    }\n",
       "\n",
       "    .dataframe thead th {\n",
       "        text-align: right;\n",
       "    }\n",
       "</style>\n",
       "<table border=\"1\" class=\"dataframe\">\n",
       "  <thead>\n",
       "    <tr style=\"text-align: right;\">\n",
       "      <th></th>\n",
       "      <th>Amsterdam</th>\n",
       "      <th>Argentina</th>\n",
       "      <th>Australia</th>\n",
       "      <th>Austria</th>\n",
       "      <th>Belgium</th>\n",
       "      <th>Bolivia</th>\n",
       "      <th>Brazil</th>\n",
       "      <th>Canada</th>\n",
       "      <th>Chile</th>\n",
       "      <th>Colombia</th>\n",
       "      <th>...</th>\n",
       "      <th>Spain</th>\n",
       "      <th>St. Lucia</th>\n",
       "      <th>Suriname</th>\n",
       "      <th>Sweden</th>\n",
       "      <th>Switzerland</th>\n",
       "      <th>U.K.</th>\n",
       "      <th>U.S.A.</th>\n",
       "      <th>Venezuela</th>\n",
       "      <th>Vietnam</th>\n",
       "      <th>Wales</th>\n",
       "    </tr>\n",
       "  </thead>\n",
       "  <tbody>\n",
       "    <tr>\n",
       "      <th>0</th>\n",
       "      <td>0</td>\n",
       "      <td>0</td>\n",
       "      <td>0</td>\n",
       "      <td>0</td>\n",
       "      <td>0</td>\n",
       "      <td>0</td>\n",
       "      <td>0</td>\n",
       "      <td>0</td>\n",
       "      <td>0</td>\n",
       "      <td>0</td>\n",
       "      <td>...</td>\n",
       "      <td>0</td>\n",
       "      <td>0</td>\n",
       "      <td>0</td>\n",
       "      <td>0</td>\n",
       "      <td>0</td>\n",
       "      <td>0</td>\n",
       "      <td>0</td>\n",
       "      <td>0</td>\n",
       "      <td>0</td>\n",
       "      <td>0</td>\n",
       "    </tr>\n",
       "  </tbody>\n",
       "</table>\n",
       "<p>1 rows × 60 columns</p>\n",
       "</div>"
      ],
      "text/plain": [
       "   Amsterdam  Argentina  Australia  Austria  Belgium  Bolivia  Brazil  Canada  \\\n",
       "0          0          0          0        0        0        0       0       0   \n",
       "\n",
       "   Chile  Colombia  ...    Spain  St. Lucia  Suriname  Sweden  Switzerland  \\\n",
       "0      0         0  ...        0          0         0       0            0   \n",
       "\n",
       "   U.K.  U.S.A.  Venezuela  Vietnam  Wales  \n",
       "0     0       0          0        0      0  \n",
       "\n",
       "[1 rows x 60 columns]"
      ]
     },
     "execution_count": 60,
     "metadata": {},
     "output_type": "execute_result"
    }
   ],
   "source": [
    "pd.get_dummies(data['Location']).iloc[0:1]"
   ]
  },
  {
   "cell_type": "code",
   "execution_count": 61,
   "metadata": {},
   "outputs": [
    {
     "data": {
      "text/html": [
       "<div>\n",
       "<style scoped>\n",
       "    .dataframe tbody tr th:only-of-type {\n",
       "        vertical-align: middle;\n",
       "    }\n",
       "\n",
       "    .dataframe tbody tr th {\n",
       "        vertical-align: top;\n",
       "    }\n",
       "\n",
       "    .dataframe thead th {\n",
       "        text-align: right;\n",
       "    }\n",
       "</style>\n",
       "<table border=\"1\" class=\"dataframe\">\n",
       "  <thead>\n",
       "    <tr style=\"text-align: right;\">\n",
       "      <th></th>\n",
       "      <th>Amazon</th>\n",
       "      <th>Amazon mix</th>\n",
       "      <th>Amazon, ICS</th>\n",
       "      <th>Beniano</th>\n",
       "      <th>Blend</th>\n",
       "      <th>Blend-Forastero,Criollo</th>\n",
       "      <th>CCN51</th>\n",
       "      <th>Criollo</th>\n",
       "      <th>Criollo (Amarru)</th>\n",
       "      <th>Criollo (Ocumare 61)</th>\n",
       "      <th>...</th>\n",
       "      <th>Nacional</th>\n",
       "      <th>Nacional (Arriba)</th>\n",
       "      <th>Trinitario</th>\n",
       "      <th>Trinitario (85% Criollo)</th>\n",
       "      <th>Trinitario (Amelonado)</th>\n",
       "      <th>Trinitario (Scavina)</th>\n",
       "      <th>Trinitario, Criollo</th>\n",
       "      <th>Trinitario, Forastero</th>\n",
       "      <th>Trinitario, Nacional</th>\n",
       "      <th>Trinitario, TCGA</th>\n",
       "    </tr>\n",
       "  </thead>\n",
       "  <tbody>\n",
       "    <tr>\n",
       "      <th>0</th>\n",
       "      <td>0</td>\n",
       "      <td>0</td>\n",
       "      <td>0</td>\n",
       "      <td>0</td>\n",
       "      <td>0</td>\n",
       "      <td>0</td>\n",
       "      <td>0</td>\n",
       "      <td>0</td>\n",
       "      <td>0</td>\n",
       "      <td>0</td>\n",
       "      <td>...</td>\n",
       "      <td>0</td>\n",
       "      <td>0</td>\n",
       "      <td>0</td>\n",
       "      <td>0</td>\n",
       "      <td>0</td>\n",
       "      <td>0</td>\n",
       "      <td>0</td>\n",
       "      <td>0</td>\n",
       "      <td>0</td>\n",
       "      <td>0</td>\n",
       "    </tr>\n",
       "  </tbody>\n",
       "</table>\n",
       "<p>1 rows × 40 columns</p>\n",
       "</div>"
      ],
      "text/plain": [
       "   Amazon  Amazon mix  Amazon, ICS  Beniano  Blend  Blend-Forastero,Criollo  \\\n",
       "0       0           0            0        0      0                        0   \n",
       "\n",
       "   CCN51  Criollo  Criollo (Amarru)  Criollo (Ocumare 61)        ...         \\\n",
       "0      0        0                 0                     0        ...          \n",
       "\n",
       "   Nacional  Nacional (Arriba)  Trinitario  Trinitario (85% Criollo)  \\\n",
       "0         0                  0           0                         0   \n",
       "\n",
       "   Trinitario (Amelonado)  Trinitario (Scavina)  Trinitario, Criollo  \\\n",
       "0                       0                     0                    0   \n",
       "\n",
       "   Trinitario, Forastero  Trinitario, Nacional  Trinitario, TCGA  \n",
       "0                      0                     0                 0  \n",
       "\n",
       "[1 rows x 40 columns]"
      ]
     },
     "execution_count": 61,
     "metadata": {},
     "output_type": "execute_result"
    }
   ],
   "source": [
    "pd.get_dummies(data['Type']).iloc[0:1]"
   ]
  },
  {
   "cell_type": "code",
   "execution_count": 62,
   "metadata": {},
   "outputs": [
    {
     "data": {
      "text/html": [
       "<div>\n",
       "<style scoped>\n",
       "    .dataframe tbody tr th:only-of-type {\n",
       "        vertical-align: middle;\n",
       "    }\n",
       "\n",
       "    .dataframe tbody tr th {\n",
       "        vertical-align: top;\n",
       "    }\n",
       "\n",
       "    .dataframe thead th {\n",
       "        text-align: right;\n",
       "    }\n",
       "</style>\n",
       "<table border=\"1\" class=\"dataframe\">\n",
       "  <thead>\n",
       "    <tr style=\"text-align: right;\">\n",
       "      <th></th>\n",
       "      <th>Africa, Carribean, C. Am.</th>\n",
       "      <th>Australia</th>\n",
       "      <th>Belize</th>\n",
       "      <th>Bolivia</th>\n",
       "      <th>Brazil</th>\n",
       "      <th>Burma</th>\n",
       "      <th>Cameroon</th>\n",
       "      <th>Carribean</th>\n",
       "      <th>Carribean(DR/Jam/Tri)</th>\n",
       "      <th>Central and S. America</th>\n",
       "      <th>...</th>\n",
       "      <th>Venez,Africa,Brasil,Peru,Mex</th>\n",
       "      <th>Venezuela</th>\n",
       "      <th>Venezuela, Carribean</th>\n",
       "      <th>Venezuela, Dom. Rep.</th>\n",
       "      <th>Venezuela, Ghana</th>\n",
       "      <th>Venezuela, Java</th>\n",
       "      <th>Venezuela, Trinidad</th>\n",
       "      <th>Venezuela/ Ghana</th>\n",
       "      <th>Vietnam</th>\n",
       "      <th>West Africa</th>\n",
       "    </tr>\n",
       "  </thead>\n",
       "  <tbody>\n",
       "    <tr>\n",
       "      <th>0</th>\n",
       "      <td>0</td>\n",
       "      <td>0</td>\n",
       "      <td>0</td>\n",
       "      <td>0</td>\n",
       "      <td>0</td>\n",
       "      <td>0</td>\n",
       "      <td>0</td>\n",
       "      <td>0</td>\n",
       "      <td>0</td>\n",
       "      <td>0</td>\n",
       "      <td>...</td>\n",
       "      <td>0</td>\n",
       "      <td>0</td>\n",
       "      <td>0</td>\n",
       "      <td>0</td>\n",
       "      <td>0</td>\n",
       "      <td>0</td>\n",
       "      <td>0</td>\n",
       "      <td>0</td>\n",
       "      <td>0</td>\n",
       "      <td>0</td>\n",
       "    </tr>\n",
       "  </tbody>\n",
       "</table>\n",
       "<p>1 rows × 99 columns</p>\n",
       "</div>"
      ],
      "text/plain": [
       "   Africa, Carribean, C. Am.  Australia  Belize  Bolivia  Brazil  Burma  \\\n",
       "0                          0          0       0        0       0      0   \n",
       "\n",
       "   Cameroon  Carribean  Carribean(DR/Jam/Tri)  Central and S. America  \\\n",
       "0         0          0                      0                       0   \n",
       "\n",
       "      ...       Venez,Africa,Brasil,Peru,Mex  Venezuela  Venezuela, Carribean  \\\n",
       "0     ...                                  0          0                     0   \n",
       "\n",
       "   Venezuela, Dom. Rep.  Venezuela, Ghana  Venezuela, Java  \\\n",
       "0                     0                 0                0   \n",
       "\n",
       "   Venezuela, Trinidad  Venezuela/ Ghana  Vietnam  West Africa  \n",
       "0                    0                 0        0            0  \n",
       "\n",
       "[1 rows x 99 columns]"
      ]
     },
     "execution_count": 62,
     "metadata": {},
     "output_type": "execute_result"
    }
   ],
   "source": [
    "pd.get_dummies(data['Bean_Origin']).iloc[0:1]"
   ]
  },
  {
   "cell_type": "code",
   "execution_count": 63,
   "metadata": {},
   "outputs": [],
   "source": [
    "Type = pd.get_dummies(data['Type'])\n",
    "Type.columns = [x+' (Type)' for x in Type.columns]\n",
    "\n",
    "Bean_Origin = pd.get_dummies(data['Bean_Origin'])\n",
    "Bean_Origin.columns = [x+' (Bean_Origin)' for x in Bean_Origin.columns]\n",
    "\n",
    "data = pd.concat([data,Type,Bean_Origin],1)"
   ]
  },
  {
   "cell_type": "code",
   "execution_count": 64,
   "metadata": {},
   "outputs": [],
   "source": [
    "y = data.pop('Rating')"
   ]
  },
  {
   "cell_type": "code",
   "execution_count": 65,
   "metadata": {},
   "outputs": [
    {
     "data": {
      "text/plain": [
       "0    3.75\n",
       "1    2.75\n",
       "2    3.00\n",
       "3    3.50\n",
       "4    3.50\n",
       "Name: Rating, dtype: float64"
      ]
     },
     "execution_count": 65,
     "metadata": {},
     "output_type": "execute_result"
    }
   ],
   "source": [
    "y.iloc[0:5]"
   ]
  },
  {
   "cell_type": "code",
   "execution_count": 66,
   "metadata": {},
   "outputs": [],
   "source": [
    "name = data.pop('Name')"
   ]
  },
  {
   "cell_type": "code",
   "execution_count": 67,
   "metadata": {},
   "outputs": [],
   "source": [
    "data = keep_numbers(data)\n",
    "data = data[data.columns[2:]]"
   ]
  },
  {
   "cell_type": "code",
   "execution_count": 68,
   "metadata": {},
   "outputs": [],
   "source": [
    "from sklearn.decomposition import PCA\n",
    "\n",
    "pca = PCA(n_components = 2)\n",
    "pca.fit(data)\n",
    "X = pca.transform(data)"
   ]
  },
  {
   "cell_type": "code",
   "execution_count": 69,
   "metadata": {},
   "outputs": [
    {
     "data": {
      "text/plain": [
       "array([[ 8.69871594, -0.19392614],\n",
       "       [ 1.69882146, -0.18605489],\n",
       "       [ 1.69882146, -0.18605489],\n",
       "       [ 1.69882146, -0.18605489],\n",
       "       [ 1.70105944, -0.34399242],\n",
       "       [ 1.6969603 , -0.29118596],\n",
       "       [ 1.69831378, -0.17820458],\n",
       "       [ 1.6969603 , -0.29118596],\n",
       "       [ 1.6969603 , -0.29118596],\n",
       "       [ 1.70105944, -0.34399242]])"
      ]
     },
     "execution_count": 69,
     "metadata": {},
     "output_type": "execute_result"
    }
   ],
   "source": [
    "X[0:10]"
   ]
  },
  {
   "cell_type": "code",
   "execution_count": 70,
   "metadata": {},
   "outputs": [
    {
     "data": {
      "image/png": "[encoded data removed]",
      "text/plain": [
       "<matplotlib.figure.Figure at 0x268448ad780>"
      ]
     },
     "metadata": {},
     "output_type": "display_data"
    }
   ],
   "source": [
    "plt.scatter(X[:,0], X[:,1])\n",
    "plt.show()"
   ]
  },
  {
   "cell_type": "code",
   "execution_count": 71,
   "metadata": {},
   "outputs": [],
   "source": [
    "bad = y < 2"
   ]
  },
  {
   "cell_type": "code",
   "execution_count": 72,
   "metadata": {},
   "outputs": [
    {
     "data": {
      "image/png": "[encoded data removed]",
      "text/plain": [
       "<matplotlib.figure.Figure at 0x268445fbac8>"
      ]
     },
     "metadata": {},
     "output_type": "display_data"
    }
   ],
   "source": [
    "plt.scatter(X[:,0], X[:,1], c = bad)\n",
    "plt.show()"
   ]
  },
  {
   "cell_type": "code",
   "execution_count": 73,
   "metadata": {},
   "outputs": [
    {
     "data": {
      "text/plain": [
       "(3.185933147632312, 3.25, 5.0)"
      ]
     },
     "execution_count": 73,
     "metadata": {},
     "output_type": "execute_result"
    }
   ],
   "source": [
    "y.mean(),y.median(),y.max()"
   ]
  },
  {
   "cell_type": "code",
   "execution_count": 74,
   "metadata": {},
   "outputs": [],
   "source": [
    "good = y > 3.25"
   ]
  },
  {
   "cell_type": "code",
   "execution_count": 75,
   "metadata": {},
   "outputs": [
    {
     "data": {
      "image/png": "[encoded data removed]",
      "text/plain": [
       "<matplotlib.figure.Figure at 0x268439afcc0>"
      ]
     },
     "metadata": {},
     "output_type": "display_data"
    }
   ],
   "source": [
    "plt.scatter(X[:,0], X[:,1], c = good)\n",
    "plt.show()"
   ]
  },
  {
   "cell_type": "code",
   "execution_count": 109,
   "metadata": {},
   "outputs": [],
   "source": [
    "from sklearn.cluster import DBSCAN\n",
    "clustering = DBSCAN(2)\n",
    "clustering.fit(data)\n",
    "labels = clustering.labels_"
   ]
  },
  {
   "cell_type": "code",
   "execution_count": 110,
   "metadata": {},
   "outputs": [
    {
     "data": {
      "text/plain": [
       "array([0, 0, 0, ..., 0, 0, 0], dtype=int64)"
      ]
     },
     "execution_count": 110,
     "metadata": {},
     "output_type": "execute_result"
    }
   ],
   "source": [
    "labels"
   ]
  },
  {
   "cell_type": "code",
   "execution_count": 111,
   "metadata": {},
   "outputs": [
    {
     "data": {
      "image/png": "[encoded data removed]",
      "text/plain": [
       "<matplotlib.figure.Figure at 0x26844b5f8d0>"
      ]
     },
     "metadata": {},
     "output_type": "display_data"
    }
   ],
   "source": [
    "plt.scatter(*X.T, c = labels)\n",
    "plt.show()"
   ]
  },
  {
   "cell_type": "code",
   "execution_count": 113,
   "metadata": {},
   "outputs": [
    {
     "data": {
      "image/png": "[encoded data removed]",
      "text/plain": [
       "<matplotlib.figure.Figure at 0x26844b012b0>"
      ]
     },
     "metadata": {},
     "output_type": "display_data"
    }
   ],
   "source": [
    "from sklearn.cluster import Birch\n",
    "clustering = Birch(n_clusters = 2)\n",
    "clustering.fit(data)\n",
    "labels = clustering.labels_\n",
    "\n",
    "plt.scatter(*X.T, c = labels)\n",
    "plt.show()"
   ]
  },
  {
   "cell_type": "code",
   "execution_count": 125,
   "metadata": {},
   "outputs": [
    {
     "data": {
      "image/png": "[encoded data removed]",
      "text/plain": [
       "<matplotlib.figure.Figure at 0x26844619518>"
      ]
     },
     "metadata": {},
     "output_type": "display_data"
    }
   ],
   "source": [
    "from sklearn.mixture import GaussianMixture\n",
    "clustering = GaussianMixture(n_components = 2)\n",
    "clustering.fit(X)\n",
    "labels = clustering.predict(X)\n",
    "\n",
    "plt.scatter(*X.T, c = labels)\n",
    "plt.show()"
   ]
  },
  {
   "cell_type": "code",
   "execution_count": 134,
   "metadata": {},
   "outputs": [
    {
     "data": {
      "text/plain": [
       "count    419.000000\n",
       "mean       3.245823\n",
       "std        0.421265\n",
       "min        1.750000\n",
       "25%        3.000000\n",
       "50%        3.250000\n",
       "75%        3.500000\n",
       "max        5.000000\n",
       "Name: Rating, dtype: float64"
      ]
     },
     "execution_count": 134,
     "metadata": {},
     "output_type": "execute_result"
    }
   ],
   "source": [
    "y.loc[np.where(labels == 0)].describe()"
   ]
  },
  {
   "cell_type": "code",
   "execution_count": 135,
   "metadata": {},
   "outputs": [
    {
     "data": {
      "text/plain": [
       "count    1376.000000\n",
       "mean        3.167696\n",
       "std         0.492760\n",
       "min         1.000000\n",
       "25%         2.750000\n",
       "50%         3.250000\n",
       "75%         3.500000\n",
       "max         5.000000\n",
       "Name: Rating, dtype: float64"
      ]
     },
     "execution_count": 135,
     "metadata": {},
     "output_type": "execute_result"
    }
   ],
   "source": [
    "y.loc[np.where(labels == 1)].describe()"
   ]
  },
  {
   "cell_type": "code",
   "execution_count": 142,
   "metadata": {},
   "outputs": [],
   "source": [
    "good = X[np.where(labels == 0)]\n",
    "y_good = y.loc[np.where(labels == 0)]"
   ]
  },
  {
   "cell_type": "code",
   "execution_count": 165,
   "metadata": {},
   "outputs": [
    {
     "data": {
      "text/plain": [
       "<matplotlib.collections.PathCollection at 0x2684399ba58>"
      ]
     },
     "execution_count": 165,
     "metadata": {},
     "output_type": "execute_result"
    },
    {
     "data": {
      "image/png": "[encoded data removed]",
      "text/plain": [
       "<matplotlib.figure.Figure at 0x268448c3dd8>"
      ]
     },
     "metadata": {},
     "output_type": "display_data"
    }
   ],
   "source": [
    "plt.scatter( *good.T , c = y_good, vmin = y.min(), vmax = y.max())"
   ]
  },
  {
   "cell_type": "code",
   "execution_count": 218,
   "metadata": {},
   "outputs": [
    {
     "data": {
      "image/png": "[encoded data removed]",
      "text/plain": [
       "<matplotlib.figure.Figure at 0x268475874e0>"
      ]
     },
     "metadata": {},
     "output_type": "display_data"
    }
   ],
   "source": [
    "from sklearn.mixture import GaussianMixture\n",
    "N = 4\n",
    "clustering2 = GaussianMixture(n_components = N)\n",
    "clustering2.fit(good)\n",
    "labels = clustering2.predict(good)\n",
    "\n",
    "plt.scatter(*good.T, c = labels)\n",
    "plt.colorbar()\n",
    "plt.show()"
   ]
  },
  {
   "cell_type": "code",
   "execution_count": 219,
   "metadata": {},
   "outputs": [
    {
     "name": "stdout",
     "output_type": "stream",
     "text": [
      "count    129.000000\n",
      "mean       3.313953\n",
      "std        0.469041\n",
      "min        2.000000\n",
      "25%        3.000000\n",
      "50%        3.500000\n",
      "75%        3.500000\n",
      "max        5.000000\n",
      "Name: Rating, dtype: float64\n",
      "count    138.000000\n",
      "mean       3.181159\n",
      "std        0.379406\n",
      "min        1.750000\n",
      "25%        3.000000\n",
      "50%        3.250000\n",
      "75%        3.500000\n",
      "max        4.000000\n",
      "Name: Rating, dtype: float64\n",
      "count    56.000000\n",
      "mean      3.250000\n",
      "std       0.407319\n",
      "min       2.500000\n",
      "25%       3.000000\n",
      "50%       3.250000\n",
      "75%       3.500000\n",
      "max       4.000000\n",
      "Name: Rating, dtype: float64\n",
      "count    96.000000\n",
      "mean      3.244792\n",
      "std       0.410358\n",
      "min       2.250000\n",
      "25%       3.000000\n",
      "50%       3.250000\n",
      "75%       3.500000\n",
      "max       4.000000\n",
      "Name: Rating, dtype: float64\n"
     ]
    }
   ],
   "source": [
    "for x in range(N):\n",
    "    print(y_good.iloc[np.where(labels == x)].describe())"
   ]
  },
  {
   "cell_type": "code",
   "execution_count": 223,
   "metadata": {},
   "outputs": [],
   "source": [
    "inversed = pca.inverse_transform(X[np.where(labels == 0)])"
   ]
  },
  {
   "cell_type": "code",
   "execution_count": 234,
   "metadata": {},
   "outputs": [
    {
     "data": {
      "text/html": [
       "<div>\n",
       "<style scoped>\n",
       "    .dataframe tbody tr th:only-of-type {\n",
       "        vertical-align: middle;\n",
       "    }\n",
       "\n",
       "    .dataframe tbody tr th {\n",
       "        vertical-align: top;\n",
       "    }\n",
       "\n",
       "    .dataframe thead th {\n",
       "        text-align: right;\n",
       "    }\n",
       "</style>\n",
       "<table border=\"1\" class=\"dataframe\">\n",
       "  <thead>\n",
       "    <tr style=\"text-align: right;\">\n",
       "      <th></th>\n",
       "      <th>0</th>\n",
       "    </tr>\n",
       "  </thead>\n",
       "  <tbody>\n",
       "    <tr>\n",
       "      <th>0</th>\n",
       "      <td>0.999981</td>\n",
       "    </tr>\n",
       "    <tr>\n",
       "      <th>62</th>\n",
       "      <td>0.004329</td>\n",
       "    </tr>\n",
       "    <tr>\n",
       "      <th>96</th>\n",
       "      <td>0.002309</td>\n",
       "    </tr>\n",
       "    <tr>\n",
       "      <th>43</th>\n",
       "      <td>0.001197</td>\n",
       "    </tr>\n",
       "    <tr>\n",
       "      <th>131</th>\n",
       "      <td>0.001119</td>\n",
       "    </tr>\n",
       "    <tr>\n",
       "      <th>86</th>\n",
       "      <td>0.001024</td>\n",
       "    </tr>\n",
       "    <tr>\n",
       "      <th>77</th>\n",
       "      <td>0.001012</td>\n",
       "    </tr>\n",
       "    <tr>\n",
       "      <th>138</th>\n",
       "      <td>0.000969</td>\n",
       "    </tr>\n",
       "    <tr>\n",
       "      <th>26</th>\n",
       "      <td>0.000958</td>\n",
       "    </tr>\n",
       "    <tr>\n",
       "      <th>51</th>\n",
       "      <td>0.000808</td>\n",
       "    </tr>\n",
       "  </tbody>\n",
       "</table>\n",
       "</div>"
      ],
      "text/plain": [
       "            0\n",
       "0    0.999981\n",
       "62   0.004329\n",
       "96   0.002309\n",
       "43   0.001197\n",
       "131  0.001119\n",
       "86   0.001024\n",
       "77   0.001012\n",
       "138  0.000969\n",
       "26   0.000958\n",
       "51   0.000808"
      ]
     },
     "execution_count": 234,
     "metadata": {},
     "output_type": "execute_result"
    }
   ],
   "source": [
    "np.abs(pd.DataFrame(pca.components_[0])).sort_values(by = 0, ascending = False).iloc[0:10]"
   ]
  },
  {
   "cell_type": "code",
   "execution_count": 245,
   "metadata": {},
   "outputs": [],
   "source": [
    "want = np.abs(pd.DataFrame(pca.components_[0])).sort_values(by = 0, ascending = False).iloc[0:4].index"
   ]
  },
  {
   "cell_type": "code",
   "execution_count": 246,
   "metadata": {},
   "outputs": [
    {
     "data": {
      "text/html": [
       "<div>\n",
       "<style scoped>\n",
       "    .dataframe tbody tr th:only-of-type {\n",
       "        vertical-align: middle;\n",
       "    }\n",
       "\n",
       "    .dataframe tbody tr th {\n",
       "        vertical-align: top;\n",
       "    }\n",
       "\n",
       "    .dataframe thead th {\n",
       "        text-align: right;\n",
       "    }\n",
       "</style>\n",
       "<table border=\"1\" class=\"dataframe\">\n",
       "  <thead>\n",
       "    <tr style=\"text-align: right;\">\n",
       "      <th></th>\n",
       "      <th>0</th>\n",
       "      <th>62</th>\n",
       "      <th>96</th>\n",
       "      <th>43</th>\n",
       "    </tr>\n",
       "  </thead>\n",
       "  <tbody>\n",
       "    <tr>\n",
       "      <th>0</th>\n",
       "      <td>62.999696</td>\n",
       "      <td>0.101217</td>\n",
       "      <td>0.142922</td>\n",
       "      <td>0.001690</td>\n",
       "    </tr>\n",
       "    <tr>\n",
       "      <th>1</th>\n",
       "      <td>69.999547</td>\n",
       "      <td>0.130568</td>\n",
       "      <td>0.125821</td>\n",
       "      <td>0.010527</td>\n",
       "    </tr>\n",
       "    <tr>\n",
       "      <th>2</th>\n",
       "      <td>69.999070</td>\n",
       "      <td>0.133748</td>\n",
       "      <td>0.128959</td>\n",
       "      <td>0.008984</td>\n",
       "    </tr>\n",
       "    <tr>\n",
       "      <th>3</th>\n",
       "      <td>69.998724</td>\n",
       "      <td>0.130264</td>\n",
       "      <td>0.125526</td>\n",
       "      <td>0.010672</td>\n",
       "    </tr>\n",
       "    <tr>\n",
       "      <th>4</th>\n",
       "      <td>70.001285</td>\n",
       "      <td>-0.018939</td>\n",
       "      <td>-0.021608</td>\n",
       "      <td>0.083014</td>\n",
       "    </tr>\n",
       "    <tr>\n",
       "      <th>5</th>\n",
       "      <td>69.997158</td>\n",
       "      <td>0.155770</td>\n",
       "      <td>0.150686</td>\n",
       "      <td>-0.001699</td>\n",
       "    </tr>\n",
       "    <tr>\n",
       "      <th>6</th>\n",
       "      <td>69.997158</td>\n",
       "      <td>0.155770</td>\n",
       "      <td>0.150686</td>\n",
       "      <td>-0.001699</td>\n",
       "    </tr>\n",
       "    <tr>\n",
       "      <th>7</th>\n",
       "      <td>62.997420</td>\n",
       "      <td>0.125940</td>\n",
       "      <td>0.167315</td>\n",
       "      <td>-0.010303</td>\n",
       "    </tr>\n",
       "    <tr>\n",
       "      <th>8</th>\n",
       "      <td>69.999522</td>\n",
       "      <td>0.135309</td>\n",
       "      <td>0.130496</td>\n",
       "      <td>0.008228</td>\n",
       "    </tr>\n",
       "    <tr>\n",
       "      <th>9</th>\n",
       "      <td>69.997158</td>\n",
       "      <td>0.155770</td>\n",
       "      <td>0.150686</td>\n",
       "      <td>-0.001699</td>\n",
       "    </tr>\n",
       "  </tbody>\n",
       "</table>\n",
       "</div>"
      ],
      "text/plain": [
       "          0         62        96        43\n",
       "0  62.999696  0.101217  0.142922  0.001690\n",
       "1  69.999547  0.130568  0.125821  0.010527\n",
       "2  69.999070  0.133748  0.128959  0.008984\n",
       "3  69.998724  0.130264  0.125526  0.010672\n",
       "4  70.001285 -0.018939 -0.021608  0.083014\n",
       "5  69.997158  0.155770  0.150686 -0.001699\n",
       "6  69.997158  0.155770  0.150686 -0.001699\n",
       "7  62.997420  0.125940  0.167315 -0.010303\n",
       "8  69.999522  0.135309  0.130496  0.008228\n",
       "9  69.997158  0.155770  0.150686 -0.001699"
      ]
     },
     "execution_count": 246,
     "metadata": {},
     "output_type": "execute_result"
    }
   ],
   "source": [
    "pd.DataFrame(inversed)[want].head(10)"
   ]
  },
  {
   "cell_type": "code",
   "execution_count": 247,
   "metadata": {},
   "outputs": [
    {
     "data": {
      "text/plain": [
       "Index(['%Cocoa', 'Ecuador (Bean_Origin)', 'Peru (Bean_Origin)',\n",
       "       'Belize (Bean_Origin)'],\n",
       "      dtype='object')"
      ]
     },
     "execution_count": 247,
     "metadata": {},
     "output_type": "execute_result"
    }
   ],
   "source": [
    "data.columns[want]"
   ]
  },
  {
   "cell_type": "code",
   "execution_count": 248,
   "metadata": {},
   "outputs": [
    {
     "data": {
      "text/html": [
       "<div>\n",
       "<style scoped>\n",
       "    .dataframe tbody tr th:only-of-type {\n",
       "        vertical-align: middle;\n",
       "    }\n",
       "\n",
       "    .dataframe tbody tr th {\n",
       "        vertical-align: top;\n",
       "    }\n",
       "\n",
       "    .dataframe thead th {\n",
       "        text-align: right;\n",
       "    }\n",
       "</style>\n",
       "<table border=\"1\" class=\"dataframe\">\n",
       "  <thead>\n",
       "    <tr style=\"text-align: right;\">\n",
       "      <th></th>\n",
       "      <th>%Cocoa</th>\n",
       "      <th>Ecuador (Bean_Origin)</th>\n",
       "      <th>Peru (Bean_Origin)</th>\n",
       "      <th>Belize (Bean_Origin)</th>\n",
       "    </tr>\n",
       "  </thead>\n",
       "  <tbody>\n",
       "    <tr>\n",
       "      <th>count</th>\n",
       "      <td>129.000000</td>\n",
       "      <td>129.000000</td>\n",
       "      <td>129.000000</td>\n",
       "      <td>129.000000</td>\n",
       "    </tr>\n",
       "    <tr>\n",
       "      <th>mean</th>\n",
       "      <td>71.651229</td>\n",
       "      <td>0.097986</td>\n",
       "      <td>0.082830</td>\n",
       "      <td>0.031766</td>\n",
       "    </tr>\n",
       "    <tr>\n",
       "      <th>std</th>\n",
       "      <td>5.917083</td>\n",
       "      <td>0.079893</td>\n",
       "      <td>0.081080</td>\n",
       "      <td>0.039975</td>\n",
       "    </tr>\n",
       "    <tr>\n",
       "      <th>min</th>\n",
       "      <td>55.005085</td>\n",
       "      <td>-0.084916</td>\n",
       "      <td>-0.094146</td>\n",
       "      <td>-0.023233</td>\n",
       "    </tr>\n",
       "    <tr>\n",
       "      <th>25%</th>\n",
       "      <td>69.999070</td>\n",
       "      <td>0.014418</td>\n",
       "      <td>-0.012522</td>\n",
       "      <td>0.003810</td>\n",
       "    </tr>\n",
       "    <tr>\n",
       "      <th>50%</th>\n",
       "      <td>70.003795</td>\n",
       "      <td>0.132532</td>\n",
       "      <td>0.119512</td>\n",
       "      <td>0.013812</td>\n",
       "    </tr>\n",
       "    <tr>\n",
       "      <th>75%</th>\n",
       "      <td>74.999304</td>\n",
       "      <td>0.155705</td>\n",
       "      <td>0.139946</td>\n",
       "      <td>0.078546</td>\n",
       "    </tr>\n",
       "    <tr>\n",
       "      <th>max</th>\n",
       "      <td>90.003045</td>\n",
       "      <td>0.241391</td>\n",
       "      <td>0.192616</td>\n",
       "      <td>0.119413</td>\n",
       "    </tr>\n",
       "  </tbody>\n",
       "</table>\n",
       "</div>"
      ],
      "text/plain": [
       "           %Cocoa  Ecuador (Bean_Origin)  Peru (Bean_Origin)  \\\n",
       "count  129.000000             129.000000          129.000000   \n",
       "mean    71.651229               0.097986            0.082830   \n",
       "std      5.917083               0.079893            0.081080   \n",
       "min     55.005085              -0.084916           -0.094146   \n",
       "25%     69.999070               0.014418           -0.012522   \n",
       "50%     70.003795               0.132532            0.119512   \n",
       "75%     74.999304               0.155705            0.139946   \n",
       "max     90.003045               0.241391            0.192616   \n",
       "\n",
       "       Belize (Bean_Origin)  \n",
       "count            129.000000  \n",
       "mean               0.031766  \n",
       "std                0.039975  \n",
       "min               -0.023233  \n",
       "25%                0.003810  \n",
       "50%                0.013812  \n",
       "75%                0.078546  \n",
       "max                0.119413  "
      ]
     },
     "execution_count": 248,
     "metadata": {},
     "output_type": "execute_result"
    }
   ],
   "source": [
    "good = pd.DataFrame(inversed)[want]\n",
    "good.columns = data.columns[want].tolist()\n",
    "good.describe()"
   ]
  },
  {
   "cell_type": "code",
   "execution_count": 260,
   "metadata": {},
   "outputs": [
    {
     "data": {
      "text/plain": [
       "count    540.000000\n",
       "mean       3.278241\n",
       "std        0.441382\n",
       "min        1.000000\n",
       "25%        3.000000\n",
       "50%        3.250000\n",
       "75%        3.500000\n",
       "max        5.000000\n",
       "Name: Rating, dtype: float64"
      ]
     },
     "execution_count": 260,
     "metadata": {},
     "output_type": "execute_result"
    }
   ],
   "source": [
    "select = (69.9 < data['%Cocoa']) & (data['%Cocoa'] < 72) & (data['Ecuador (Bean_Origin)'] < 0.16) & (data['Peru (Bean_Origin)'] < 0.14) & (data['Belize (Bean_Origin)'] < 0.08)\n",
    "\n",
    "y.loc[data.loc[select].index].describe()"
   ]
  },
  {
   "cell_type": "code",
   "execution_count": 262,
   "metadata": {},
   "outputs": [
    {
     "data": {
      "text/plain": [
       "count    1255.000000\n",
       "mean        3.146215\n",
       "std         0.487826\n",
       "min         1.000000\n",
       "25%         2.750000\n",
       "50%         3.250000\n",
       "75%         3.500000\n",
       "max         4.000000\n",
       "Name: Rating, dtype: float64"
      ]
     },
     "execution_count": 262,
     "metadata": {},
     "output_type": "execute_result"
    }
   ],
   "source": [
    "y.loc[data.loc[~select].index].describe()"
   ]
  }
 ],
 "metadata": {
  "kernelspec": {
   "display_name": "Python 3",
   "language": "python",
   "name": "python3"
  },
  "language_info": {
   "codemirror_mode": {
    "name": "ipython",
    "version": 3
   },
   "file_extension": ".py",
   "mimetype": "text/x-python",
   "name": "python",
   "nbconvert_exporter": "python",
   "pygments_lexer": "ipython3",
   "version": "3.6.3"
  }
 },
 "nbformat": 4,
 "nbformat_minor": 2
}
